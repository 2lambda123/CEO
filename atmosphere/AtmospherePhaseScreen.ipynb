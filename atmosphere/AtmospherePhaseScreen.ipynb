{
 "cells": [
  {
   "cell_type": "markdown",
   "metadata": {},
   "source": [
    "# Atmosphere Phase Screen"
   ]
  },
  {
   "cell_type": "markdown",
   "metadata": {},
   "source": [
    "Phase screens are computed with an `Atmosphere` and a `Source` object.\n",
    "Lets import the `ceo` module first."
   ]
  },
  {
   "cell_type": "code",
   "execution_count": 1,
   "metadata": {
    "collapsed": false
   },
   "outputs": [
    {
     "name": "stdout",
     "output_type": "stream",
     "text": [
      "Populating the interactive namespace from numpy and matplotlib\n"
     ]
    }
   ],
   "source": [
    "import math\n",
    "import numpy as np\n",
    "import ceo\n",
    "%pylab inline"
   ]
  },
  {
   "cell_type": "markdown",
   "metadata": {},
   "source": [
    "The atmosphere is composed of a single layer at 10km."
   ]
  },
  {
   "cell_type": "code",
   "execution_count": 2,
   "metadata": {
    "collapsed": false
   },
   "outputs": [],
   "source": [
    "atm = ceo.Atmosphere(0.15,30,altitude=10e3,wind_speed=10,wind_direction=0)"
   ]
  },
  {
   "cell_type": "markdown",
   "metadata": {},
   "source": [
    "A V band on-axis source is defined first,"
   ]
  },
  {
   "cell_type": "code",
   "execution_count": 3,
   "metadata": {
    "collapsed": false
   },
   "outputs": [],
   "source": [
    "n = 64\n",
    "src = ceo.Source(\"V\",resolution=(n,n))"
   ]
  },
  {
   "cell_type": "markdown",
   "metadata": {},
   "source": [
    "and an off-axis source at a zenith angle such as the chief rays of both source are separated by $D$ meter at 10km"
   ]
  },
  {
   "cell_type": "code",
   "execution_count": 4,
   "metadata": {
    "collapsed": false
   },
   "outputs": [],
   "source": [
    "D = 4.0\n",
    "zen_oa = D/10e3\n",
    "src_oa = ceo.Source(\"V\",zenith=zen_oa,azimuth=0,resolution=(n,n))"
   ]
  },
  {
   "cell_type": "code",
   "execution_count": 5,
   "metadata": {
    "collapsed": true
   },
   "outputs": [],
   "source": [
    "tel  = ceo.Telescope(n,D)\n",
    "src.masked(tel)\n",
    "src_oa.masked(tel)"
   ]
  },
  {
   "cell_type": "markdown",
   "metadata": {},
   "source": [
    "The $n \\times n$ phase screens of $L=8$m width each are computed next"
   ]
  },
  {
   "cell_type": "code",
   "execution_count": 8,
   "metadata": {
    "collapsed": false
   },
   "outputs": [],
   "source": [
    "L = 8.0\n",
    "p = L/(n-1)\n",
    "atm.get_phase_screen(src,p,n,p,n,0.0)\n",
    "atm.get_phase_screen(src_oa,p,n,p,n,0.0)"
   ]
  },
  {
   "cell_type": "markdown",
   "metadata": {},
   "source": [
    "The two phase screens at 10km are plotted together"
   ]
  },
  {
   "cell_type": "code",
   "execution_count": 9,
   "metadata": {
    "collapsed": false
   },
   "outputs": [
    {
     "data": {
      "text/plain": [
       "<matplotlib.colorbar.Colorbar at 0x7f65c3ec5510>"
      ]
     },
     "execution_count": 9,
     "metadata": {},
     "output_type": "execute_result"
    },
    {
     "data": {
      "image/png": "[encoded data removed]",
      "text/plain": [
       "<matplotlib.figure.Figure at 0x7f65c80e3e10>"
      ]
     },
     "metadata": {},
     "output_type": "display_data"
    }
   ],
   "source": [
    "fig,ax = subplots()\n",
    "img1 = ax.imshow(src.phase.host(units='micron'),aspect='equal',extent=[0,L,0,L])\n",
    "img1.set_clim((-5,1.5))\n",
    "hold(True)\n",
    "img2 = ax.imshow(src_oa.phase.host(units='micron'),aspect='equal',extent=[0,L,-D,L-D])\n",
    "img2.set_clim((-5,1.5))\n",
    "ax.set_xlim(0,L)\n",
    "ax.set_ylim(-D,L)\n",
    "fig.colorbar(img2, ax=ax)"
   ]
  },
  {
   "cell_type": "markdown",
   "metadata": {},
   "source": [
    "The sources can also be combined in a single `Source` object: "
   ]
  },
  {
   "cell_type": "code",
   "execution_count": 10,
   "metadata": {
    "collapsed": false
   },
   "outputs": [
    {
     "data": {
      "text/plain": [
       "<matplotlib.colorbar.Colorbar at 0x7fe5164afa10>"
      ]
     },
     "execution_count": 10,
     "metadata": {},
     "output_type": "execute_result"
    },
    {
     "data": {
      "image/png": "[encoded data removed]",
      "text/plain": [
       "<matplotlib.figure.Figure at 0x7fe518edb7d0>"
      ]
     },
     "metadata": {},
     "output_type": "display_data"
    }
   ],
   "source": [
    "srcCombo = ceo.Source(\"V\",zenith=[0,zen_oa],azimuth=[0,0],resolution=(n,n))\n",
    "atm.get_phase_screen(srcCombo,p,n,p,n,0.0)\n",
    "fig,ax = subplots()\n",
    "img = ax.imshow(srcCombo.phase.host(units='micron'))\n",
    "img.set_clim((-5,1.5))\n",
    "fig.colorbar(img, ax=ax)"
   ]
  },
  {
   "cell_type": "code",
   "execution_count": null,
   "metadata": {
    "collapsed": false
   },
   "outputs": [],
   "source": []
  }
 ],
 "metadata": {
  "anaconda-cloud": {},
  "kernelspec": {
   "display_name": "Python [default]",
   "language": "python",
   "name": "python2"
  },
  "language_info": {
   "codemirror_mode": {
    "name": "ipython",
    "version": 2
   },
   "file_extension": ".py",
   "mimetype": "text/x-python",
   "name": "python",
   "nbconvert_exporter": "python",
   "pygments_lexer": "ipython2",
   "version": "2.7.12"
  }
 },
 "nbformat": 4,
 "nbformat_minor": 0
}
