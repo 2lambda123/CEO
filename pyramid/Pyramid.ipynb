{
 "cells": [
  {
   "cell_type": "code",
   "execution_count": 9,
   "metadata": {
    "collapsed": false
   },
   "outputs": [
    {
     "name": "stdout",
     "output_type": "stream",
     "text": [
      "Populating the interactive namespace from numpy and matplotlib\n"
     ]
    }
   ],
   "source": [
    "import numpy as np\n",
    "import ceo\n",
    "%pylab inline"
   ]
  },
  {
   "cell_type": "code",
   "execution_count": 10,
   "metadata": {
    "collapsed": true
   },
   "outputs": [],
   "source": [
    "N_SIDE_LENSLET=10\n",
    "n = N_SIDE_LENSLET*10\n",
    "tel = ceo.Telescope(n,25.5)"
   ]
  },
  {
   "cell_type": "code",
   "execution_count": 11,
   "metadata": {
    "collapsed": false
   },
   "outputs": [],
   "source": [
    "N_GS = 3\n",
    "zen = np.linspace(0,ceo.constants.ARCMIN2RAD,N_GS)\n",
    "azi = np.zeros((1,N_GS))\n",
    "src = ceo.Source('J',resolution=(n,n),magnitude=14)\n",
    "src.masked(tel)"
   ]
  },
  {
   "cell_type": "code",
   "execution_count": 12,
   "metadata": {
    "collapsed": false
   },
   "outputs": [],
   "source": [
    "pym = ceo.Pyramid(N_SIDE_LENSLET,n,modulation=0.0,N_GS=N_GS)"
   ]
  },
  {
   "cell_type": "code",
   "execution_count": 13,
   "metadata": {
    "collapsed": false
   },
   "outputs": [
    {
     "name": "stdout",
     "output_type": "stream",
     "text": [
      "1.22051203251\n"
     ]
    }
   ],
   "source": [
    "tid = ceo.StopWatch()\n",
    "tid.tic()\n",
    "pym.propagate(src)\n",
    "tid.toc()\n",
    "print tid.elapsedTime"
   ]
  },
  {
   "cell_type": "code",
   "execution_count": 14,
   "metadata": {
    "collapsed": false,
    "scrolled": false
   },
   "outputs": [
    {
     "name": "stdout",
     "output_type": "stream",
     "text": [
      "(120, 40)\n"
     ]
    },
    {
     "data": {
      "image/png": "[encoded data removed]",
      "text/plain": [
       "<matplotlib.figure.Figure at 0x2b1523263dd0>"
      ]
     },
     "metadata": {},
     "output_type": "display_data"
    }
   ],
   "source": [
    "fig = figure()\n",
    "fig.set_size_inches(8,8)\n",
    "imshow(pym.camera.frame.host(),interpolation='none',origin='lower')\n",
    "print pym.camera.frame.host().shape"
   ]
  },
  {
   "cell_type": "code",
   "execution_count": null,
   "metadata": {
    "collapsed": true
   },
   "outputs": [],
   "source": []
  }
 ],
 "metadata": {
  "kernelspec": {
   "display_name": "Python 2",
   "language": "python",
   "name": "python2"
  }
 },
 "nbformat": 4,
 "nbformat_minor": 0
}
