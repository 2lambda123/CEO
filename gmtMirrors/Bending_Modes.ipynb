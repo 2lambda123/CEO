{
 "cells": [
  {
   "cell_type": "code",
   "execution_count": 1,
   "metadata": {},
   "outputs": [],
   "source": [
    "import math\n",
    "import numpy as np\n",
    "import ceo\n",
    "import matplotlib.pyplot as plt\n",
    "from ipywidgets import interact, interactive, fixed, interact_manual\n",
    "import ipywidgets as widgets\n",
    "%matplotlib inline"
   ]
  },
  {
   "cell_type": "code",
   "execution_count": 2,
   "metadata": {},
   "outputs": [],
   "source": [
    "BM = ceo.BendingModes(N_MODE=0,N_SURF=7)"
   ]
  },
  {
   "cell_type": "markdown",
   "metadata": {
    "collapsed": true
   },
   "source": [
    "# Regular grid"
   ]
  },
  {
   "cell_type": "code",
   "execution_count": 3,
   "metadata": {
    "collapsed": true
   },
   "outputs": [],
   "source": [
    "tid = ceo.StopWatch()"
   ]
  },
  {
   "cell_type": "code",
   "execution_count": 4,
   "metadata": {},
   "outputs": [],
   "source": [
    "b = BM.load('regular')"
   ]
  },
  {
   "cell_type": "code",
   "execution_count": 5,
   "metadata": {},
   "outputs": [
    {
     "data": {
      "text/plain": [
       "<matplotlib.image.AxesImage at 0x7f2f0830d2d0>"
      ]
     },
     "execution_count": 5,
     "metadata": {},
     "output_type": "execute_result"
    },
    {
     "data": {
      "image/png": "[encoded data removed]",
      "text/plain": [
       "<matplotlib.figure.Figure at 0x7f2f0a9e0e50>"
      ]
     },
     "metadata": {},
     "output_type": "display_data"
    }
   ],
   "source": [
    "plt.imshow(np.reshape(b.host(),(169,169)),interpolation='none',origin='lower')"
   ]
  },
  {
   "cell_type": "code",
   "execution_count": 6,
   "metadata": {
    "collapsed": true
   },
   "outputs": [],
   "source": [
    "NI = 501\n",
    "di = 8.362/(NI-1)"
   ]
  },
  {
   "cell_type": "code",
   "execution_count": null,
   "metadata": {},
   "outputs": [],
   "source": [
    "def bending_modes_reg(x,N=167):\n",
    "    di = 8.362/(N-1)    \n",
    "    tid.tic()\n",
    "    (B,dBdx,dBdy) = BM.interpolate(N,di,x,grid='regular')\n",
    "    tid.toc()\n",
    "\n",
    "    print tid.elapsedTime\n",
    "    fig, ax = plt.subplots(ncols=3)\n",
    "    fig.set_size_inches(10,10)\n",
    "    h = ax[0].imshow(B.host(),interpolation='none',origin='lower')\n",
    "    ax[1].imshow(dBdx.host(),interpolation='none',origin='lower')\n",
    "    ax[2].imshow(dBdy.host(),interpolation='none',origin='lower')"
   ]
  },
  {
   "cell_type": "code",
   "execution_count": null,
   "metadata": {},
   "outputs": [
    {
     "name": "stdout",
     "output_type": "stream",
     "text": [
      "0.421503990889\n"
     ]
    }
   ],
   "source": [
    "h = interact(bending_modes_reg,x=widgets.IntSlider(min=1,max=162,step=1,continuous_update=False),\n",
    "         N=widgets.IntSlider(min=32,max=501,step=1,continuous_update=False))"
   ]
  },
  {
   "cell_type": "markdown",
   "metadata": {
    "collapsed": true
   },
   "source": [
    "# GMT"
   ]
  },
  {
   "cell_type": "code",
   "execution_count": null,
   "metadata": {
    "collapsed": true
   },
   "outputs": [],
   "source": [
    "import math\n",
    "import numpy as np\n",
    "import ceo\n",
    "import matplotlib.pyplot as plt\n",
    "from ipywidgets import interact\n",
    "import ipywidgets as widgets\n",
    "%matplotlib inline"
   ]
  },
  {
   "cell_type": "code",
   "execution_count": null,
   "metadata": {
    "collapsed": true
   },
   "outputs": [],
   "source": [
    "gmt = ceo.GMT_MX(M1_mirror_modes=u\"bending modes\",M1_N_MODE=162)\n",
    "gmt.M1.keep([1])"
   ]
  },
  {
   "cell_type": "code",
   "execution_count": null,
   "metadata": {
    "collapsed": true
   },
   "outputs": [],
   "source": [
    "src = ceo.Source(\"R\",rays_box_sampling=201,rays_box_size=25.5,rays_origin=[0,0,25])"
   ]
  },
  {
   "cell_type": "code",
   "execution_count": null,
   "metadata": {
    "collapsed": true
   },
   "outputs": [],
   "source": [
    "gmt.reset()\n",
    "#gmt.M1.modes.a = np.random.randn(7,42)*1e-7\n",
    "#gmt.M1.modes.update()\n",
    "gmt.propagate(src)"
   ]
  },
  {
   "cell_type": "raw",
   "metadata": {},
   "source": [
    "q = np.random.randn(7,42)*1e-7\n",
    "np.savez(\"BM_coefs.npz\",q=q)"
   ]
  },
  {
   "cell_type": "raw",
   "metadata": {
    "collapsed": true
   },
   "source": [
    "data = np.load(\"BM_coefs.npz\")\n",
    "q = data[\"q\"]"
   ]
  },
  {
   "cell_type": "code",
   "execution_count": null,
   "metadata": {},
   "outputs": [],
   "source": [
    "src.reset()\n",
    "#gmt.M1.modes.reset()\n",
    "#gmt.M1.modes.a = q\n",
    "#gmt.M1.modes.update()\n",
    "gmt.propagate(src)\n",
    "plt.imshow(src.phase.host(),interpolation='none')\n",
    "plt.colorbar()"
   ]
  },
  {
   "cell_type": "code",
   "execution_count": null,
   "metadata": {},
   "outputs": [],
   "source": [
    "gmt.reset()\n",
    "gmt.M1.modes.a[0,161] = 1e-6\n",
    "gmt.M1.modes.update()\n",
    "gmt.propagate(src)\n",
    "src.reset()\n",
    "gmt.propagate(src)\n",
    "plt.imshow(src.phase.host(units='micron'),interpolation='none')\n",
    "plt.colorbar()\n",
    "print src.wavefront.rms(-6)"
   ]
  },
  {
   "cell_type": "markdown",
   "metadata": {},
   "source": []
  }
 ],
 "metadata": {
  "kernelspec": {
   "display_name": "Python 2",
   "language": "python",
   "name": "python2"
  },
  "language_info": {
   "codemirror_mode": {
    "name": "ipython",
    "version": 2
   },
   "file_extension": ".py",
   "mimetype": "text/x-python",
   "name": "python",
   "nbconvert_exporter": "python",
   "pygments_lexer": "ipython2",
   "version": "2.7.12"
  }
 },
 "nbformat": 4,
 "nbformat_minor": 1
}
