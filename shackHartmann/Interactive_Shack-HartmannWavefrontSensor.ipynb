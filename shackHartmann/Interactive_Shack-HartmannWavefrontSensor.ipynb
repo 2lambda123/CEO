{
 "metadata": {
  "name": "",
  "signature": "sha256:411614e0e15fc54219a124c5548ad3991fd4f7e797a7bc998c7b7664a172a214"
 },
 "nbformat": 3,
 "nbformat_minor": 0,
 "worksheets": [
  {
   "cells": [
    {
     "cell_type": "heading",
     "level": 1,
     "metadata": {},
     "source": [
      "Interactive Shack-Hartmann Wavefront Sensor"
     ]
    },
    {
     "cell_type": "code",
     "collapsed": false,
     "input": [
      "import numpy as np\n",
      "import ceo\n",
      "%pylab inline\n",
      "from IPython.html import widgets\n",
      "from IPython.html.widgets import interact\n",
      "from IPython.display import display"
     ],
     "language": "python",
     "metadata": {},
     "outputs": [
      {
       "output_type": "stream",
       "stream": "stdout",
       "text": [
        "Populating the interactive namespace from numpy and matplotlib\n"
       ]
      }
     ],
     "prompt_number": 1
    },
    {
     "cell_type": "code",
     "collapsed": false,
     "input": [
      "def shackHartmann(wavelength=\"V\",pupil='square',nLenslet=1,n=6,DFT_osf=2,N_PX_IMAGE=6,BIN_IMAGE=1,nGS=1):\n",
      "    #nLenslet = 10\n",
      "    D = 8.0\n",
      "    pitch = D/nLenslet\n",
      "    #n = 6\n",
      "    nPx = n*nLenslet + 1\n",
      "    #nGS = 1\n",
      "    zen = np.random.uniform(-1,1,nGS)*5*math.pi/180/60\n",
      "    azi = np.random.uniform(0,2*math.pi,nGS)\n",
      "    gs = ceo.Source(wavelength,zenith=zen,azimuth=azi,height=float(\"inf\"),resolution=(nPx,nPx))\n",
      "    if pupil=='square':\n",
      "        tel = ceo.Mask(nPx,D)\n",
      "    if pupil=='disc':\n",
      "        tel = ceo.Telescope(nPx,D)\n",
      "    if pupil=='GMT':\n",
      "        D = 25.5\n",
      "        tel = ceo.GMT(nPx,D)\n",
      "    gs.masked(tel)\n",
      "    wfs = ceo.ShackHartmann(nLenslet, n, pitch,DFT_osf=DFT_osf,N_PX_IMAGE=N_PX_IMAGE,BIN_IMAGE=BIN_IMAGE,N_GS = nGS)\n",
      "    #wfs.calibrate(gs,0.5)\n",
      "    wfs.analyze(gs)\n",
      "    figure(figsize=(nGS*8,8))\n",
      "    imshow(wfs.frame.host().transpose(),interpolation='none')\n",
      "    colorbar()\n"
     ],
     "language": "python",
     "metadata": {},
     "outputs": [],
     "prompt_number": 2
    },
    {
     "cell_type": "code",
     "collapsed": false,
     "input": [
      "i = interact(shackHartmann,wavelength=[\"V\",\"R\",\"I\",\"J\",\"K\"],pupil=['square','disc','GMT'],\n",
      "             nLenslet=(1,100),n=(2,16),DFT_osf=(2,6),N_PX_IMAGE=(2,32),BIN_IMAGE=(1,4),nGS=(1,6))"
     ],
     "language": "python",
     "metadata": {},
     "outputs": [
      {
       "metadata": {},
       "output_type": "display_data",
       "png": "[encoded data removed]",
       "text": [
        "<matplotlib.figure.Figure at 0x2b68c0984710>"
       ]
      }
     ],
     "prompt_number": 3
    },
    {
     "cell_type": "code",
     "collapsed": false,
     "input": [
      "w = i.widget.children"
     ],
     "language": "python",
     "metadata": {},
     "outputs": [],
     "prompt_number": 4
    },
    {
     "cell_type": "code",
     "collapsed": false,
     "input": [
      "w"
     ],
     "language": "python",
     "metadata": {},
     "outputs": [
      {
       "metadata": {},
       "output_type": "pyout",
       "prompt_number": 5,
       "text": [
        "(<IPython.html.widgets.widget_selection.DropdownWidget at 0x7f8316808ed0>,\n",
        " <IPython.html.widgets.widget_selection.DropdownWidget at 0x7f82e5b770d0>,\n",
        " <IPython.html.widgets.widget_int.IntSliderWidget at 0x7f82f412ef50>,\n",
        " <IPython.html.widgets.widget_int.IntSliderWidget at 0x7f82e5b77750>,\n",
        " <IPython.html.widgets.widget_int.IntSliderWidget at 0x7f82e5b77610>,\n",
        " <IPython.html.widgets.widget_int.IntSliderWidget at 0x7f82e5b77790>,\n",
        " <IPython.html.widgets.widget_int.IntSliderWidget at 0x7f82e5b778d0>,\n",
        " <IPython.html.widgets.widget_int.IntSliderWidget at 0x7f82e5b777d0>)"
       ]
      }
     ],
     "prompt_number": 5
    },
    {
     "cell_type": "code",
     "collapsed": false,
     "input": [
      "w_nL = w[2]"
     ],
     "language": "python",
     "metadata": {},
     "outputs": [],
     "prompt_number": 6
    },
    {
     "cell_type": "code",
     "collapsed": false,
     "input": [
      "w_nL.value"
     ],
     "language": "python",
     "metadata": {},
     "outputs": [
      {
       "metadata": {},
       "output_type": "pyout",
       "prompt_number": 7,
       "text": [
        "1"
       ]
      }
     ],
     "prompt_number": 7
    },
    {
     "cell_type": "code",
     "collapsed": false,
     "input": [
      "type(i)"
     ],
     "language": "python",
     "metadata": {},
     "outputs": [
      {
       "metadata": {},
       "output_type": "pyout",
       "prompt_number": 8,
       "text": [
        "function"
       ]
      }
     ],
     "prompt_number": 8
    }
   ],
   "metadata": {}
  }
 ]
}