{
 "cells": [
  {
   "cell_type": "markdown",
   "metadata": {},
   "source": [
    "# Interactive Shack-Hartmann Wavefront Sensor"
   ]
  },
  {
   "cell_type": "code",
   "execution_count": 1,
   "metadata": {
    "collapsed": false
   },
   "outputs": [
    {
     "name": "stdout",
     "output_type": "stream",
     "text": [
      "Populating the interactive namespace from numpy and matplotlib\n"
     ]
    },
    {
     "name": "stderr",
     "output_type": "stream",
     "text": [
      ":0: FutureWarning: IPython widgets are experimental and may change in the future.\n"
     ]
    }
   ],
   "source": [
    "import numpy as np\n",
    "import ceo\n",
    "%pylab inline\n",
    "from IPython.html import widgets\n",
    "from IPython.html.widgets import interact\n",
    "from IPython.display import display"
   ]
  },
  {
   "cell_type": "code",
   "execution_count": 12,
   "metadata": {
    "collapsed": false
   },
   "outputs": [],
   "source": [
    "def shackHartmann(wavelength=\"V\",pupil='square',nLenslet=1,n=6,DFT_osf=2,N_PX_IMAGE=6,BIN_IMAGE=1,nGS=1):\n",
    "    #nLenslet = 10\n",
    "    D = 8.0\n",
    "    pitch = D/nLenslet\n",
    "    #n = 6\n",
    "    nPx = n*nLenslet + 1\n",
    "    #nGS = 1\n",
    "    zen = np.random.uniform(-1,1,nGS)*5*math.pi/180/60\n",
    "    azi = np.random.uniform(0,2*math.pi,nGS)\n",
    "    gs = ceo.Source(wavelength,zenith=zen,azimuth=azi,height=float(\"inf\"),resolution=(nPx,nPx))\n",
    "    if pupil=='square':\n",
    "        tel = ceo.Mask(nPx,D)\n",
    "    if pupil=='disc':\n",
    "        tel = ceo.Telescope(nPx,D)\n",
    "    if pupil=='GMT':\n",
    "        D = 25.5\n",
    "        tel = ceo.GMT(nPx,D)\n",
    "    gs.masked(tel)\n",
    "    wfs = ceo.ShackHartmann(nLenslet, n, pitch,DFT_osf=DFT_osf,N_PX_IMAGE=N_PX_IMAGE,BIN_IMAGE=BIN_IMAGE,N_GS = nGS)\n",
    "    #wfs.calibrate(gs,0.5)\n",
    "    wfs.analyze(gs)\n",
    "    figure(figsize=(nGS*8,8))\n",
    "    frame = wfs.frame.host().transpose()\n",
    "    l = frame.shape[0]/2.0\n",
    "    imshow(frame,interpolation='none',extent=(-l,l,-l,l))\n",
    "    grid()\n",
    "    colorbar()\n"
   ]
  },
  {
   "cell_type": "code",
   "execution_count": 14,
   "metadata": {
    "collapsed": false
   },
   "outputs": [
    {
     "data": {
      "image/png": "[encoded data removed]",
      "text/plain": [
       "<matplotlib.figure.Figure at 0x2aae3ea24990>"
      ]
     },
     "metadata": {},
     "output_type": "display_data"
    }
   ],
   "source": [
    "i = interact(shackHartmann,wavelength=[\"V\",\"R\",\"I\",\"J\",\"K\"],pupil=['square','disc','GMT'],\n",
    "             nLenslet=(1,100),n=(2,64),DFT_osf=(2,6),N_PX_IMAGE=(2,64),BIN_IMAGE=(1,4),nGS=(1,6))"
   ]
  },
  {
   "cell_type": "code",
   "execution_count": 4,
   "metadata": {
    "collapsed": false
   },
   "outputs": [],
   "source": [
    "w = i.widget.children"
   ]
  },
  {
   "cell_type": "code",
   "execution_count": 5,
   "metadata": {
    "collapsed": false
   },
   "outputs": [
    {
     "data": {
      "text/plain": [
       "(<IPython.html.widgets.widget_selection.Dropdown at 0x2aae396b68d0>,\n",
       " <IPython.html.widgets.widget_selection.Dropdown at 0x2aae3b94ec50>,\n",
       " <IPython.html.widgets.widget_int.IntSlider at 0x2aae3b94ed90>,\n",
       " <IPython.html.widgets.widget_int.IntSlider at 0x2aae3b94ea50>,\n",
       " <IPython.html.widgets.widget_int.IntSlider at 0x2aae3b94ef50>,\n",
       " <IPython.html.widgets.widget_int.IntSlider at 0x2aae3b94ee50>,\n",
       " <IPython.html.widgets.widget_int.IntSlider at 0x2aae3b96b110>,\n",
       " <IPython.html.widgets.widget_int.IntSlider at 0x2aae3b96b2d0>)"
      ]
     },
     "execution_count": 5,
     "metadata": {},
     "output_type": "execute_result"
    }
   ],
   "source": [
    "w"
   ]
  },
  {
   "cell_type": "code",
   "execution_count": 6,
   "metadata": {
    "collapsed": false
   },
   "outputs": [],
   "source": [
    "w_nL = w[2]"
   ]
  },
  {
   "cell_type": "code",
   "execution_count": 7,
   "metadata": {
    "collapsed": false
   },
   "outputs": [
    {
     "data": {
      "text/plain": [
       "1"
      ]
     },
     "execution_count": 7,
     "metadata": {},
     "output_type": "execute_result"
    }
   ],
   "source": [
    "w_nL.value"
   ]
  },
  {
   "cell_type": "code",
   "execution_count": 8,
   "metadata": {
    "collapsed": false
   },
   "outputs": [
    {
     "data": {
      "text/plain": [
       "function"
      ]
     },
     "execution_count": 8,
     "metadata": {},
     "output_type": "execute_result"
    }
   ],
   "source": [
    "type(i)"
   ]
  }
 ],
 "metadata": {
  "kernelspec": {
   "display_name": "Python 2",
   "language": "python",
   "name": "python2"
  },
  "language_info": {
   "codemirror_mode": {
    "name": "ipython",
    "version": 2
   },
   "file_extension": ".py",
   "mimetype": "text/x-python",
   "name": "python",
   "nbconvert_exporter": "python",
   "pygments_lexer": "ipython2",
   "version": "2.7.10"
  }
 },
 "nbformat": 4,
 "nbformat_minor": 0
}
