{
 "cells": [
  {
   "cell_type": "code",
   "execution_count": 5,
   "metadata": {
    "collapsed": false
   },
   "outputs": [
    {
     "name": "stdout",
     "output_type": "stream",
     "text": [
      "Populating the interactive namespace from numpy and matplotlib\n"
     ]
    }
   ],
   "source": [
    "import ceo\n",
    "%pylab inline"
   ]
  },
  {
   "cell_type": "markdown",
   "metadata": {},
   "source": [
    "A 10th magnitude V band source:"
   ]
  },
  {
   "cell_type": "code",
   "execution_count": 28,
   "metadata": {
    "collapsed": false
   },
   "outputs": [],
   "source": [
    "n = 5\n",
    "src = ceo.Source(\"V\",resolution=(n+1,n+1))\n",
    "src.magnitude = 10"
   ]
  },
  {
   "cell_type": "markdown",
   "metadata": {},
   "source": [
    "A single lenslet Shack-Hartmann WFS with $4\\times 4$ pixel in the pupil plane and a Nyquist sampled focal plane with $8\\times 8$ pixels:"
   ]
  },
  {
   "cell_type": "code",
   "execution_count": 29,
   "metadata": {
    "collapsed": false
   },
   "outputs": [],
   "source": [
    "wfs = ceo.ShackHartmann(1,n,1,N_PX_IMAGE=2*(n+1))"
   ]
  },
  {
   "cell_type": "markdown",
   "metadata": {},
   "source": [
    "A 1m$^2$ square pupil:"
   ]
  },
  {
   "cell_type": "code",
   "execution_count": 30,
   "metadata": {
    "collapsed": false
   },
   "outputs": [],
   "source": [
    "tel = ceo.Mask(n+1,1)"
   ]
  },
  {
   "cell_type": "markdown",
   "metadata": {},
   "source": [
    "for the source to go through"
   ]
  },
  {
   "cell_type": "code",
   "execution_count": 31,
   "metadata": {
    "collapsed": false
   },
   "outputs": [],
   "source": [
    "src.masked(tel)"
   ]
  },
  {
   "cell_type": "markdown",
   "metadata": {},
   "source": [
    "Lets calibrate the WFS:"
   ]
  },
  {
   "cell_type": "code",
   "execution_count": 32,
   "metadata": {
    "collapsed": false
   },
   "outputs": [],
   "source": [
    "wfs.calibrate(src,1)"
   ]
  },
  {
   "cell_type": "markdown",
   "metadata": {},
   "source": [
    "The WFS detector is reset, the source is propagated through the WFS and the WFS detector is read (the exposure time is 1ms):"
   ]
  },
  {
   "cell_type": "code",
   "execution_count": 33,
   "metadata": {
    "collapsed": false
   },
   "outputs": [
    {
     "data": {
      "text/plain": [
       "<matplotlib.colorbar.Colorbar at 0x7f2745260c90>"
      ]
     },
     "execution_count": 33,
     "metadata": {},
     "output_type": "execute_result"
    },
    {
     "data": {
      "image/png": "[encoded data removed]",
      "text/plain": [
       "<matplotlib.figure.Figure at 0x7f2745614590>"
      ]
     },
     "metadata": {},
     "output_type": "display_data"
    }
   ],
   "source": [
    "src.magnitude = 10\n",
    "wfs.reset()\n",
    "wfs.propagate(src)\n",
    "wfs.readOut(1e-3,0)\n",
    "frame = wfs.frame\n",
    "imshow(frame.host(),interpolation='none')\n",
    "colorbar()"
   ]
  },
  {
   "cell_type": "code",
   "execution_count": 34,
   "metadata": {
    "collapsed": false
   },
   "outputs": [
    {
     "data": {
      "text/plain": [
       "847.0"
      ]
     },
     "execution_count": 34,
     "metadata": {},
     "output_type": "execute_result"
    }
   ],
   "source": [
    "np.sum(frame.host_data)"
   ]
  },
  {
   "cell_type": "code",
   "execution_count": 35,
   "metadata": {
    "collapsed": false
   },
   "outputs": [
    {
     "data": {
      "text/plain": [
       "897.0"
      ]
     },
     "execution_count": 35,
     "metadata": {},
     "output_type": "execute_result"
    }
   ],
   "source": [
    "src.nPhoton*1e-3"
   ]
  },
  {
   "cell_type": "markdown",
   "metadata": {},
   "source": [
    "The WFS detector frame is process to get the centroids:"
   ]
  },
  {
   "cell_type": "code",
   "execution_count": 36,
   "metadata": {
    "collapsed": false
   },
   "outputs": [
    {
     "name": "stdout",
     "output_type": "stream",
     "text": [
      "[[-1.57373464 -1.17191625]]\n"
     ]
    }
   ],
   "source": [
    "wfs.process()\n",
    "print wfs.c.host(units='arcsec')*1e3"
   ]
  },
  {
   "cell_type": "code",
   "execution_count": 37,
   "metadata": {
    "collapsed": false
   },
   "outputs": [],
   "source": [
    "def wfeVsNoise(magnitude,ron=0,exposure=1e-3):\n",
    "    src.magnitude = magnitude\n",
    "    nSample = 2500\n",
    "    cx = np.zeros(nSample)\n",
    "    cy = np.zeros(nSample)\n",
    "    for k in range(nSample):\n",
    "        wfs.reset()\n",
    "        wfs.propagate(src)\n",
    "        wfs.readOut(exposure,ron)\n",
    "        wfs.process()\n",
    "        c = wfs.c.host()\n",
    "        cx[k] = c[0,0]\n",
    "        cy[k] = c[0,1]    \n",
    "    return src.nPhoton*exposure, cx.var(), cy.var()"
   ]
  },
  {
   "cell_type": "markdown",
   "metadata": {},
   "source": [
    "## Centroiding error versus photon noise"
   ]
  },
  {
   "cell_type": "markdown",
   "metadata": {},
   "source": [
    "### Analytical expression"
   ]
  },
  {
   "cell_type": "code",
   "execution_count": 38,
   "metadata": {
    "collapsed": false
   },
   "outputs": [],
   "source": [
    "def photonNoise(nPh,fwhm):\n",
    "    return ((fwhm**2/(4*math.log(2)))/nPh)"
   ]
  },
  {
   "cell_type": "markdown",
   "metadata": {},
   "source": [
    "### Numerical estimation"
   ]
  },
  {
   "cell_type": "code",
   "execution_count": 39,
   "metadata": {
    "collapsed": false
   },
   "outputs": [
    {
     "name": "stdout",
     "output_type": "stream",
     "text": [
      "[  0.   1.   2.   3.   4.   5.   6.   7.   8.   9.  10.  11.  12.  13.  14.]\n"
     ]
    }
   ],
   "source": [
    "magnitude = np.linspace(0,14,15)\n",
    "print magnitude"
   ]
  },
  {
   "cell_type": "code",
   "execution_count": 40,
   "metadata": {
    "collapsed": false
   },
   "outputs": [
    {
     "name": "stdout",
     "output_type": "stream",
     "text": [
      "[  8.97000038e+06   3.57102157e+06   1.42164928e+06   5.65968704e+05\n",
      "   2.25316208e+05   8.97000000e+04   3.57102040e+04   1.42164940e+04\n",
      "   5.65968750e+03   2.25316275e+03   8.97000000e+02   3.57102062e+02\n",
      "   1.42164875e+02   5.65969023e+01   2.25316270e+01]\n"
     ]
    }
   ],
   "source": [
    "cex = np.zeros(magnitude.size)\n",
    "cey = np.zeros(magnitude.size)\n",
    "nPh = np.zeros(magnitude.size)\n",
    "for x in range(magnitude.size):\n",
    "    nPh[x], cex[x],cey[x] = wfeVsNoise(x)\n",
    "print nPh"
   ]
  },
  {
   "cell_type": "code",
   "execution_count": 41,
   "metadata": {
    "collapsed": false
   },
   "outputs": [
    {
     "name": "stdout",
     "output_type": "stream",
     "text": [
      "[  4.48877068e-01  -4.86135199e-05] [  4.24684798e-01  -9.40273463e-06]\n"
     ]
    }
   ],
   "source": [
    "px_scale = 0.55e-6/2\n",
    "fwhm = 2*px_scale\n",
    "i_nPh = 1.0/nPh\n",
    "u = cex/fwhm**2\n",
    "v = cey/fwhm**2\n",
    "px = polyfit(i_nPh , u,1)\n",
    "py = polyfit(i_nPh , v,1)\n",
    "print px, py"
   ]
  },
  {
   "cell_type": "code",
   "execution_count": 42,
   "metadata": {
    "collapsed": false
   },
   "outputs": [
    {
     "data": {
      "text/plain": [
       "<matplotlib.legend.Legend at 0x7f274515d2d0>"
      ]
     },
     "execution_count": 42,
     "metadata": {},
     "output_type": "execute_result"
    },
    {
     "data": {
      "image/png": "[encoded data removed]",
      "text/plain": [
       "<matplotlib.figure.Figure at 0x7f274520d050>"
      ]
     },
     "metadata": {},
     "output_type": "display_data"
    }
   ],
   "source": [
    "fig, ax = plt.subplots()\n",
    "ax.plot(i_nPh,u,'.',label='x data')\n",
    "ax.plot(i_nPh,v,'.',label='y data')\n",
    "ax.plot(i_nPh,px[0]/nPh + px[1],label='x fit')\n",
    "ax.plot(i_nPh,py[0]/nPh + py[1],label='y fit')\n",
    "ax.plot(i_nPh,photonNoise(nPh,fwhm)/fwhm**2,label='analytic')\n",
    "ax,grid()\n",
    "ax.set_xlabel('1/Nph')\n",
    "ax.legend(loc=0)"
   ]
  },
  {
   "cell_type": "markdown",
   "metadata": {},
   "source": [
    "# Centroiding error versus read-out noise"
   ]
  },
  {
   "cell_type": "markdown",
   "metadata": {},
   "source": [
    "### Analytical expression"
   ]
  },
  {
   "cell_type": "code",
   "execution_count": 43,
   "metadata": {
    "collapsed": false
   },
   "outputs": [],
   "source": [
    "def readOutNoise(ron,pxScale,nPh,Ns):\n",
    "    return (pxScale*ron/nPh)**2*Ns**4/12"
   ]
  },
  {
   "cell_type": "markdown",
   "metadata": {},
   "source": [
    "### Numerical estimation"
   ]
  },
  {
   "cell_type": "code",
   "execution_count": 44,
   "metadata": {
    "collapsed": false
   },
   "outputs": [
    {
     "name": "stdout",
     "output_type": "stream",
     "text": [
      "[  0.   1.   2.   3.   4.   5.   6.   7.   8.   9.  10.]\n"
     ]
    }
   ],
   "source": [
    "ron = np.linspace(0,10,11)\n",
    "print ron"
   ]
  },
  {
   "cell_type": "code",
   "execution_count": 45,
   "metadata": {
    "collapsed": false
   },
   "outputs": [],
   "source": [
    "cex = np.zeros(ron.size)\n",
    "cey = np.zeros(ron.size)\n",
    "nPh = np.zeros(ron.size)\n",
    "for x in range(ron.size):\n",
    "    nPh[x], cex[x],cey[x] = wfeVsNoise(8,ron=x)"
   ]
  },
  {
   "cell_type": "code",
   "execution_count": 46,
   "metadata": {
    "collapsed": false
   },
   "outputs": [
    {
     "name": "stdout",
     "output_type": "stream",
     "text": [
      "[ 1723.2246811   9585.03240235] [ 1761.750993    8644.43484207]\n"
     ]
    }
   ],
   "source": [
    "u = nPh[0]**2*cex/px_scale**2\n",
    "v = nPh[0]**2*cey/px_scale**2\n",
    "ron2 = ron**2\n",
    "px = polyfit(ron2 , u,1)\n",
    "py = polyfit(ron2 , v,1)\n",
    "print px, py"
   ]
  },
  {
   "cell_type": "code",
   "execution_count": 47,
   "metadata": {
    "collapsed": false
   },
   "outputs": [
    {
     "data": {
      "text/plain": [
       "<matplotlib.legend.Legend at 0x7f2745064e50>"
      ]
     },
     "execution_count": 47,
     "metadata": {},
     "output_type": "execute_result"
    },
    {
     "data": {
      "image/png": "[encoded data removed]",
      "text/plain": [
       "<matplotlib.figure.Figure at 0x7f274517c690>"
      ]
     },
     "metadata": {},
     "output_type": "display_data"
    }
   ],
   "source": [
    "fig, ax = plt.subplots()\n",
    "ax.plot(ron2,u,'.',label='x data')\n",
    "ax.plot(ron2,v,'.',label='y data')\n",
    "ax.plot(ron2,px[0]*ron2 + px[1],label='x fit')\n",
    "ax.plot(ron2,py[0]*ron2 + py[1],label='y fit')\n",
    "ax.plot(ron2,nPh[0]**2*readOutNoise(ron,px_scale,nPh[0],(n+1)*2)/px_scale**2+0.5*(px[1]+py[1]),'--',label='analytic')\n",
    "ax.grid()\n",
    "ax.set_xlabel('ron$^2$')\n",
    "ax.legend(loc=0)"
   ]
  },
  {
   "cell_type": "code",
   "execution_count": 48,
   "metadata": {
    "collapsed": false
   },
   "outputs": [
    {
     "data": {
      "text/plain": [
       "0.36067376022224085"
      ]
     },
     "execution_count": 48,
     "metadata": {},
     "output_type": "execute_result"
    }
   ],
   "source": [
    "0.25/math.log(2)"
   ]
  },
  {
   "cell_type": "code",
   "execution_count": 23,
   "metadata": {
    "collapsed": false
   },
   "outputs": [
    {
     "data": {
      "text/plain": [
       "833"
      ]
     },
     "execution_count": 23,
     "metadata": {},
     "output_type": "execute_result"
    }
   ],
   "source": [
    "(2*n)**4/12"
   ]
  }
 ],
 "metadata": {
  "kernelspec": {
   "display_name": "Python 2",
   "language": "python",
   "name": "python2"
  },
  "language_info": {
   "codemirror_mode": {
    "name": "ipython",
    "version": 2
   },
   "file_extension": ".py",
   "mimetype": "text/x-python",
   "name": "python",
   "nbconvert_exporter": "python",
   "pygments_lexer": "ipython2",
   "version": "2.7.12"
  }
 },
 "nbformat": 4,
 "nbformat_minor": 0
}
