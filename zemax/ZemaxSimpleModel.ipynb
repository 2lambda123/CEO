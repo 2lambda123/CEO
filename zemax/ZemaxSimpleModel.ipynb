{
 "cells": [
  {
   "cell_type": "code",
   "execution_count": null,
   "metadata": {
    "collapsed": false
   },
   "outputs": [],
   "source": [
    "import numpy as np\n",
    "import math\n",
    "import ceo\n",
    "from plotly.offline import download_plotlyjs, init_notebook_mode, iplot\n",
    "import plotly.plotly as py       \n",
    "import plotly.graph_objs as go\n",
    "init_notebook_mode()\n",
    "%pylab inline"
   ]
  },
  {
   "cell_type": "markdown",
   "metadata": {},
   "source": [
    "# Purpose\n",
    "\n",
    "This notebook describes the Zemax ray tracing model of CEO, where each surface location and orientation is given in the coordinate system of the previous surface"
   ]
  },
  {
   "cell_type": "markdown",
   "metadata": {},
   "source": [
    "# Field definition\n",
    "A field in defined with a `Source` object whose main parameters are:\n",
    "* the photometric band: `R`,\n",
    "* the rays box size in meter: `D` and pixel: `nPx`, meaning that the field rays is sampling a square area of `D` $\\times$ `D` m$^2$ with `nPx` $\\times$ `nPx` rays,\n",
    "* `rays_origin` sets the origin location of the ray bundle: \n",
    "    * `rays_origin[0]` and `rays_origin[1]` are respectively the x and y coordinates of the intersection of the chief ray with the first surface,\n",
    "    * `rays_origin[2]` sets the z-plane where the rays originate from.\n",
    "    \n",
    "Rays are always coming downwards along the z-axis towards the first surface."
   ]
  },
  {
   "cell_type": "code",
   "execution_count": null,
   "metadata": {
    "collapsed": false
   },
   "outputs": [],
   "source": [
    "D = 30e-3\n",
    "nPx = 7\n",
    "src  = ceo.Source(\"R\",rays_box_size=D,rays_box_sampling=nPx,rays_origin=[0.0,0.0,0.2])\n",
    "print src.wavelength*1e6\n",
    "xyz = [src.rays.coordinates.host()]"
   ]
  },
  {
   "cell_type": "markdown",
   "metadata": {},
   "source": [
    "# Surface definition\n",
    "\n",
    "There are 6 surfaces in the optical train:\n",
    "* a coordinate break at 45 degree,\n",
    "* a mirror,\n",
    "* a coordinate break at 45 degree,\n",
    "* the entrace surface of the lens,\n",
    "* the exit surface of the lens,\n",
    "* a dummy surface in the focal plane.\n",
    "\n",
    "Each surface location (`origin`) and orientation (`euler_angles`) is given with respect to the coordinate system of the previous surface"
   ]
  },
  {
   "cell_type": "code",
   "execution_count": null,
   "metadata": {
    "collapsed": false
   },
   "outputs": [],
   "source": [
    "S = [ceo.Conic(0,1,origin=[0,0,0.1],euler_angles=[math.pi/4,0,0],refractive_index=0,coord_break=True),\n",
    "     ceo.Conic(0,1,refractive_index=-1),\n",
    "     ceo.Conic(0,1,euler_angles=[math.pi/4,0,0],refractive_index=0,coord_break=True),\n",
    "     ceo.Conic(1./100e-3,1,origin=[0,0,50e-3],refractive_index=1.514846),\n",
    "     ceo.Conic(-1./100e-3,1,origin=[0,0,10e-3],refractive_index=1.0),\n",
    "     ceo.Conic(0,1,origin=[0,0,90e-3],refractive_index=1.0)]"
   ]
  },
  {
   "cell_type": "markdown",
   "metadata": {},
   "source": [
    "The same surfaces from the Zemax converter:\n",
    "* without a fold mirror"
   ]
  },
  {
   "cell_type": "code",
   "execution_count": null,
   "metadata": {
    "collapsed": true
   },
   "outputs": [],
   "source": [
    "src_material = {'formula': 15, 'c': [], 'name': ''}\n",
    "S = [ceo.Conic(0.0, 1.0, origin=[0.0, 0.0, -0.0], material={'formula': 15, 'c': [], 'name': ''}, euler_angles=[0.0, 0.0, 0.0]),\n",
    "     ceo.Conic(-10.0, 1.0, origin=[0.0, 0.0, -0.1], material={'formula': 2, 'c': [1.03961212, 0.00600069867, 0.231792344, 0.0200179144, 1.01046945, 103.560653, 0.0, 0.0, 0.0, 0.0], 'name': u'BK7'}, euler_angles=[0.0, 0.0, 0.0]),\n",
    "     ceo.Conic(10.0, 1.0, origin=[0.0, 0.0, -0.01], material={'formula': 15, 'c': [], 'name': ''}, euler_angles=[0.0, 0.0, 0.0]),\n",
    "     ceo.Conic(0.0, 1.0, origin=[0.0, 0.0, -0.09], material={'formula': 15, 'c': [], 'name': ''}, euler_angles=[0.0, 0.0, 0.0])]"
   ]
  },
  {
   "cell_type": "markdown",
   "metadata": {},
   "source": [
    "* with a fold mirror"
   ]
  },
  {
   "cell_type": "code",
   "execution_count": null,
   "metadata": {
    "collapsed": true
   },
   "outputs": [],
   "source": [
    "src_material = {'formula': 15, 'c': [], 'name': ''}\n",
    "S = [ceo.Conic(0.0, 1.0, origin=[0.0, 0.0, -0.0], material={'formula': 15, 'c': [], 'name': ''}, euler_angles=[0.0, 0.0, 0.0]),\n",
    "     ceo.Conic(0.0, 1.0, origin=[0.0, 0.0, -0.1], coord_break=True, material={'formula': 15, 'c': [], 'name': ''},\n",
    "               euler_angles=[math.pi/4, 0.0, 0.0]),\n",
    "     ceo.Conic(0.0, 1.0, origin=[0.0, 0.0, -0.0], material={'formula': 14, 'c': [], 'name': u'MIRROR'}, euler_angles=[0.0, 0.0, 0.0]),\n",
    "     ceo.Conic(-0.0, 1.0, origin=[0.0, 0.0, -0.0], coord_break=True, material={'formula': 15, 'c': [], 'name': ''},\n",
    "               euler_angles=[math.pi/4, 0.0, 0.0]),\n",
    "     ceo.Conic(10.0, 1.0, origin=[0.0, 0.0, 0.05], material={'formula': 2, 'c': [1.03961212, 0.00600069867, 0.231792344, 0.0200179144, 1.01046945, 103.560653, 0.0, 0.0, 0.0, 0.0], 'name': u'BK7'}, euler_angles=[0.0, 0.0, 0.0]),\n",
    "     ceo.Conic(-10.0, 1.0, origin=[0.0, 0.0, 0.01], material={'formula': 15, 'c': [], 'name': ''}, euler_angles=[0.0, 0.0, 0.0]),\n",
    "     ceo.Conic(0.0, 1.0, origin=[0.0, 0.0, 0.09], material={'formula': 15, 'c': [], 'name': ''}, euler_angles=[0.0, 0.0, 0.0])]"
   ]
  },
  {
   "cell_type": "markdown",
   "metadata": {},
   "source": [
    "# Ray tracing\n",
    "\n",
    "The routine below prints the chief ray surface intersection coordinates and unit direction vector:"
   ]
  },
  {
   "cell_type": "code",
   "execution_count": null,
   "metadata": {
    "collapsed": false
   },
   "outputs": [],
   "source": [
    "def chief():\n",
    "    print 'XYZ: '+np.array_str(src.rays.chief_coordinates.host())\n",
    "    print 'KLM: '+np.array_str(src.rays.chief_directions.host())"
   ]
  },
  {
   "cell_type": "markdown",
   "metadata": {},
   "source": [
    "The rays are traced from a surface to the next surface following the same procedure for each surface:\n",
    "\n",
    "1. The rays are transformed into the coordinate system of the surface,\n",
    "2. If the surface is of the  coordinate break type, there is nothing else to do\n",
    "3. If the surface is not of the  coordinate break type, the coordinates at the intersection of the rays with the surface are computed,\n",
    "4. The following action depends on the refraction index `n` value:\n",
    "    * `n=0`: there is nothing to do,\n",
    "    * `n=-1`: the new direction vector of the rays are computed according to a reflection from the surface,\n",
    "    * `n>0`: the new direction vector of the rays are computed according to a refraction through the surface and based on the ratio of the refractive indices of the materials before and after the surface; the current refraction index of the rays is update to the refractive index of the surface,"
   ]
  },
  {
   "cell_type": "code",
   "execution_count": null,
   "metadata": {
    "collapsed": false
   },
   "outputs": [],
   "source": [
    "def trace(S,idx):\n",
    "    print 'Material refractive index: %.9f'%src.rays.refractive_index\n",
    "    _S_ = S[idx-1]\n",
    "    ceo.Transform_to_S(src,_S_)\n",
    "    if not _S_.coord_break: \n",
    "        ceo.Intersect(src,_S_)\n",
    "        n_S = _S_.refractive_index(src)\n",
    "        if n_S==-1:\n",
    "            ceo.Reflect(src)\n",
    "        else:\n",
    "            mu = src.rays.refractive_index/n_S\n",
    "            if mu!=1.0:\n",
    "                ceo.Refract(src,mu)\n",
    "            src.rays.refractive_index = n_S\n",
    "    \n",
    "        #print 'To GCS:'\n",
    "        for k in range(idx-1,-1,-1):\n",
    "            #print k\n",
    "            ceo.Transform_to_R(src,S[k])\n",
    "        xyz.append( src.rays.coordinates.host())\n",
    "        if idx<len(S):\n",
    "            #print 'To last surface CS:'\n",
    "            for k in range(idx):\n",
    "                #print k\n",
    "                ceo.Transform_to_S(src,S[k])\n",
    "    chief()"
   ]
  },
  {
   "cell_type": "markdown",
   "metadata": {},
   "source": [
    "The rays propagation is computed with"
   ]
  },
  {
   "cell_type": "code",
   "execution_count": null,
   "metadata": {
    "collapsed": false
   },
   "outputs": [],
   "source": [
    "[trace(S,k+1) for k in range(len(S))]"
   ]
  },
  {
   "cell_type": "markdown",
   "metadata": {},
   "source": [
    "## Display"
   ]
  },
  {
   "cell_type": "code",
   "execution_count": null,
   "metadata": {
    "collapsed": false
   },
   "outputs": [],
   "source": [
    "def coords(ray_idx,xyz_idx):\n",
    "    return [w[ray_idx,xyz_idx] for w in xyz]"
   ]
  },
  {
   "cell_type": "raw",
   "metadata": {
    "collapsed": false,
    "scrolled": false
   },
   "source": [
    "h = []\n",
    "for k in range(25):\n",
    "    h.append( go.Scatter3d(x=coords(k,0),y=coords(k,1),z=coords(k,2) ,\n",
    "            mode='lines',showlegend=False) )\n",
    "data = go.Data(h)\n",
    "layout = go.Layout(scene=dict(camera=dict(eye=dict(x=1.0,y=0,z=0))),\n",
    "                  geo = dict(\n",
    "            projection = dict( \n",
    "                type = 'orthographic'            \n",
    "            )\n",
    "        ))\n",
    "fig = go.Figure(data=data,layout=layout)\n",
    "iplot(fig)"
   ]
  },
  {
   "cell_type": "code",
   "execution_count": null,
   "metadata": {
    "collapsed": false,
    "scrolled": false
   },
   "outputs": [],
   "source": [
    "from plotly import tools\n",
    "fig = tools.make_subplots(rows=2, cols=2, shared_yaxes=True)\n",
    "h = []\n",
    "for k in range(nPx**2):\n",
    "    h = go.Scatter(x=coords(k,1),y=coords(k,2) ,\n",
    "            mode='lines',showlegend=False, \n",
    "            line=dict(width=1,color='rgb(0.2,0.2,0.2'),opacity=0.1 )\n",
    "    fig.append_trace(h, 1, 1)\n",
    "    h = go.Scatter(x=coords(k,0),y=coords(k,2) ,\n",
    "            mode='lines',showlegend=False, \n",
    "            line=dict(width=1,color='rgb(0.2,0.2,0.2'),opacity=0.1 )\n",
    "    fig.append_trace(h, 1, 2)\n",
    "#data = go.Data(h)\n",
    "layout = go.Layout(width=500,height=500)\n",
    "#fig = go.Figure(data=data,layout=layout)\n",
    "iplot(fig)"
   ]
  },
  {
   "cell_type": "code",
   "execution_count": null,
   "metadata": {
    "collapsed": false
   },
   "outputs": [],
   "source": [
    "print xyz[0][0,:]\n",
    "print coords(0,1)\n",
    "print coords(0,2)"
   ]
  },
  {
   "cell_type": "markdown",
   "metadata": {},
   "source": [
    "## Spot diagram"
   ]
  },
  {
   "cell_type": "code",
   "execution_count": null,
   "metadata": {
    "collapsed": false
   },
   "outputs": [],
   "source": [
    "h = go.Scatter(x=xyz[-1][:,0],y=0.1-xyz[-1][:,2],mode='markers')\n",
    "layout = go.Layout(width=500,height=500)\n",
    "iplot(go.Figure(data=go.Data([h]),layout=layout))"
   ]
  },
  {
   "cell_type": "code",
   "execution_count": null,
   "metadata": {
    "collapsed": true
   },
   "outputs": [],
   "source": []
  }
 ],
 "metadata": {
  "kernelspec": {
   "display_name": "Python 2",
   "language": "python",
   "name": "python2"
  },
  "language_info": {
   "codemirror_mode": {
    "name": "ipython",
    "version": 2
   },
   "file_extension": ".py",
   "mimetype": "text/x-python",
   "name": "python",
   "nbconvert_exporter": "python",
   "pygments_lexer": "ipython2",
   "version": "2.7.11"
  }
 },
 "nbformat": 4,
 "nbformat_minor": 0
}
