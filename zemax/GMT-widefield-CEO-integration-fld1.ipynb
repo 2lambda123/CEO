{
 "cells": [
  {
   "cell_type": "code",
   "execution_count": 1,
   "metadata": {
    "collapsed": false
   },
   "outputs": [
    {
     "name": "stdout",
     "output_type": "stream",
     "text": [
      "Populating the interactive namespace from numpy and matplotlib\n"
     ]
    }
   ],
   "source": [
    "import numpy as np\n",
    "import math\n",
    "import ceo\n",
    "import ZMX\n",
    "from raytrace import raytrace, coords, lprint, p_ray, chief\n",
    "%pylab inline"
   ]
  },
  {
   "cell_type": "code",
   "execution_count": 2,
   "metadata": {
    "collapsed": true
   },
   "outputs": [],
   "source": [
    "# D = 25.5\n",
    "# n = 16\n",
    "# nLenslet = 30\n",
    "# nPx = n*nLenslet + 1\n",
    "\n",
    "# src = ceo.Source(\"R\",rays_box_size=D,rays_box_sampling=nPx,rays_origin=[0,0,-28])\n",
    "\n",
    "#src    = ceo.Source(\"R\",zenith=0*math.pi/180/3600,azimuth=0*math.pi/4,\n",
    "#                    rays_box_size=D,rays_box_sampling=nPx,rays_origin=[0.0,0.0,0.0])\n",
    "\n",
    "D = np.double(12.724319*2)\n",
    "nPx = 5\n",
    "src  = ceo.Source(\"R\",rays_box_size=D,rays_box_sampling=nPx,rays_origin=[0.0,0.0,-28])\n",
    "\n",
    "xyz = []\n",
    "xyz = [src.rays.coordinates.host()]\n",
    "\n",
    "gmt = ceo.GMT_MX(D,nPx)"
   ]
  },
  {
   "cell_type": "code",
   "execution_count": 3,
   "metadata": {
    "collapsed": false,
    "scrolled": false
   },
   "outputs": [
    {
     "name": "stdout",
     "output_type": "stream",
     "text": [
      "{'formula': 15, 'c': [], 'name': ''}\n",
      "{'formula': 15, 'c': [], 'name': ''}\n",
      "{'formula': 15, 'c': [], 'name': ''}\n",
      "{'formula': 15, 'c': [], 'name': ''}\n",
      "{'formula': 15, 'c': [], 'name': ''}\n",
      "{'formula': 15, 'c': [], 'name': ''}\n",
      "{'formula': 15, 'c': [], 'name': ''}\n",
      "{'formula': 15, 'c': [], 'name': ''}\n",
      "{'formula': 15, 'c': [], 'name': ''}\n",
      "{'formula': 15, 'c': [], 'name': ''}\n",
      "{'formula': 15, 'c': [], 'name': 'BK7'}\n",
      "{'formula': 15, 'c': [], 'name': ''}\n",
      "{'formula': 15, 'c': [], 'name': ''}\n",
      "{'formula': 15, 'c': [], 'name': 'BK7'}\n",
      "{'formula': 15, 'c': [], 'name': ''}\n",
      "{'formula': 15, 'c': [], 'name': 'LLF6'}\n",
      "{'formula': 15, 'c': [], 'name': ''}\n",
      "{'formula': 15, 'c': [], 'name': ''}\n",
      "{'formula': 15, 'c': [], 'name': ''}\n",
      "{'formula': 15, 'c': [], 'name': ''}\n",
      "{'formula': 15, 'c': [], 'name': ''}\n",
      "{'formula': 15, 'c': [], 'name': ''}\n",
      "{'formula': 15, 'c': [], 'name': ''}\n",
      "{'formula': 15, 'c': [], 'name': 'LLF6'}\n",
      "{'formula': 15, 'c': [], 'name': ''}\n",
      "{'formula': 15, 'c': [], 'name': ''}\n",
      "{'formula': 15, 'c': [], 'name': 'BK7'}\n",
      "{'formula': 15, 'c': [], 'name': ''}\n",
      "{'formula': 15, 'c': [], 'name': ''}\n",
      "{'formula': 15, 'c': [], 'name': ''}\n",
      "{'formula': 15, 'c': [], 'name': 'SILICA'}\n",
      "{'formula': 15, 'c': [], 'name': ''}\n",
      "{'formula': 15, 'c': [], 'name': ''}\n"
     ]
    },
    {
     "ename": "KeyError",
     "evalue": "'temp'",
     "output_type": "error",
     "traceback": [
      "\u001b[1;31m---------------------------------------------------------------------------\u001b[0m",
      "\u001b[1;31mKeyError\u001b[0m                                  Traceback (most recent call last)",
      "\u001b[1;32m<ipython-input-3-c45536b872e1>\u001b[0m in \u001b[0;36m<module>\u001b[1;34m()\u001b[0m\n\u001b[0;32m     19\u001b[0m \u001b[1;33m\u001b[0m\u001b[0m\n\u001b[0;32m     20\u001b[0m \u001b[1;31m# Trace 'ELEVATION ANGLE' and 'M2 obscuration' surfaces\u001b[0m\u001b[1;33m\u001b[0m\u001b[1;33m\u001b[0m\u001b[0m\n\u001b[1;32m---> 21\u001b[1;33m \u001b[1;33m[\u001b[0m\u001b[0mraytrace\u001b[0m\u001b[1;33m(\u001b[0m\u001b[0msrc\u001b[0m\u001b[1;33m,\u001b[0m\u001b[0mS\u001b[0m\u001b[1;33m[\u001b[0m\u001b[1;33m:\u001b[0m\u001b[1;36m5\u001b[0m\u001b[1;33m]\u001b[0m\u001b[1;33m,\u001b[0m\u001b[0mk\u001b[0m\u001b[1;33m+\u001b[0m\u001b[1;36m1\u001b[0m\u001b[1;33m,\u001b[0m\u001b[0mxyz\u001b[0m\u001b[1;33m)\u001b[0m \u001b[1;32mfor\u001b[0m \u001b[0mk\u001b[0m \u001b[1;32min\u001b[0m \u001b[0mrange\u001b[0m\u001b[1;33m(\u001b[0m\u001b[0mlen\u001b[0m\u001b[1;33m(\u001b[0m\u001b[0mS\u001b[0m\u001b[1;33m[\u001b[0m\u001b[1;33m:\u001b[0m\u001b[1;36m5\u001b[0m\u001b[1;33m]\u001b[0m\u001b[1;33m)\u001b[0m\u001b[1;33m)\u001b[0m\u001b[1;33m]\u001b[0m\u001b[1;33m\u001b[0m\u001b[0m\n\u001b[0m\u001b[0;32m     22\u001b[0m \u001b[1;33m\u001b[0m\u001b[0m\n\u001b[0;32m     23\u001b[0m \u001b[0mp\u001b[0m \u001b[1;33m=\u001b[0m \u001b[0msrc\u001b[0m\u001b[1;33m.\u001b[0m\u001b[0mrays\u001b[0m\u001b[1;33m.\u001b[0m\u001b[0mchief_coordinates\u001b[0m\u001b[1;33m.\u001b[0m\u001b[0mhost\u001b[0m\u001b[1;33m(\u001b[0m\u001b[1;33m)\u001b[0m\u001b[1;33m[\u001b[0m\u001b[1;36m0\u001b[0m\u001b[1;33m]\u001b[0m\u001b[1;33m\u001b[0m\u001b[0m\n",
      "\u001b[1;32m/home/ubuntu/CEO/zemax/tests/raytrace.pyc\u001b[0m in \u001b[0;36mraytrace\u001b[1;34m(src, S, idx, xyz)\u001b[0m\n\u001b[0;32m     17\u001b[0m     \u001b[1;32mif\u001b[0m \u001b[1;32mnot\u001b[0m \u001b[0m_S_\u001b[0m\u001b[1;33m.\u001b[0m\u001b[0mcoord_break\u001b[0m\u001b[1;33m:\u001b[0m\u001b[1;33m\u001b[0m\u001b[0m\n\u001b[0;32m     18\u001b[0m         \u001b[0mceo\u001b[0m\u001b[1;33m.\u001b[0m\u001b[0mIntersect\u001b[0m\u001b[1;33m(\u001b[0m\u001b[0msrc\u001b[0m\u001b[1;33m,\u001b[0m\u001b[0m_S_\u001b[0m\u001b[1;33m)\u001b[0m\u001b[1;33m\u001b[0m\u001b[0m\n\u001b[1;32m---> 19\u001b[1;33m         \u001b[0mn_S\u001b[0m \u001b[1;33m=\u001b[0m \u001b[0m_S_\u001b[0m\u001b[1;33m.\u001b[0m\u001b[0mrefractive_index\u001b[0m\u001b[1;33m(\u001b[0m\u001b[0msrc\u001b[0m\u001b[1;33m)\u001b[0m\u001b[1;33m\u001b[0m\u001b[0m\n\u001b[0m\u001b[0;32m     20\u001b[0m         \u001b[1;32mprint\u001b[0m \u001b[1;34m\"Material refractive index: {}\"\u001b[0m\u001b[1;33m.\u001b[0m\u001b[0mformat\u001b[0m\u001b[1;33m(\u001b[0m\u001b[0mn_S\u001b[0m\u001b[1;33m)\u001b[0m\u001b[1;33m\u001b[0m\u001b[0m\n\u001b[0;32m     21\u001b[0m         \u001b[1;32mif\u001b[0m \u001b[0mn_S\u001b[0m\u001b[1;33m==\u001b[0m\u001b[1;33m-\u001b[0m\u001b[1;36m1\u001b[0m\u001b[1;33m:\u001b[0m\u001b[1;33m\u001b[0m\u001b[0m\n",
      "\u001b[1;32m/home/ubuntu/CEO/python/ceo/rayTracing.pyx\u001b[0m in \u001b[0;36mceo.rayTracing.Conic.refractive_index (rayTracing.pyx.cu:9787)\u001b[1;34m()\u001b[0m\n\u001b[0;32m    369\u001b[0m         return glass_index(self.material['formula'],\n\u001b[0;32m    370\u001b[0m                                \u001b[0msrc\u001b[0m\u001b[1;33m.\u001b[0m\u001b[0mwavelength\u001b[0m\u001b[1;33m*\u001b[0m\u001b[1;36m1e6\u001b[0m\u001b[1;33m,\u001b[0m\u001b[1;33m\u001b[0m\u001b[0m\n\u001b[1;32m--> 371\u001b[1;33m                                \u001b[0mself\u001b[0m\u001b[1;33m.\u001b[0m\u001b[0mmaterial\u001b[0m\u001b[1;33m[\u001b[0m\u001b[1;34m'temp'\u001b[0m\u001b[1;33m]\u001b[0m\u001b[1;33m,\u001b[0m\u001b[0mself\u001b[0m\u001b[1;33m.\u001b[0m\u001b[0mmaterial\u001b[0m\u001b[1;33m[\u001b[0m\u001b[1;34m'pres'\u001b[0m\u001b[1;33m]\u001b[0m\u001b[1;33m,\u001b[0m\u001b[1;33m\u001b[0m\u001b[0m\n\u001b[0m\u001b[0;32m    372\u001b[0m                                self.material['c'])\n\u001b[0;32m    373\u001b[0m \u001b[1;31m# aperture\u001b[0m\u001b[1;33m\u001b[0m\u001b[1;33m\u001b[0m\u001b[0m\n",
      "\u001b[1;31mKeyError\u001b[0m: 'temp'"
     ]
    }
   ],
   "source": [
    "##### ZEMAXMODEL ######\n",
    "reload(ZMX)\n",
    "\n",
    "ZmxModel = ZMX.ZemaxModel(\"ZmxFiles/Non-segmented DGWF 120206a-post-M2.zmx\", src, field=1)\n",
    "\n",
    "GlassIndex = ZmxModel.GlassIndex\n",
    "[ZMX.update_material(s, GlassIndex) for s in ZmxModel.surfaces]\n",
    "\n",
    "S = ZmxModel.surfaces\n",
    "\n",
    "# lprint(S[0:3])\n",
    "\n",
    "# lprint(S)\n",
    "\n",
    "# gmt.propagate(src)\n",
    "\n",
    "# Vacuum\n",
    "src.rays.refractive_index = 0.9997862439\n",
    "\n",
    "# Trace 'ELEVATION ANGLE' and 'M2 obscuration' surfaces\n",
    "[raytrace(src,S[:5],k+1,xyz) for k in range(len(S[:5]))]\n",
    "\n",
    "p = src.rays.chief_coordinates.host()[0]\n",
    "c = src.rays.chief_directions.host()[0]\n",
    "\n",
    "print \"M2 obscuration intersection: {}, {}, {}\".format(p[0], p[1], p[2])\n",
    "print \"M2 obscuration cosines: {}, {}, {}\".format(c[0], c[1], c[2])\n",
    "print\n",
    "\n",
    "gmt.M1.trace(src.rays)\n",
    "\n",
    "p = src.rays.chief_coordinates.host()[0]\n",
    "c = src.rays.chief_directions.host()[0]\n",
    "\n",
    "print \"M1 intersection: {}, {}, {}\".format(p[0], p[1], p[2])\n",
    "print \"M1 cosines: {}, {}, {}\".format(c[0], c[1], c[2])\n",
    "print\n",
    "\n",
    "gmt.M2.trace(src.rays)\n",
    "\n",
    "p = src.rays.chief_coordinates.host()[0]\n",
    "c = src.rays.chief_directions.host()[0]\n",
    "print \"M2 intersection: {}, {}, {}\".format(p[0], p[1], p[2])\n",
    "print \"M2 cosines: {}, {}, {}\".format(c[0], c[1], c[2])\n",
    "print\n",
    "\n",
    "[raytrace(src,S[5:],k+1,xyz) for k in range(len(S[5:]))]\n",
    "\n",
    "print\n",
    "##### ZEMAXMODEL #####"
   ]
  },
  {
   "cell_type": "code",
   "execution_count": null,
   "metadata": {
    "collapsed": true
   },
   "outputs": [],
   "source": []
  }
 ],
 "metadata": {
  "kernelspec": {
   "display_name": "Python 2",
   "language": "python",
   "name": "python2"
  },
  "language_info": {
   "codemirror_mode": {
    "name": "ipython",
    "version": 2
   },
   "file_extension": ".py",
   "mimetype": "text/x-python",
   "name": "python",
   "nbconvert_exporter": "python",
   "pygments_lexer": "ipython2",
   "version": "2.7.11"
  }
 },
 "nbformat": 4,
 "nbformat_minor": 0
}
