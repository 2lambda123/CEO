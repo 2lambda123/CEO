{
 "cells": [
  {
   "cell_type": "code",
   "execution_count": 1,
   "metadata": {
    "collapsed": false
   },
   "outputs": [
    {
     "name": "stdout",
     "output_type": "stream",
     "text": [
      "Populating the interactive namespace from numpy and matplotlib\n"
     ]
    }
   ],
   "source": [
    "import numpy as np\n",
    "import math\n",
    "import ceo\n",
    "%pylab inline"
   ]
  },
  {
   "cell_type": "code",
   "execution_count": 12,
   "metadata": {
    "collapsed": false
   },
   "outputs": [
    {
     "name": "stdout",
     "output_type": "stream",
     "text": [
      "-0.777253293555\n"
     ]
    }
   ],
   "source": [
    "x_tt = 50\n",
    "y_tt = -30\n",
    "c = 1e-3*math.pi/180/3600\n",
    "print y_tt*c*5344e3\n",
    "D = 25.5\n",
    "nPx = 101\n",
    "\n",
    "zen = 0e3*c\n",
    "azm = math.pi/2\n",
    "csrc   = ceo.Source(\"R\",zenith=zen,azimuth=azm,\n",
    "                    rays_box_size=D,rays_box_sampling=nPx,rays_origin=[0.0,0.0,-25])\n",
    "M1 = ceo.GMT_M1(D,nPx)\n",
    "M2 = ceo.GMT_M2(D,nPx)"
   ]
  },
  {
   "cell_type": "code",
   "execution_count": 13,
   "metadata": {
    "collapsed": false
   },
   "outputs": [],
   "source": [
    "#M1.reset()\n",
    "#M1.global_tiptilt(5*math.pi/180,0.*math.pi/180.0/3600)"
   ]
  },
  {
   "cell_type": "code",
   "execution_count": 14,
   "metadata": {
    "collapsed": false
   },
   "outputs": [],
   "source": [
    "def src_pick_up():\n",
    "    ox = np.tan(zen)*np.cos(azm)\n",
    "    oy = np.tan(zen)*np.sin(azm)\n",
    "    u = linspace(-1,1,nPx)\n",
    "    xx,yy = meshgrid(u,u)\n",
    "    P = csrc.rays.vignetting.host()\n",
    "    wfs_offset = P.reshape(nPx,nPx)*(ox*xx + oy*yy)*D/2\n",
    "    return wfs_offset"
   ]
  },
  {
   "cell_type": "code",
   "execution_count": 15,
   "metadata": {
    "collapsed": false
   },
   "outputs": [],
   "source": [
    "def optical_system(src,x,radius):\n",
    "    src.stop(M2)\n",
    "    src.trace(M1)\n",
    "    src.trace(M2)\n",
    "    src.rays.go_sphere(x,radius)\n",
    "    src.opd2phase()\n",
    "    cu_wfs_offset = ceo.cuFloatArray(host_data=src_pick_up())\n",
    "    src.phase = cu_wfs_offset\n"
   ]
  },
  {
   "cell_type": "code",
   "execution_count": 16,
   "metadata": {
    "collapsed": false
   },
   "outputs": [],
   "source": [
    "def opd_res_fun(x,radius):\n",
    "    csrc.reset()\n",
    "    optical_system(csrc,x,radius)\n",
    "    opd_res = np.reshape( csrc.phase.host(), (-1,1) )*1e9\n",
    "    P = csrc.rays.vignetting.host()\n",
    "    return np.std(opd_res[P.ravel(0)>0])"
   ]
  },
  {
   "cell_type": "raw",
   "metadata": {},
   "source": [
    "x = linspace(25,30,101)\n",
    "#plot(x,[opd_fun(_x_,1) for _x_ in x])\n",
    "semilogy(x,[opd_res_fun(_x_,10) for _x_ in x])\n",
    "#plot(x,[opd_fun(_x_,10) for _x_ in x])\n",
    "semilogy(x,[opd_res_fun(_x_,50) for _x_ in x])"
   ]
  },
  {
   "cell_type": "code",
   "execution_count": 17,
   "metadata": {
    "collapsed": false
   },
   "outputs": [
    {
     "name": "stdout",
     "output_type": "stream",
     "text": [
      "True\n",
      "26.0924944433\n",
      "Minimum wfe rms focus @ [0.0000,-0.0000,-5.8300]m with rms wfe=1.3642nm\n"
     ]
    }
   ],
   "source": [
    "from scipy.optimize import minimize_scalar\n",
    "#print opd_fun(5.83001949259)\n",
    "sphere_radius = 50\n",
    "#res = minimize_scalar(opd_fun, bounds=(26.09249-b,26.09249+b), method='bounded')\n",
    "res = minimize_scalar(opd_res_fun, bounds=(25,30), method='bounded',args=(sphere_radius,))\n",
    "print res.success\n",
    "print res.x\n",
    "chief_xyz = csrc.rays.chief_coordinates.host() - sphere_radius*csrc.rays.chief_directions.host()\n",
    "print \"Minimum wfe rms focus @ [%6.4f,%6.4f,%6.4f]m with rms wfe=%6.4fnm\"%(chief_xyz[0,0],chief_xyz[0,1],chief_xyz[0,2],opd_res_fun(res.x,sphere_radius))"
   ]
  },
  {
   "cell_type": "code",
   "execution_count": 18,
   "metadata": {
    "collapsed": false
   },
   "outputs": [],
   "source": [
    "nzen = zen# + 0.11579*x_tt*c\n",
    "gs    = ceo.Source(\"R\",zenith=nzen,azimuth=azm,\n",
    "                    rays_box_size=D,rays_box_sampling=nPx,rays_origin=[0.0,0.0,-25])"
   ]
  },
  {
   "cell_type": "code",
   "execution_count": 19,
   "metadata": {
    "collapsed": false
   },
   "outputs": [
    {
     "data": {
      "text/plain": [
       "<matplotlib.colorbar.Colorbar instance at 0x2b00a3b2b908>"
      ]
     },
     "execution_count": 19,
     "metadata": {},
     "output_type": "execute_result"
    },
    {
     "data": {
      "image/png": "[encoded data removed]",
      "text/plain": [
       "<matplotlib.figure.Figure at 0x2b00971c9890>"
      ]
     },
     "metadata": {},
     "output_type": "display_data"
    }
   ],
   "source": [
    "gs.reset()\n",
    "M1.reset()\n",
    "M2.reset()\n",
    "optical_system(gs,res.x,sphere_radius)\n",
    "opd0 = gs.phase.host(units='nm')\n",
    "figure\n",
    "imshow(opd0,interpolation='none')\n",
    "colorbar()"
   ]
  },
  {
   "cell_type": "code",
   "execution_count": 20,
   "metadata": {
    "collapsed": false
   },
   "outputs": [
    {
     "data": {
      "text/plain": [
       "<matplotlib.colorbar.Colorbar instance at 0x2b00a3c9ba70>"
      ]
     },
     "execution_count": 20,
     "metadata": {},
     "output_type": "execute_result"
    },
    {
     "data": {
      "image/png": "[encoded data removed]",
      "text/plain": [
       "<matplotlib.figure.Figure at 0x2b00a3ac2250>"
      ]
     },
     "metadata": {},
     "output_type": "display_data"
    }
   ],
   "source": [
    "gs.reset()\n",
    "M1.reset()\n",
    "M2.reset()\n",
    "M2.tiptilt_neutral(x_tt*c,y_tt*c)\n",
    "optical_system(gs,res.x,sphere_radius)\n",
    "opd_glb = gs.phase.host(units='nm')\n",
    "fig, ax2 = subplots(ncols=1)\n",
    "fig.set_size_inches(10,5)\n",
    "h2 = ax2.imshow(opd_glb,interpolation='none',origin='lower')\n",
    "colorbar(h2)"
   ]
  },
  {
   "cell_type": "code",
   "execution_count": 25,
   "metadata": {
    "collapsed": false
   },
   "outputs": [
    {
     "data": {
      "text/plain": [
       "array([[ -7.98018138e-07,  -1.21952335e-06,  -5.92678541e-07],\n",
       "       [  7.52830793e-07,  -1.24344464e-06,  -6.04304088e-07],\n",
       "       [  1.55084895e-06,  -2.39212292e-08,  -1.16257596e-08],\n",
       "       [  7.98018138e-07,   1.21952353e-06,   5.92678132e-07],\n",
       "       [ -7.52830868e-07,   1.24344481e-06,   6.04303680e-07],\n",
       "       [ -1.55084899e-06,   2.39213405e-08,   1.16253352e-08],\n",
       "       [  7.77253296e-07,   1.29542208e-06,  -2.13162821e-13]])"
      ]
     },
     "execution_count": 25,
     "metadata": {},
     "output_type": "execute_result"
    }
   ],
   "source": [
    "M2.motion_CS.origin"
   ]
  },
  {
   "cell_type": "code",
   "execution_count": 54,
   "metadata": {
    "collapsed": false
   },
   "outputs": [
    {
     "data": {
      "text/plain": [
       "array([[ -4.84813654e-07,   5.74275776e-23,   1.50722559e-23],\n",
       "       [ -2.42406805e-07,  -4.06106802e-07,  -1.06585528e-07],\n",
       "       [  2.42406849e-07,  -4.06106776e-07,  -1.06585627e-07],\n",
       "       [  4.84813654e-07,  -0.00000000e+00,   0.00000000e+00],\n",
       "       [  2.42406849e-07,   4.06106776e-07,   1.06585627e-07],\n",
       "       [ -2.42406805e-07,   4.06106802e-07,   1.06585528e-07],\n",
       "       [  4.84813654e-07,  -0.00000000e+00,   0.00000000e+00]])"
      ]
     },
     "execution_count": 54,
     "metadata": {},
     "output_type": "execute_result"
    }
   ],
   "source": [
    "M2.motion_CS.euler_angles"
   ]
  },
  {
   "cell_type": "code",
   "execution_count": 59,
   "metadata": {
    "collapsed": false
   },
   "outputs": [],
   "source": [
    "z = zen*exp(1j*azm)# + 0.11579*(x_tt+1j*y_tt)*c*exp(1j*math.pi/2)\n",
    "gs    = ceo.Source(\"R\",zenith=0*np.abs(z),azimuth=0*np.angle(z),\n",
    "                    rays_box_size=D,rays_box_sampling=nPx,rays_origin=[0.0,0.0,-25])"
   ]
  },
  {
   "cell_type": "code",
   "execution_count": 60,
   "metadata": {
    "collapsed": false
   },
   "outputs": [
    {
     "data": {
      "text/plain": [
       "<matplotlib.colorbar.Colorbar instance at 0x2b169094ea70>"
      ]
     },
     "execution_count": 60,
     "metadata": {},
     "output_type": "execute_result"
    },
    {
     "data": {
      "image/png": "[encoded data removed]",
      "text/plain": [
       "<matplotlib.figure.Figure at 0x2b169080f510>"
      ]
     },
     "metadata": {},
     "output_type": "display_data"
    }
   ],
   "source": [
    "gs.reset()\n",
    "M1.reset()\n",
    "M2.reset()\n",
    "M2.coma_neutral(x_tt*c,y_tt*c)\n",
    "optical_system(gs,res.x,sphere_radius)\n",
    "opd_glb = gs.phase.host(units='nm')\n",
    "fig, ax2 = subplots(ncols=1)\n",
    "fig.set_size_inches(10,5)\n",
    "h2 = ax2.imshow(opd_glb,interpolation='none',origin='lower')\n",
    "colorbar(h2)"
   ]
  },
  {
   "cell_type": "code",
   "execution_count": 61,
   "metadata": {
    "collapsed": false
   },
   "outputs": [
    {
     "data": {
      "text/plain": [
       "array([[ -1.41827261e-22,  -9.86296191e-07,  -8.04072348e-07],\n",
       "       [  1.00295055e-06,  -4.93148091e-07,  -4.02036318e-07],\n",
       "       [  1.00295066e-06,   4.93148295e-07,   4.02035791e-07],\n",
       "       [  0.00000000e+00,   9.86296581e-07,   8.04071870e-07],\n",
       "       [ -1.00295066e-06,   4.93148295e-07,   4.02035791e-07],\n",
       "       [ -1.00295055e-06,  -4.93148091e-07,  -4.02036318e-07],\n",
       "       [  0.00000000e+00,   1.08889147e-06,  -2.64233080e-13]])"
      ]
     },
     "execution_count": 61,
     "metadata": {},
     "output_type": "execute_result"
    }
   ],
   "source": [
    "M2.motion_CS.origin"
   ]
  },
  {
   "cell_type": "code",
   "execution_count": 62,
   "metadata": {
    "collapsed": false
   },
   "outputs": [
    {
     "data": {
      "text/plain": [
       "array([[ -4.84813654e-07,   5.74275776e-23,   1.50722559e-23],\n",
       "       [ -2.42406805e-07,  -4.06106802e-07,  -1.06585528e-07],\n",
       "       [  2.42406849e-07,  -4.06106776e-07,  -1.06585627e-07],\n",
       "       [  4.84813654e-07,  -0.00000000e+00,   0.00000000e+00],\n",
       "       [  2.42406849e-07,   4.06106776e-07,   1.06585627e-07],\n",
       "       [ -2.42406805e-07,   4.06106802e-07,   1.06585528e-07],\n",
       "       [  4.84813654e-07,  -0.00000000e+00,   0.00000000e+00]])"
      ]
     },
     "execution_count": 62,
     "metadata": {},
     "output_type": "execute_result"
    }
   ],
   "source": [
    "M2.motion_CS.euler_angles"
   ]
  },
  {
   "cell_type": "code",
   "execution_count": null,
   "metadata": {
    "collapsed": true
   },
   "outputs": [],
   "source": []
  }
 ],
 "metadata": {
  "kernelspec": {
   "display_name": "Python 2",
   "language": "python",
   "name": "python2"
  },
  "language_info": {
   "codemirror_mode": {
    "name": "ipython",
    "version": 2
   },
   "file_extension": ".py",
   "mimetype": "text/x-python",
   "name": "python",
   "nbconvert_exporter": "python",
   "pygments_lexer": "ipython2",
   "version": "2.7.10"
  }
 },
 "nbformat": 4,
 "nbformat_minor": 0
}
