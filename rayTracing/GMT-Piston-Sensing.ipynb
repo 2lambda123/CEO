{
 "cells": [
  {
   "cell_type": "code",
   "execution_count": 1,
   "metadata": {
    "collapsed": false
   },
   "outputs": [
    {
     "name": "stdout",
     "output_type": "stream",
     "text": [
      "Populating the interactive namespace from numpy and matplotlib\n"
     ]
    }
   ],
   "source": [
    "import math\n",
    "import numpy as np\n",
    "%pylab inline"
   ]
  },
  {
   "cell_type": "code",
   "execution_count": 2,
   "metadata": {
    "collapsed": true
   },
   "outputs": [],
   "source": [
    "n = 256\n",
    "R = 25.5/2\n",
    "u = np.linspace(-1,1,256)*R\n",
    "x,y = np.meshgrid(u,u)\n",
    "xy = np.array( [ x.flatten(), y.flatten()] )"
   ]
  },
  {
   "cell_type": "code",
   "execution_count": 19,
   "metadata": {
    "collapsed": false
   },
   "outputs": [
    {
     "name": "stdout",
     "output_type": "stream",
     "text": [
      "[[ 0.   ]\n",
      " [ 4.387]]\n",
      "[[ 7.543]\n",
      " [ 0.   ]]\n"
     ]
    }
   ],
   "source": [
    "def ROT(o):\n",
    "    return np.array([ [ math.cos(o), math.sin(o)], [-math.sin(o),math.cos(o)] ])\n",
    "rc = 4.387\n",
    "xy_rc = np.array([[0],[rc]])\n",
    "print xy_rc\n",
    "rp = 7.543\n",
    "xy_rp = np.array([[rp],[0]])\n",
    "print xy_rp\n",
    "W = 1.5\n",
    "L = 1.5"
   ]
  },
  {
   "cell_type": "code",
   "execution_count": 20,
   "metadata": {
    "collapsed": false
   },
   "outputs": [],
   "source": [
    "M = False\n",
    "for k in range(6):\n",
    "    theta = k*math.pi/3\n",
    "    #print ROT(theta)\n",
    "    xyp = np.dot(ROT(theta),xy) + xy_rc\n",
    "    M = np.logical_or( M , np.logical_and( np.abs(xyp[0,:])<L/2,  np.abs(xyp[1,:])<W/2 ) )\n",
    "for k in range(6):\n",
    "    theta = k*math.pi/3\n",
    "    #print ROT(theta)\n",
    "    xyp = np.dot(ROT(theta),xy) - xy_rp\n",
    "    M = np.logical_or( M , np.logical_and( np.abs(xyp[0,:])<L/2,  np.abs(xyp[1,:])<W/2 ) )"
   ]
  },
  {
   "cell_type": "code",
   "execution_count": 21,
   "metadata": {
    "collapsed": false
   },
   "outputs": [
    {
     "data": {
      "text/plain": [
       "<matplotlib.patches.Circle at 0x2b3a2aef3a10>"
      ]
     },
     "execution_count": 21,
     "metadata": {},
     "output_type": "execute_result"
    },
    {
     "data": {
      "image/png": "[encoded data removed]",
      "text/plain": [
       "<matplotlib.figure.Figure at 0x2b3a2ade4290>"
      ]
     },
     "metadata": {},
     "output_type": "display_data"
    }
   ],
   "source": [
    "fig,ax =subplots()\n",
    "ax.imshow(M.reshape((n,n)),extent=[-R,R,-R,R],cmap='Blues')\n",
    "Circle((0,0),radius=rp)\n",
    "grid()\n",
    "xticks([-rp,-rc,rc,rp])\n",
    "yticks([-rp,-rc,rc,rp])\n",
    "c1 = Circle((0,0),radius=rc, color='r', fill=False)\n",
    "ax.add_patch(c1)\n",
    "c2 = Circle((0,0),radius=rp, color='r', fill=False)\n",
    "ax.add_patch(c2)"
   ]
  },
  {
   "cell_type": "code",
   "execution_count": null,
   "metadata": {
    "collapsed": true
   },
   "outputs": [],
   "source": []
  }
 ],
 "metadata": {
  "kernelspec": {
   "display_name": "Python 2",
   "language": "python",
   "name": "python2"
  },
  "language_info": {
   "codemirror_mode": {
    "name": "ipython",
    "version": 2
   },
   "file_extension": ".py",
   "mimetype": "text/x-python",
   "name": "python",
   "nbconvert_exporter": "python",
   "pygments_lexer": "ipython2",
   "version": "2.7.10"
  }
 },
 "nbformat": 4,
 "nbformat_minor": 0
}
