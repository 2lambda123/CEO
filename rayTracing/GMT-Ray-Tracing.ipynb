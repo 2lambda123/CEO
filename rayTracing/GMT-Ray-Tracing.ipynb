{
 "cells": [
  {
   "cell_type": "code",
   "execution_count": 1,
   "metadata": {
    "collapsed": false
   },
   "outputs": [
    {
     "name": "stdout",
     "output_type": "stream",
     "text": [
      "Populating the interactive namespace from numpy and matplotlib\n"
     ]
    }
   ],
   "source": [
    "import sys\n",
    "import numpy as np\n",
    "import math\n",
    "import ceo\n",
    "%pylab inline"
   ]
  },
  {
   "cell_type": "code",
   "execution_count": 2,
   "metadata": {
    "collapsed": false
   },
   "outputs": [
    {
     "name": "stdout",
     "output_type": "stream",
     "text": [
      "pupil sampling:      201 pixel\n",
      "detector resolution: 200 pixel\n"
     ]
    }
   ],
   "source": [
    "nLenslet = 25\n",
    "n = 8\n",
    "nPx = n*nLenslet+1\n",
    "print \"pupil sampling:      %d pixel\"%nPx\n",
    "detectorRes = 2*n*nLenslet/2\n",
    "print \"detector resolution: %d pixel\"%detectorRes\n",
    "D = 25.5\n",
    "src = ceo.Source(\"I\",rays_box_size=D,rays_box_sampling=nPx,rays_origin=[0.0,0.0,25])\n",
    "alpha =5*60.  # radius of circle where GSs are located [in arcsec]\n",
    "N_GS =  3   # NUMBER of GSs\n",
    "zenith_angle  = np.ones(N_GS)*alpha*math.pi/180/3600 # in radians\n",
    "azimuth_angle = np.arange(N_GS)*360.0/N_GS # in degrees\n",
    "tt7_gs    = ceo.Source(\"I\",zenith=0,azimuth=0,\n",
    "                       rays_box_size=D,rays_box_sampling=nPx,rays_origin=[0.0,0.0,25])\n",
    "gs    = ceo.Source(\"I\",zenith=zenith_angle,azimuth=azimuth_angle*math.pi/180,\n",
    "                       rays_box_size=D,rays_box_sampling=nPx,rays_origin=[0.0,0.0,25])\n",
    "#tt7 = TT7(nLenslet, n, D/nLenslet,N_PX_IMAGE=2*n,BIN_IMAGE=2,N_GS=N_GS)\n",
    "#imgr = ceo.ShackHartmann(1, nPx-1, D ,DFT_osf=4,N_PX_IMAGE=0.5*(nPx-1))nLenslet, n, D/nLenslet,N_PX_IMAGE=2*n,BIN_IMAGE=2,N_GS=N_GS\n",
    "wfs = ceo.ShackHartmann(nLenslet, n, D/nLenslet,N_PX_IMAGE=2*n,BIN_IMAGE=2,N_GS=N_GS)\n",
    "gmt = ceo.GMT_MX(D,nPx,M1_radial_order=6)"
   ]
  },
  {
   "cell_type": "code",
   "execution_count": 10,
   "metadata": {
    "collapsed": false
   },
   "outputs": [
    {
     "data": {
      "text/plain": [
       "array([ nan,  nan,  nan], dtype=float32)"
      ]
     },
     "execution_count": 10,
     "metadata": {},
     "output_type": "execute_result"
    },
    {
     "data": {
      "image/png": "[encoded data removed]",
      "text/plain": [
       "<matplotlib.figure.Figure at 0x2b1cc5f28290>"
      ]
     },
     "metadata": {},
     "output_type": "display_data"
    }
   ],
   "source": [
    "gs.reset()\n",
    "gmt.reset()\n",
    "wfs.reset()\n",
    "mas2rad = 1e-3*math.pi/180/3600\n",
    "#gmt.M1.global_tiptilt(50*mas2rad,50*mas2rad)\n",
    "gmt.propagate(gs)\n",
    "imshow(gs.phase.host(units='nm'))\n",
    "colorbar()\n",
    "gs.wavefront.rms()*1e6"
   ]
  },
  {
   "cell_type": "code",
   "execution_count": 4,
   "metadata": {
    "collapsed": false
   },
   "outputs": [
    {
     "data": {
      "text/plain": [
       "<matplotlib.image.AxesImage at 0x2b1cc5af3d50>"
      ]
     },
     "execution_count": 4,
     "metadata": {},
     "output_type": "execute_result"
    },
    {
     "data": {
      "image/png": "[encoded data removed]",
      "text/plain": [
       "<matplotlib.figure.Figure at 0x2b1cc2bf8fd0>"
      ]
     },
     "metadata": {},
     "output_type": "display_data"
    }
   ],
   "source": [
    "wfs.calibrate(gs,0.75)\n",
    "imshow(wfs.c.host(shape=(2*nLenslet*gs.N_SRC,nLenslet)).T,interpolation='none')"
   ]
  },
  {
   "cell_type": "code",
   "execution_count": 5,
   "metadata": {
    "collapsed": false
   },
   "outputs": [
    {
     "data": {
      "text/plain": [
       "<matplotlib.image.AxesImage at 0x2b1cc5cd2f10>"
      ]
     },
     "execution_count": 5,
     "metadata": {},
     "output_type": "execute_result"
    },
    {
     "data": {
      "image/png": "[encoded data removed]",
      "text/plain": [
       "<matplotlib.figure.Figure at 0x2b1cc5b3f290>"
      ]
     },
     "metadata": {},
     "output_type": "display_data"
    }
   ],
   "source": [
    "imshow(wfs.flux.host().T,interpolation='none')"
   ]
  },
  {
   "cell_type": "code",
   "execution_count": 6,
   "metadata": {
    "collapsed": false
   },
   "outputs": [
    {
     "name": "stdout",
     "output_type": "stream",
     "text": [
      "Expected # of valid slopes/current # of valid slopes : %d/%d (1740, 1740)\n"
     ]
    }
   ],
   "source": [
    "print \"Expected # of valid slopes/current # of valid slopes : %d/%d\",(1740,wfs.n_valid_slopes)"
   ]
  },
  {
   "cell_type": "code",
   "execution_count": 20,
   "metadata": {
    "collapsed": false
   },
   "outputs": [
    {
     "data": {
      "text/plain": [
       "<matplotlib.image.AxesImage at 0x2b93f977b450>"
      ]
     },
     "execution_count": 20,
     "metadata": {},
     "output_type": "execute_result"
    },
    {
     "data": {
      "image/png": "[encoded data removed]",
      "text/plain": [
       "<matplotlib.figure.Figure at 0x2b93f96fbed0>"
      ]
     },
     "metadata": {},
     "output_type": "display_data"
    }
   ],
   "source": [
    "A = gs.amplitude.host()\n",
    "#A = gs.rays.vignetting.host(shape=(3*nPx,nPx))\n",
    "imshow(A.T,interpolation='none')"
   ]
  },
  {
   "cell_type": "code",
   "execution_count": 21,
   "metadata": {
    "collapsed": false
   },
   "outputs": [
    {
     "name": "stdout",
     "output_type": "stream",
     "text": [
      "Expected flux/current flux : %d/%f (65248, 65248.0)\n"
     ]
    }
   ],
   "source": [
    "print \"Expected flux/current flux : %d/%f\",(65248,A.sum())"
   ]
  },
  {
   "cell_type": "code",
   "execution_count": 22,
   "metadata": {
    "collapsed": false
   },
   "outputs": [],
   "source": [
    "B = A.reshape((3,nPx,nPx))"
   ]
  },
  {
   "cell_type": "code",
   "execution_count": 24,
   "metadata": {
    "collapsed": false
   },
   "outputs": [
    {
     "name": "stdout",
     "output_type": "stream",
     "text": [
      "Expected vignetted flux/current vignetted flux : %d/%f (2459, 2459.0)\n"
     ]
    },
    {
     "data": {
      "image/png": "[encoded data removed]",
      "text/plain": [
       "<matplotlib.figure.Figure at 0x2b93f9846cd0>"
      ]
     },
     "metadata": {},
     "output_type": "display_data"
    }
   ],
   "source": [
    "C = B.sum(axis=0)\n",
    "C[C==3] = 0\n",
    "C[C!=0] = 1\n",
    "imshow(C,interpolation='none')\n",
    "colorbar()\n",
    "print \"Expected vignetted flux/current vignetted flux : %d/%f\",(2459,C.sum())"
   ]
  },
  {
   "cell_type": "code",
   "execution_count": null,
   "metadata": {
    "collapsed": true
   },
   "outputs": [],
   "source": []
  }
 ],
 "metadata": {
  "kernelspec": {
   "display_name": "Python 2",
   "language": "python",
   "name": "python2"
  },
  "language_info": {
   "codemirror_mode": {
    "name": "ipython",
    "version": 2
   },
   "file_extension": ".py",
   "mimetype": "text/x-python",
   "name": "python",
   "nbconvert_exporter": "python",
   "pygments_lexer": "ipython2",
   "version": "2.7.10"
  }
 },
 "nbformat": 4,
 "nbformat_minor": 0
}
