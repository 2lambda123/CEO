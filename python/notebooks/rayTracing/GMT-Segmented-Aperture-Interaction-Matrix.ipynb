{
 "metadata": {
  "name": "",
<<<<<<< HEAD
  "signature": "sha256:46d7a61f5fd84feaa07ca93f4469cbc943e1328710a82ceb2c9fcd2fc1bb6f37"
=======
  "signature": "sha256:c80caa585a3a8995d6a1eb2cd044112b4112edb239c8ac6bf185be7db531d440"
>>>>>>> ray.tracing.srcs
 },
 "nbformat": 3,
 "nbformat_minor": 0,
 "worksheets": [
  {
   "cells": [
    {
     "cell_type": "code",
     "collapsed": false,
     "input": [
      "import sys\n",
      "import numpy as np\n",
      "import math\n",
      "import ceo\n",
      "%pylab inline\n",
      "from mpl_toolkits.mplot3d import Axes3D\n",
      "from IPython.html import widgets\n",
      "from IPython.html.widgets import interact\n",
      "from IPython.display import display"
     ],
     "language": "python",
     "metadata": {},
     "outputs": [
      {
       "output_type": "stream",
       "stream": "stdout",
       "text": [
        "Populating the interactive namespace from numpy and matplotlib\n"
       ]
      }
     ],
     "prompt_number": 1
    },
    {
     "cell_type": "code",
     "collapsed": false,
     "input": [
      "#def disp(x): print np.array_str(x,precision=1,suppress_small=True)\n",
      "tid = ceo.StopWatch()"
     ],
     "language": "python",
     "metadata": {},
     "outputs": [],
     "prompt_number": 2
    },
    {
     "cell_type": "code",
     "collapsed": false,
     "input": [
      "nLenslet = 30\n",
      "n = 8\n",
      "nPx = n*nLenslet+1\n",
      "onAxis = ceo.Source(\"R\",zenith=0.*math.pi/180/3600,azimuth=0*math.pi/4,resolution=(nPx,nPx))\n",
      "src    = ceo.Source(\"R\",zenith=0*math.pi/180/3600,azimuth=math.pi,resolution=(nPx,nPx))\n",
      "D = 25.5\n",
      "n_radius = nPx\n",
      "raysOnAxis = ceo.Bundle(onAxis,D,nPx,64,[0.0,0.0,-25],type='box')\n",
      "rays       = ceo.Bundle(src,   D,nPx,64,[0.0,0.0,-25],type='box')\n",
      "imgr = ceo.ShackHartmann(1, nPx-1, D ,DFT_osf=4,N_PX_IMAGE=0.5*(nPx-1))\n",
      "wfs = ceo.ShackHartmann(nLenslet, n, D/nLenslet,N_PX_IMAGE=2*n)\n",
      "M1 = ceo.GMT_M1(D,nPx)\n",
      "M2 = ceo.GMT_M2(D,nPx)"
     ],
     "language": "python",
     "metadata": {},
     "outputs": [],
     "prompt_number": 3
    },
    {
     "cell_type": "code",
     "collapsed": false,
     "input": [
      "def optical_system(x,_rays_,radius):\n",
      "    M2.blocking(_rays_)\n",
      "    M1.trace(_rays_)\n",
      "    M2.trace(_rays_)\n",
      "    #rays.to_z_plane(5.83001949259)\n",
      "    _rays_.go_sphere(x,radius)"
     ],
     "language": "python",
     "metadata": {},
     "outputs": [],
     "prompt_number": 4
    },
    {
     "cell_type": "code",
     "collapsed": false,
     "input": [
      "def src_pick_up():\n",
      "    ox = np.tan(src.zenith)*np.cos(src.azimuth)\n",
      "    oy = np.tan(src.zenith)*np.sin(src.azimuth)\n",
      "    u = linspace(-1,1,nPx)\n",
      "    xx,yy = meshgrid(u,u)\n",
      "    wfs_offset = (ox*xx.ravel(0) + oy*yy.ravel(0))*D/2\n",
      "    return wfs_offset"
     ],
     "language": "python",
     "metadata": {},
     "outputs": [],
     "prompt_number": 5
    },
    {
     "cell_type": "code",
     "collapsed": false,
     "input": [
      "def opd_fun(x,radius):\n",
      "    rays.reset()\n",
      "    optical_system(x,rays,radius)\n",
      "    opd = (rays.optical_path_difference.host())*1e9\n",
      "    P = rays.vignetting.host()\n",
      "    return np.std(opd[P>0])"
     ],
     "language": "python",
     "metadata": {},
     "outputs": [],
     "prompt_number": 6
    },
    {
     "cell_type": "code",
     "collapsed": false,
     "input": [
      "def opd_res_fun(x,radius):\n",
      "    rays.reset()\n",
      "    optical_system(x,rays,radius)\n",
      "    opd = rays.optical_path_difference.host()\n",
      "    opd_res = ( opd[:,0] + src_pick_up() )*1e9\n",
      "    P = rays.vignetting.host()\n",
      "    return np.std(opd_res[P.ravel(0)>0])"
     ],
     "language": "python",
     "metadata": {},
     "outputs": [],
     "prompt_number": 7
    },
    {
     "cell_type": "code",
     "collapsed": false,
     "input": [
      "x = linspace(25,27,101)\n",
      "#plot(x,[opd_fun(_x_,1) for _x_ in x])\n",
      "plot(x,[opd_res_fun(_x_,1) for _x_ in x])\n",
      "#plot(x,[opd_fun(_x_,10) for _x_ in x])\n",
      "plot(x,[opd_res_fun(_x_,10) for _x_ in x])"
     ],
     "language": "python",
     "metadata": {},
     "outputs": [
      {
       "metadata": {},
       "output_type": "pyout",
       "prompt_number": 8,
       "text": [
<<<<<<< HEAD
        "[<matplotlib.lines.Line2D at 0x7fecac424fd0>]"
=======
        "[<matplotlib.lines.Line2D at 0x7f354dae5fd0>]"
>>>>>>> ray.tracing.srcs
       ]
      },
      {
       "metadata": {},
       "output_type": "display_data",
       "png": "iVBORw0KGgoAAAANSUhEUgAAAZAAAAEACAYAAACd2SCPAAAABHNCSVQICAgIfAhkiAAAAAlwSFlz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\nTkSuQmCC\n",
       "text": [
<<<<<<< HEAD
        "<matplotlib.figure.Figure at 0x7fecac424d50>"
=======
        "<matplotlib.figure.Figure at 0x7f354dae5c10>"
>>>>>>> ray.tracing.srcs
       ]
      }
     ],
     "prompt_number": 8
    },
    {
     "cell_type": "code",
     "collapsed": false,
     "input": [
      "from scipy.optimize import minimize_scalar\n",
      "#print opd_fun(5.83001949259)\n",
      "sphere_radius = 1\n",
      "#res = minimize_scalar(opd_fun, bounds=(26.09249-b,26.09249+b), method='bounded')\n",
      "res = minimize_scalar(opd_res_fun, bounds=(25.5,26.5), method='bounded',args=(sphere_radius,))\n",
      "print res.success\n",
      "print res.x\n",
      "chief_xyz = rays.chief_coordinates.host() - sphere_radius*rays.chief_directions.host()\n",
      "print \"Minimum wfe rms focus @ [%6.4f,%6.4f,%6.4f]m with rms wfe=%6.4fnm\"%(chief_xyz[0,0],chief_xyz[0,1],chief_xyz[0,2],opd_res_fun(res.x,sphere_radius))"
     ],
     "language": "python",
     "metadata": {},
     "outputs": [
      {
       "output_type": "stream",
       "stream": "stdout",
       "text": [
        "True\n",
        "26.0924924672\n",
        "Minimum wfe rms focus @ [0.0000,0.0000,5.8300]m with rms wfe=1.1652nm\n"
       ]
      }
     ],
     "prompt_number": 9
    },
    {
     "cell_type": "code",
     "collapsed": false,
     "input": [
      "xyz0 = rays.coordinates.host()\n",
      "rays.reset()\n",
      "optical_system(res.x,rays,sphere_radius)\n",
      "rays.wavefront = src\n",
      "cu_wfs_offset = ceo.cuFloatArray(host_data=src_pick_up())\n",
      "src.phase = cu_wfs_offset\n",
      "#imgr0 = ceo.Imaging(1, nPx-1 ,DFT_osf=8,N_PX_IMAGE=75)\n",
      "#imgr0.propagate(onAxis)\n",
      "wfs.calibrate(src,0.5)\n",
      "#imgr.calibrate(onAxis,0.0)\n",
      "wfs.analyze(src)\n",
      "#fig, ax = subplots()\n",
      "#fig.set_size_inches(12.5,10)\n",
      "#h = ax.pcolor(wfs.frame.host())\n",
      "#colorbar(h)\n",
      "#ax.axis('equal')"
     ],
     "language": "python",
     "metadata": {},
     "outputs": [],
     "prompt_number": 10
    },
    {
     "cell_type": "code",
     "collapsed": false,
     "input": [
      "flux = wfs.flux.host()\n",
      "pcolor(wfs.flux.host())\n",
      "colorbar()\n",
      "print np.max(flux[flux>0])\n",
      "print np.min(flux[flux>0])\n",
      "print np.min(flux[flux>0])/np.max(flux[flux>0])\n",
      "print flux.ravel()[np.argmax(flux)]"
     ],
     "language": "python",
     "metadata": {},
     "outputs": [
      {
       "output_type": "stream",
       "stream": "stdout",
       "text": [
        "2.69294e+07\n",
        "1.43571e+07\n",
        "0.533138\n",
        "2.69294e+07\n"
       ]
      },
      {
       "metadata": {},
       "output_type": "display_data",
       "png": "iVBORw0KGgoAAAANSUhEUgAAAVgAAAEGCAYAAAAg6I3HAAAABHNCSVQICAgIfAhkiAAAAAlwSFlz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\nrCT/H6oICX667jPhAAAAAElFTkSuQmCC\n",
       "text": [
<<<<<<< HEAD
        "<matplotlib.figure.Figure at 0x7feca985a9d0>"
=======
        "<matplotlib.figure.Figure at 0x7f35412dd290>"
>>>>>>> ray.tracing.srcs
       ]
      }
     ],
     "prompt_number": 11
    },
    {
     "cell_type": "code",
     "collapsed": false,
     "input": [
      "def ray_trace():\n",
      "    \"\"\"\n",
      "    print \"IMAGER pixel scale  : %5.2fmas\"%(1e3*imgr.pixel_scale_arcsec)\n",
      "    print \"IMAGER field-of-view: %5.2fmas\"%(1e3*imgr.pixel_scale_arcsec*nPx*2)\n",
      "    print \"WFS pixel scale     : %5.2fmas\"%(1e3*wfs.pixel_scale_arcsec)\n",
      "    print \"WFS field-of-view   : %5.2fmas\"%(1e3*wfs.pixel_scale_arcsec*n*2)\n",
      "    \"\"\"\n",
      "        \n",
      "    rays.reset()\n",
      "    \n",
      "    tid.tic()\n",
      "    M2.blocking(rays)\n",
      "    M1.trace(rays)\n",
      "    M2.trace(rays)\n",
      "    #rays.to_z_plane(res.x)\n",
      "    #xyzf = rays.coordinates.host()\n",
      "    rays.go_sphere(res.x,sphere_radius)\n",
      "    tid.toc()\n",
      "    \n",
      "    rays.wavefront = src    \n",
      "        \n",
      "    P = rays.vignetting.host()\n",
      "    P1D = P.ravel(0)\n",
      "    P = np.reshape(P,(n_radius,n_radius))\n",
      "    \n",
      "#    \"\"\"\n",
      "    ox = np.tan(src.zenith)*np.cos(src.azimuth)\n",
      "    oy = np.tan(src.zenith)*np.sin(src.azimuth)\n",
      "    u = linspace(-1,1,nPx)\n",
      "    xx,yy = meshgrid(u,u)\n",
      "    wfs_offset = P*(ox*xx + oy*yy)*D/2\n",
      "    cu_wfs_offset = ceo.cuFloatArray(host_data=wfs_offset)\n",
      "    src.phase = cu_wfs_offset\n",
      "#    \"\"\"\n",
      "    \n",
      "    imgr.reset()\n",
      "    tid.tic()\n",
      "    imgr.propagate(src)\n",
      "    tid.toc()\n",
      "    \n",
      "    wfs.reset()\n",
      "    wfs.analyze(src)\n",
      "    print np.median(wfs.c.host(units='arcsec'))\n",
      "\n",
      "   # fig, ((ax1,ax2),(ax3,ax4)) = subplots(nrows=2, ncols=2)\n",
      "    fig = figure()\n",
      "    fig.set_size_inches(15,10)\n",
      "    \n",
      "    #opd = np.reshape(rays.optical_path_difference.host()*1e9,(n_radius,n_radius))\n",
      "    opd = src.phase.host(units='nm')\n",
      "    ax2 = subplot2grid( (2,1), (0,0))\n",
      "    hi = ax2.imshow(opd,interpolation='none')\n",
      "    h = colorbar(hi,ax=ax2)\n",
      "    h.set_label('OPD [nm]')\n",
      "    grid()\n",
      "    ax2.set_title( \"WFE [nm]: RMS %4.2f & PtV %4.2f\"%(np.std(opd[P>0]),(np.max(opd[P>0]) - np.min(opd[P>0]))))\n",
      "\n",
      "    \n",
      "    ax5 = subplot2grid( (2,1), (1,0),colspan=2)\n",
      "    h5 = imshow(1e3*wfs.c.host(units='arcsec').reshape(2*nLenslet\n",
      "                                ,nLenslet).transpose(),interpolation='none')\n",
      "    hc5 = colorbar(h5,ax=ax5)\n",
      "    hc5.set_label('centroids [mas]')\n",
      "    \n",
      "    fig.tight_layout()"
     ],
     "language": "python",
     "metadata": {},
     "outputs": [],
     "prompt_number": 12
    },
    {
     "cell_type": "code",
     "collapsed": false,
     "input": [
      "def ray_trace_eigen(mode):\n",
      "    \"\"\"\n",
      "    print \"IMAGER pixel scale  : %5.2fmas\"%(1e3*imgr.pixel_scale_arcsec)\n",
      "    print \"IMAGER field-of-view: %5.2fmas\"%(1e3*imgr.pixel_scale_arcsec*nPx*2)\n",
      "    print \"WFS pixel scale     : %5.2fmas\"%(1e3*wfs.pixel_scale_arcsec)\n",
      "    print \"WFS field-of-view   : %5.2fmas\"%(1e3*wfs.pixel_scale_arcsec*n*2)\n",
      "    \"\"\"\n",
      "\n",
      "    def propagate():\n",
      "        rays.reset()\n",
      "\n",
      "        tid.tic()\n",
      "        M2.blocking(rays)\n",
      "        M1.trace(rays)\n",
      "        M2.trace(rays)\n",
      "        #rays.to_z_plane(res.x)\n",
      "        #xyzf = rays.coordinates.host()\n",
      "        rays.go_sphere(res.x,sphere_radius)\n",
      "        tid.toc()\n",
      "\n",
      "        rays.wavefront = src    \n",
      "\n",
      "        P = rays.vignetting.host()\n",
      "        P1D = P.ravel(0)\n",
      "        P = np.reshape(P,(n_radius,n_radius))\n",
      "\n",
      "        ox = np.tan(src.zenith)*np.cos(src.azimuth)\n",
      "        oy = np.tan(src.zenith)*np.sin(src.azimuth)\n",
      "        u = linspace(-1,1,nPx)\n",
      "        xx,yy = meshgrid(u,u)\n",
      "        wfs_offset = P*(ox*xx + oy*yy)*D/2\n",
      "        cu_wfs_offset = ceo.cuFloatArray(host_data=wfs_offset)\n",
      "        src.phase = cu_wfs_offset\n",
      "\n",
      "        return P\n",
      "\n",
      "    def display_opd(ax2):\n",
      "        hi = ax2.imshow(opd,interpolation='none')\n",
      "        h = colorbar(hi,ax=ax2)\n",
      "        h.set_label('OPD [nm]')\n",
      "        grid()\n",
      "        ax2.set_title( \"WFE [nm]: RMS %4.2f & PtV %4.2f\"%(np.std(opd[P>0]),(np.max(opd[P>0]) - np.min(opd[P>0]))))\n",
      "    \n",
      "    \n",
      "    \n",
      "    fig = figure()\n",
      "    fig.set_size_inches(25,10)\n",
      "\n",
      "    M1.reset()\n",
      "    M2.reset()\n",
      "    u = 0\n",
      "    v = 3\n",
      "    for k in range(7):\n",
      "        M1.update(origin=[0e-6,0e-6,0e-6],euler_angles=[x*mas2rad*50 for x in mode[u:v]],idx=k)\n",
      "        u += 3\n",
      "        v += 3\n",
      "    \n",
      "    P = propagate()\n",
      "    opd = src.phase.host(units='nm')\n",
      "    \n",
      "    ax = subplot2grid( (1,3), (0,0))\n",
      "    display_opd(ax)\n",
      "\n",
      "    M1.reset()\n",
      "    for k in range(7):\n",
      "        M2.update(origin=[0e-6,0e-6,0e-6],euler_angles=[x*mas2rad*400 for x in mode[u:v]],idx=k)\n",
      "        u += 3\n",
      "        v += 3\n",
      "    \n",
      "    P = propagate()\n",
      "    opd = src.phase.host(units='nm')\n",
      "    \n",
      "    ax = subplot2grid( (1,3), (0,1))\n",
      "    display_opd(ax)\n",
      "\n",
      "    u = 0\n",
      "    v = 3\n",
      "    for k in range(7):\n",
      "        M1.update(origin=[0e-6,0e-6,0e-6],euler_angles=[x*mas2rad*50 for x in mode[u:v]],idx=k)\n",
      "        u += 3\n",
      "        v += 3\n",
      "    \n",
      "    P = propagate()\n",
      "    opd = src.phase.host(units='nm')\n",
      "    \n",
      "    ax = subplot2grid( (1,3), (0,2))\n",
      "    display_opd(ax)\n",
      "\n",
      "    fig.tight_layout()"
     ],
     "language": "python",
     "metadata": {},
     "outputs": [],
     "prompt_number": 13
    },
    {
     "cell_type": "code",
     "collapsed": false,
     "input": [
      "mas2rad = 1e-3*math.pi/180/3600\n",
      "M1.reset()\n",
      "M2.reset()\n",
      "M1.update(origin=[0e-6,0e-6,0e-6],euler_angles=[x*mas2rad for x in [0,0,000]],idx=1)\n",
      "M2.update(origin=[0e-6,0e-6,0e-6],euler_angles=[x*mas2rad for x in [0,0,000]],idx=3)\n",
      "ray_trace()"
     ],
     "language": "python",
     "metadata": {},
     "outputs": [
      {
       "output_type": "stream",
       "stream": "stdout",
       "text": [
        "0.0\n"
       ]
      },
      {
       "metadata": {},
       "output_type": "display_data",
       "png": "iVBORw0KGgoAAAANSUhEUgAAAxUAAALKCAYAAABEAnxEAAAABHNCSVQICAgIfAhkiAAAAAlwSFlz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\n",
       "text": [
<<<<<<< HEAD
        "<matplotlib.figure.Figure at 0x7fec9f431e10>"
=======
        "<matplotlib.figure.Figure at 0x7f3540c04790>"
>>>>>>> ray.tracing.srcs
       ]
      }
     ],
     "prompt_number": 14
    },
    {
     "cell_type": "code",
     "collapsed": false,
     "input": [
      "def get_slopes(mirror='M1',T=[0,0,0],O=[0,0,0],segId=0):\n",
      "    \n",
      "    M1.reset()\n",
      "    M2.reset()\n",
      "    if mirror==\"M1\":\n",
      "        M1.update(origin=T,euler_angles=O,idx=segId)\n",
      "    if mirror==\"M2\":\n",
      "        M2.update(origin=T,euler_angles=O,idx=segId)\n",
      "    rays.reset()\n",
      "    \n",
      "    M2.blocking(rays)\n",
      "    M1.trace(rays)\n",
      "    M2.trace(rays)\n",
      "    #rays.to_z_plane(res.x)\n",
      "    #xyzf = rays.coordinates.host()\n",
      "    rays.go_sphere(res.x,10)\n",
      "    \n",
      "    rays.wavefront = src    \n",
      "        \n",
      "    P = rays.vignetting.host()\n",
      "    P1D = P.ravel(0)\n",
      "    P = np.reshape(P,(n_radius,n_radius))\n",
      "    \n",
      "#    \"\"\"\n",
      "    ox = np.tan(src.zenith)*np.cos(src.azimuth)\n",
      "    oy = np.tan(src.zenith)*np.sin(src.azimuth)\n",
      "    u = linspace(-1,1,nPx)\n",
      "    xx,yy = meshgrid(u,u)\n",
      "    wfs_offset = P*(ox*xx + oy*yy)*D/2\n",
      "    cu_wfs_offset = ceo.cuFloatArray(host_data=wfs_offset)\n",
      "    src.phase = cu_wfs_offset\n",
      "#    \"\"\"\n",
      "    \n",
      "    wfs.reset()\n",
      "    wfs.analyze(src)\n",
      "    return wfs.c.host(units='arcsec')"
     ],
     "language": "python",
     "metadata": {},
     "outputs": [],
     "prompt_number": 15
    },
    {
     "cell_type": "code",
     "collapsed": false,
     "input": [
      "ax = pcolor(wfs.flux.host())\n",
      "colorbar()"
     ],
     "language": "python",
     "metadata": {},
     "outputs": [
      {
       "metadata": {},
       "output_type": "pyout",
       "prompt_number": 16,
       "text": [
<<<<<<< HEAD
        "<matplotlib.colorbar.Colorbar instance at 0x7fec9f1827e8>"
=======
        "<matplotlib.colorbar.Colorbar instance at 0x7f354095ff80>"
>>>>>>> ray.tracing.srcs
       ]
      },
      {
       "metadata": {},
       "output_type": "display_data",
       "png": "iVBORw0KGgoAAAANSUhEUgAAAVgAAAEGCAYAAAAg6I3HAAAABHNCSVQICAgIfAhkiAAAAAlwSFlz\nAAALEgAACxIB0t1+/AAAG8hJREFUeJzt3Xu0XGWZ5/HvjxDutohIuBhMhru9sINMIyMqyTQ6gVkd\nkOkFRJkGG5VhGnH1wmlpVy9Tx+lpL9OwaFtlInfRJosWiWG1KKhJhFEisRMIEJRoMnI9EUQE5ZKE\nZ/6oHagUp2q/Z1ftql07v89ae526PPXuhw3n4T1vvft9FRGYmVn/7TDsBMzM6soF1sysJC6wZmYl\ncYE1MyuJC6yZWUlcYM3MSuICa2a1IOkqSeOS1iTEXiJpVXb8VNJTpeTkebBmVgeS3gk8C3wlIo6c\nxOfOB2ZFxAf7nZN7sGZWCxFxO7BNT1TSQZJukbRS0g8kHTbBR98HXF9GTjuW0aiZWUV8GTg3ItZJ\nehvwJeBPtr4p6U3ADOD7ZZzcBdbMaknSHsB/AP5F0taXd2oLOwP4lyhprNQF1szqagfgNxFxVJeY\n04H/XmYCHUnaRdIKSasl3S/p09nre0m6TdLPJN0qac+yEjQzKyIifgusl/RnAGp6y9b3JR0OvC4i\n7iwrh64FNiKeB+ZExCzgLcAcSe8ALgJui4hDge9lz83MhkbS9cAPgcMkPSTpA8D7gXMkrQbuBea1\nfOR0Svpy6+WcUoceJO0GLAfOBm4Ejo+IcUn7Assi4vDSsjQzG0G507Qk7ZBV/3FgaUTcB0yLiPEs\nZByYVmKOZmYjKfdLroh4CZgl6bXAdyTNaXs/JPluBTOzNsmzCCLiaUn/ChwNjEvaNyIel7QfsLE9\n3kXXzCYjIpQf1dlka06v50vRtcBK2hvYHBG/kbQr8G5gDFgCnAV8Nvu5eOIWGn1MdRCWAnNyo6pl\nMDnHxkZ+0Lz8kMZD0JieE7Qkvx3tk5BP3/i/i/I1+tLK3yXG/W1fzpYvrwe7H3CtpB1ojtdeFxHf\nk7QKuEHSOcAG4LRy0zQzyzd12Am06VpgI2IN8NYJXv81cEJZSZmZFVG1O6eqls+QzRh2AgXMGHYC\nkzL7D4adQREzhp1AATOGncBQ7DrsBNq4wG5j5rATKGC0cp792mFnUMRoXeOmUcy5dyM1RGBmNkqq\nVtCqlo+ZWWHuwVrlXJwwRWZsn/LzeFnCuVJyvnDkpglar6pW0KqWj5lZYe7BmpmVxAXWzKwknqZl\nZlaSqhW0quVjZlaYhwjMzEpStYJWtXysz1KmMz1Tfhp9l5Kzp3Jtf9yDNTMrSdUKWtXyMTMrzD1Y\nM7OSVG2aVu6mh2Zmo2Jq4tFO0nRJSyXdJ+leSRd0OoekP5a0WdKpefm4B2tmtdFDQdsE/FVErJa0\nB/ATSbdFxNrWIElTaG6V9W0gd08vF1gzq42pqRVt87ZPI+Jx4PHs8bOS1gL7A2vbPvkR4OvAH6ec\nxgV2hKVsRDjQVbAqJmUqV8o1HOwGi9aLHQsW2FaSZgBHASvaXj8AOBn4jzQLbO4uti6wZlYbU6f0\n9vlseODrwEcj4tm2ty8FLoqIkCQ8RGBm25NOPdjlm5tHN5KmAjcCX42IxROEHA0satZW9gZOlLQp\nIjpuNO8Ca2a1MXXniV8/Yedtt8H+u43bvp/1SK8E7o+ISydqIyL+XUv81cDN3YoruMCaWZ0Ur2jH\nAWcC90halb32CeBAgIhYONh0zMyqpmBFi4g7mMR9ARHxgRLTMTOroIpVtIqlY2bWgx5nEfSbC+wo\n++CwE6gBX8N6qVhFq1g6ZmY96DCLYFi6Dup2WgBBUkPSw5JWZcfcwaRrZtbFjonHANPpZsIFEGje\nInZJRFxSeoZmZqkq9jd513Q6LIBwQPZ27m1iZmYDVbEvuZLnfbUsgHBn9tJHJN0t6UpJe5aQm5nZ\n5FRsiCCpwE6wAMJlwExgFvAYcHFpGZqZpapYgc091UQLIETExpb3rwBunvjTS1sez6BZk4fj+lid\nG3PG+yZa36HNrTnvX57fhE5t5AelOKQ/zWzXBnQN4xuN/KAPJTT0nvyQRf98Sm7MfM1KOFmZ1gMb\n+t/sKI3BdloAQdJ+EfFY9vS9wJqJW5jTnyzNrGZmsm2Ha3l/mq3YNK28et9pAYT5kmbRnE2wHji3\nvBTNzBKNUg+2ywIIt5STjplZDyo2i6Bi9d7MrAcVq2gVS8fMrAcVq2gVS8fMrAcVGyJIvtHAzKzy\nCs6D7bTuSlvM4ZJ+JOl5SRempKOI3J1nC5EU0Cil7XZxYP55xn5Zfh79dEHsmhuzkqNzY36oO/qR\nTm29Pd6RG/Pv+UnX9z+v5/qVzsAsODA/Rr9slJ7HKxpERE+330uKOD8x9gtscz5J+wL7tq67ApwS\nEWtbYt4AvAk4BXgqInJvsHIP1szqY0ri0SYiHo9o3o2U3a26Fti/LeZXEbGS5iJYSTwGa2b10YeK\n1rLuyope23KBNbP66LGiTbDuyjDTMTOrkA6zCJb9v+bRzUTrrvTKBdbM6qNDRZt9UPPYaqztu99O\n6650kPxlnAusmdVH8YrWad2VAwEiYmE20+Au4A+AlyR9FHhzt6GEyhfYmNfIjRlbUn4eg5Yy9Wda\nHJwb80Hyp2ldkZTR6EnZMPZm8q9hHae6pUxbTPnd05L8mIEquJpWl3VXWmMeB6ZPpt3KF1gzs2QV\nq2gVS8fMrAcVq2gVS8fMrAcVW4vABdbM6qNiFa1i6ZiZ9aBiFa1i6ZiZ9cBDBGZmJdll2Alsq/IF\nto5zXPvlvy24JjdGCUtGxrH5MWN35uczSAuOzY/RnY3cmFiQHzOWf6paGsnfvYpVtIqlY2bWAw8R\nmJmVpGIVrWLpmJn1oGIVrWLpmJn1wEMEZmYl8SwCM7OSuAf7ii/Hz3NjHu1pn8l6W/up/rSTMp0p\nxVdjTV/aOVNH5sY0+jRtrF/XcHuV8jv8YR2UG9M3FesyViwdM7MeVKyiedtuM6uPHROPNpKukjQu\nacI/wyTtLenbklZLulfS2SnpdC2wkqZLWirpvqzRC7LX95J0m6SfSbpV0p4pJzMzK9WUxOPVrgbm\ndmn5fGBVRMwCZgMXS8rtL+f1YDcBfxURfwgcC/ylpCOAi4DbIuJQ4HvZczOz4SrYg42I24GnurT8\nGM29uMh+PhkRm1PS6Sjbg+bx7PGzktYCBwDzgOOzsGuBZbjImtmwFdyTK8HlwPclPQq8Bjgt5UPJ\nY7CSZgBHASuAaRExnr01DkybTKZmZqUo2INN8AlgdUTsD8wCvijpNSnp5JK0B3Aj8NGIeKa5hXhT\nRISkmPiTS1sezwBmppzOEh1xYEJQwu6hKR6M/L1nDz7v4b6c622xIjfmEKXsGZtvkNfQWq0HNvS/\n2Q4VbdkPm0cP3g78L4CI+Lmk9cBhwMoC6bxC0lSaxfW6iFicvTwuad+IeFzSfsDGiT89Jzl7M9ue\nzGTbDtfy/jTboaLNflfz2Grskkm3/ABwAvB/JU2jWVx/UTCdJjW7qlcC90fEpS1vLQHOAj6b/Vw8\nwcfNzAYqCt7JJel6mt8r7S3pIWABMBUgIhYCfw9cLelumkOrfx0Rv85rN68HexxwJnCPpFXZa38D\nfAa4QdI5NPv5SQO+ZmZl2lLwRoOImJ/z/hPAn0623bxZBHfQ+YuwEyZ7MjOzMhUtsGWpWDpmZsW9\nsPNOiZEvlprHVi6wZlYbW6ZUazktF1gzq40tFVuvcKgFNmUZs0b5aYysF9YmBO2eH7Io4Sp/bZDL\nRv6f/Pm0KTmfkRDTr2u4vRroUoQJNrvAmpmVY0vFSlq1sjEz64GHCMzMSuICa2ZWkhdInaY1GC6w\nZlYbHoM1MyuJhwgmacG8/JixJeXnMWiHJ8TssnsjNyZlOtMDCeeqmpScU/7Z+3ENR/H6pUj53WtU\n7HfPBdbMrCSeB2tmVhKPwZqZlcRDBGZmJXmxYtO0kjc9NDOrus1MSTraSbpK0rikNRO1K2m2pKcl\nrcqOv03Jxz1YM6uNHsZgrwb+CfhKl5jlEZEwt+IVLrBmVhtFx2Aj4nZJM3LCJr2mXOULrJY0cmPi\niPyYsZRl6QbkmISYkxLmcKZspd2vZQYXvD4/Rk82+nKueH1+O2NP5reTMj815Roeou75fCvh39WP\nE3IZpAVH5Mek/O5VTYlfcgXw9mzTw0eAj0XE/XkfqnyBNTNL1Wke7L3LnuS+ZbmbwHbzb8D0iPi9\npBNp7qR9aN6HXGDNrDZeZOcJXz909v4cOnv/l5/fMLZuUu1GxDMtj2+R9CVJe+Vt3e0Ca2a1UdYQ\ngaRpwMaICEnHAMorruACa2Y1UvRWWUnXA8cDe0t6CFgATAWIiIXAnwHnSdoM/B44I6VdF1gzq42i\n07QiYn7O+18EvjjZdl1gzaw2fKtsCbS20Zd24lsJ7Yx3f3vR2afkNnGSZqUllOPg8/J3X+2Xfk3B\n6te5Gn3ab7gf1zBlSt31sTo35oxrFuefbFp+iE7Kz6dRoWmL/eQCa2ZWEhdYM7OSvNBhmtaw5C72\nMtEiCJIakh5uWfhgbrlpmpnl28KUpGNQUlbTuhpoL6ABXBIRR2XHt/ufmpnZ5FStwOYOEXRZBKFP\nd7mbmfVH1baM6WU92I9IulvSlZL27FtGZmYFbWHHpGNQip7pMuBT2eP/CVwMnPPqsKUtj2cAMwue\nzszqZT2woe+t1mIWQURs3PpY0hXAzRNHzimUlJnV3Uy27XAt70urtSiwkvaLiMeyp+8FJtxmwcxs\nkF6o2J5cuQW2wyIIsyXNojmbYD1wbqlZmpklGLltuzssgnBVCbmYmfWkFkMEZmZV5AJrZlaSqs2D\ndYE1s9qo2hisIqKchqWgT0vK5fGusp19Tf1Z0nAUd5VN8f54Y27MIfpg1/dru6tsn5YBTdMgInq6\nO1RSnB2XJcVeo/O2OZ+kq4D/THNbmCMnaPv9wF/TvIP1GeC8iLgn7zzVKvdmZj14sfg0rauBfwK+\n0uH9XwDvioins8Wtvgwcm9eoC6yZ1UbRMdgua65sff9HLU9XAPl/+uACa2Y1MqAx2HOAb6UEusCa\nWW10mqb1q2X388Sy+3tuX9Ic4C+A41LiXWDNrDY6Fdi9Zh/JXrNf+e7qp2M3TrptSW8BLgfmRsRT\nKZ9xgTWz2ihrHqykA4FvAGdGxLrUz7nAmlltFB2D7bDmylSAiFgIfBJ4HXCZJIBNEZE747Ly82Bj\nXn4bY0t6Pk3lHJ4Qc0bC9V2UEPNAwrlG0aCuYV2v34J5+TFa0ujT2fozD3Z23JIUu0wn9ny+FO7B\nmllt+FZZM7OSVO1W2WplY2bWA6+mZWZWEhdYM7OSuMCamZXkBXYedgrbqHyBreMUrBQpU3+e/10j\nN2aX3fNjRnEqV7+mYKVcw8/snnCyGhrF3z33YM3MSuICa2ZWEs+DNTMriefBmpmVxEMEZmYlcYE1\nMyvJCy8W3pOrFEMtsF+On+fGPFr6ejeja+eEnUFTpExnStnB9uDz+rOD7brLet/pNVW/ruH2KuV3\n+MM6aACZNG3ZXK0+Y7WyMTPrwZbNHiIwMytF1QrsDnkBkq6SNC5pTctre0m6TdLPJN0qac9y0zQz\ny7d505SkYyKS5kp6QNKDkj4+wfuvk3STpLslrZD0h3n55BZY4GpgbttrFwG3RcShwPey52ZmQ/XS\nlh2TjnaSpgBfoFnr3gzMl9Q+Qv8J4N8i4o+APwf+MS+f3AIbEbcD7TsozgOuzR5fC5yS146ZWek2\nT0k7Xu0YYF1EbIiITcAi4OS2mCOApQAR8VNghqQ3dEsnpQc7kWkRMZ49HgemFWzHzKx/nt8x7Xi1\nA4CHWp4/nL3W6m7gVABJxwBvArpOeen5S66IiOYGhxNZ2vJ4BjCz19OZWS2sBzb0v9nNHV7/8TK4\na1m3T6bs/voZ4B8lrQLWAKuALd0+ULTAjkvaNyIel7QfsHHisDkFm7cUa385uHOlzDv9aqzJjUlx\npo7sSzspBnkNrdVMtu1wLe9Ps50K7FtnN4+tvjTWHvEIML3l+XSavdiXRcQzwF9sfS5pPfCLbukU\nHSJYApyVPT4LWFywHTOz/tmceLzaSuAQSTMk7QScTrPOvUzSa7P3kPQhYHlEPNstndwerKTrgeOB\nvSU9BHySZlf5Bknn0Oznn5bXjplZ6TYV+1hEbJZ0PvAdYApwZUSslXRu9v5CmrMLrsmGRO8Fzslr\nN7fARsT8Dm+dkJq8mdlAdB0R7S4ibgFuaXttYcvjHwGHTaZN38llZvXRaQx2SFxgzaw+nh92Atty\ngTWz+nAP9hUpy5g1yk9jZB3xyYSgT+WHxLGN3JixO/PbWdenpSUb3Jgbs+DY/HZ0ZyM3pl/XcHs1\nyKUIk7jAmpmVxAXWzKwkBadplcUF1szqo4dpWmVwgTWz+vAQgZlZSTxNy8ysJO7BmpmVpGIFVhEp\nyyAWaFiKfsxijXn5bYwtyQ2ppWlxdm7Mn+qa3Jj8DblHU8rG3jcnXMPxhGtYRwvm5cdoSaNPZ2sQ\nET3NpJYUXJxYzy5Uz+dL4R6smdWHp2mZmZXE07TMzEriWQRmZiWp2JdcRbeMMTOrnk2JxwQkzZX0\ngKQHJX28Q8xsSask3StpWV467sGaWX0UHIOVNAX4As2dWh4B7pK0JCLWtsTsCXwR+E8R8bCkvfPa\nrXyBTZkGEgfmx4yN2O6hF8SuuTErWZcbU9cpWClS/tnfnnANT8/5d/F5PZeYUXUsODA/pn9TsAao\n+BDBMcC6iNgAIGkRcDKwtiXmfcCNEfEwQEQ8kdeohwjMrD6K7yp7APBQy/OHs9daHQLsJWmppJWS\n/mteOpXvwZqZJes0D/bRZfDYsm6fTLlDYSrwVuBPgN2AH0m6MyIe7PQBF1gzq48XOrz++tnNY6tV\nY+0RjwDTW55Pp9mLbfUQ8EREPAc8J+kHwB8BHQushwjMrD6KDxGsBA6RNEPSTsDpQPtN+N8E3iFp\niqTdgLcB93dLxz1YM6uPgrfKRsRmSecD3wGmAFdGxFpJ52bvL4yIByR9G7gHeAm4PCJcYM1sO9HD\nrbIRcQtwS9trC9ue/wPwD6ltusCaWX1U7E6uWhRY/bKRG3N9rM6NOeN9i/NPdmvO+5fnN6FTG7kx\njYSF1OLC/HZ+mN/Mdu3dH7sjN0YXN3o+T3wjoY0PJTT0nvyQRf98Sm6MNCvhZCPIBdbMrCR1Wq5Q\n0gbgtzRHPjZFxDH9SMrMrJBO07SGpNcebACzI+LX/UjGzKwnNRwiKH3bBTOzJBUbIuj1RoMAvpvd\nl5syRG9mVp4ticeA9NqDPS4iHpP0BuA2SQ9ExO39SMzMbNLqNEQQEY9lP38l6SaaS361FNilLdEz\ngJm9nK4n8xOmpcynD1NXTu29iWQd74C2ZAO6hilT85Jc36eYoVsPbOh/s3UpsNm9uFMi4hlJu9Oc\node2gsKcnpIzs7qaybYdruX9abZiY7C99GCnATdJ2trO1yIibxq+mVl56jJNKyLWQz/+pjYz65O6\nDBGYmVVOjYYIzMyqZYBTsFK4wJpZfXiIwMysJC6w1jcp+1LvU3oWo83XsF56GIOVNBe4lOaOBldE\nxGfb3j8Z+BTN3QxeAv5HRHy/W5susGZWHwV7sJKmAF8ATqC5AeJdkpZExNqWsO9GxDez+COBm4CD\nu7XrTQ/NzJp3oa6LiA0RsQlYBJzcGhARv2t5ugfwRF6jLrBmZnAAzW25t3o4e20bkk6RtJbm3l0X\n5DXqIQIz2w4sy46OIqWViFgMLJb0TuA64LBu8S6wZlYjnb7lOi47thprD3gEmN7yfDrNXuyEIuJ2\nSTtKen1EPNkpzkMEZlYjmxOPV1kJHCJphqSdgNOBJa0Bkg5StviKpLcCdCuu4B7sSNM+jdyYi8mP\neab3VCrpNQkxKdfQRkmxeVoRsVnS+cB3aE7TujIi1ko6N3t/IfBfgD+XtAl4Fjgjr10XWDOrkecK\nfzIibqH55VXrawtbHn8O+Nxk2nSBNbMaqdZqLy6wZlYj1bpX1gXWzGrEPVgzs5K4B2tmVhL3YG2A\nLkyYpjWKU7lSpmCl/LNb3RSfRVAGF1gzqxEPEZiZlcRDBGZmJXEP1sysJO7BmpmVxD1YM7OSuAdr\nZlYST9OyikmZLxob82OY13MqTUvyQ7zMoE3MPVgzs5JUawy28I4GkuZKekDSg5I+3s+kzMyK2ZR4\nvFpKTZP0+ez9uyUdlZdNoQLbsof4XODNwHxJRxRpq1rWDzuBAkYr52VPDzuDIkbrGjeNYs79UGzL\nmJSaJukk4OCIOAT4MHBZXjZFe7C5e4iPpg3DTqCADcNOYFKW/XbYGRSxYdgJFLBh2AkMSeEebEpN\nmwdcCxARK4A9JU3rlk3RApu0h7iZ2WAV3vQwpaZNFPPGbtkU/ZIraQ9xM7PBKjxNK7WmaTKfK1pg\nE/cQbxRsfpiWDzuBAsrPWfv0r62xR3ICks7V6D2RSfF/F6OhUfSDKTWtPeaN2WsdFS2wL+8hDjxK\ncw/x+a0BEdFe6c3MStNjzcmtaTRnaJ8PLJJ0LPCbiBjv1mihAttpD/EibZmZDVunmibp3Oz9hRHx\nLUknSVoH/A74QF67ivBwqplZGQrfaNDNKN6EIGmDpHskrZL042Hn007SVZLGJa1peW0vSbdJ+pmk\nWyXtOcwc23XIuSHp4ew6r5I0d5g5tpI0XdJSSfdJulfSBdnrlb3OXXKu8nXeRdIKSasl3S/p09nr\nlb3ORfW9B5tN2P0pcALNAeC7gPlVH0KQtB44OiJ+PexcJiLpncCzwFci4sjstc8BT0TE57L/kb0u\nIi4aZp6tOuS8AHgmIi4ZanITkLQvsG9ErJa0B/AT4BSafwpW8jp3yfk0KnqdASTtFhG/l7QjcAfw\nMZrzTCt5nYsqowc7yjchVPaLuYi4HXiq7eWXJz5nP08ZaFI5OuQMFb3OEfF4RKzOHj8LrKU597Gy\n17lLzlDR6wwQEb/PHu5Ec8zzKSp8nYsqo8CO6k0IAXxX0kpJHxp2MommtXyLOQ50vaukQj6S3ct9\nZVX/DMy+TT4KWMGIXOeWnO/MXqrsdZa0g6TVNK/n0oi4jxG5zpNRRoEd1W/NjouIo4ATgb/M/rwd\nGdEc6xmFa38ZMBOYBTwGXDzcdF4t+1P7RuCjEbHNjuVVvc5Zzl+nmfOzVPw6R8RLETGL5lzSd0ma\n0/Z+Ja/zZJVRYBNvQqiWiHgs+/kr4CaaQx1VN56NwSFpP2DjkPPJFREbIwNcQcWus6SpNIvrdRGx\nOHu50te5Jeevbs256td5q4h4GvhX4Ggqfp2LKKPAvjxhV9JONCfsJiyhPDySdpP0muzx7sB7gDXd\nP1UJS4CzssdnAYu7xFZC9ouz1Xup0HWWJOBK4P6IuLTlrcpe5045V/w67711yELSrsC7gVVU+DoX\nVco8WEknApfyyoTdT/f9JH0kaSbNXis0b774WtVylnQ9cDywN83xqU8C3wRuAA6kuXzSaRHxm2Hl\n2G6CnBcAs2n+2Ro019Q7N+9umEGR9A7gB8A9vPLn6d8AP6ai17lDzp+geRdSVa/zkTS/xNohO66L\niP8taS8qep2L8o0GZmYlKeVGAzMzc4E1MyuNC6yZWUlcYM3MSuICa2ZWEhdYM7OSuMCamZXEBdbM\nrCT/H6oICX667jPhAAAAAElFTkSuQmCC\n",
       "text": [
<<<<<<< HEAD
        "<matplotlib.figure.Figure at 0x7feca988b850>"
=======
        "<matplotlib.figure.Figure at 0x7f3547073c10>"
>>>>>>> ray.tracing.srcs
       ]
      }
     ],
     "prompt_number": 16
    },
    {
     "cell_type": "code",
     "collapsed": false,
     "input": [
      "VL = wfs.valid_lenslet.f.host()\n",
      "spy(VL)\n",
      "VL = np.tile(VL.reshape((1,900)),2)\n",
      "print VL.shape\n",
      "nvl = VL.sum()\n",
      "print nvl\n",
      "mask = VL>0"
     ],
     "language": "python",
     "metadata": {},
     "outputs": [
      {
       "output_type": "stream",
       "stream": "stdout",
       "text": [
        "(1, 1800)\n",
        "1024.0\n"
       ]
      },
      {
       "metadata": {},
       "output_type": "display_data",
       "png": "iVBORw0KGgoAAAANSUhEUgAAAPwAAAD7CAYAAABOrvnfAAAABHNCSVQICAgIfAhkiAAAAAlwSFlz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\nPJDIvwDSCFRj29XqowAAAABJRU5ErkJggg==\n",
       "text": [
<<<<<<< HEAD
        "<matplotlib.figure.Figure at 0x7fec9d90d790>"
=======
        "<matplotlib.figure.Figure at 0x7f35401263d0>"
>>>>>>> ray.tracing.srcs
       ]
      }
     ],
     "prompt_number": 17
    },
    {
     "cell_type": "code",
     "collapsed": false,
     "input": [
      "IntMat = np.zeros((nvl,1*7*5))\n",
      "idx = -1\n",
      "stroke = {\"M1 tilt\": 25, \"M2 tilt\": 200, \"M1 clock\": 1e3, \"M2 clock\": 8e3}\n",
      "tid.tic()\n",
      "for M in [\"M2\"]:\n",
      "    sys.stdout.write(M+': ')\n",
      "    tilt = stroke[M+\" tilt\"]\n",
      "    clockAmp = stroke[M+\" clock\"]\n",
      "    for k in range(7):\n",
      "        sys.stdout.write(\"%d\"%(k))\n",
      "        \n",
      "        o = [tilt*mas2rad,0,0]\n",
      "        s = get_slopes(mirror=M,T=[0,0,0],O=o,segId=k)\n",
      "        o = [-tilt*mas2rad,0,0]\n",
      "        s = 0.5*(s-get_slopes(mirror=M,T=[0,0,0],O=o,segId=k))\n",
      "        idx += 1\n",
      "        IntMat[:,idx] = s[mask]\n",
      "        \n",
      "        o = [0,tilt*mas2rad,0]\n",
      "        s = get_slopes(mirror=M,T=[0,0,0],O=o,segId=k)\n",
      "        o = [0,-tilt*mas2rad,0]\n",
      "        s = 0.5*(s-get_slopes(mirror=M,T=[0,0,0],O=o,segId=k))\n",
      "        idx += 1\n",
      "        IntMat[:,idx] = s[mask]\n",
      "        \n",
      "        \"\"\"\n",
      "        o = [0,0,clockAmp*mas2rad]\n",
      "        s = get_slopes(mirror=M,T=[0,0,0],O=o,segId=k)\n",
      "        o = [0,0,-clockAmp*mas2rad]\n",
      "        s = 0.5*(s-get_slopes(mirror=M,T=[0,0,0],O=o,segId=k))\n",
      "        idx += 1\n",
      "        IntMat[:,idx] = s[mask]\n",
      "        \"\"\"\n",
      "        \n",
      "        o = [0,0,0]\n",
      "        t = [10e-6,0,0]\n",
      "        s = get_slopes(mirror=M,T=t,O=o,segId=k)\n",
      "        t = [-10e-6,0,0]\n",
      "        s = 0.5*(s-get_slopes(mirror=M,T=t,O=o,segId=k))\n",
      "        idx += 1\n",
      "        IntMat[:,idx] = s[mask]\n",
      "        \n",
      "        t = [0,10e-6,0]\n",
      "        s = get_slopes(mirror=M,T=t,O=o,segId=k)\n",
      "        t = [0,-10e-6,0]\n",
      "        s = 0.5*(s-get_slopes(mirror=M,T=t,O=o,segId=k))\n",
      "        idx += 1\n",
      "        IntMat[:,idx] = s[mask]\n",
      "        \n",
      "        t = [0,0,10e-6]\n",
      "        s = get_slopes(mirror=M,T=t,O=o,segId=k)\n",
      "        t = [0,0,-10e-6]\n",
      "        s = 0.5*(s-get_slopes(mirror=M,T=t,O=o,segId=k))\n",
      "        idx += 1\n",
      "        IntMat[:,idx] = s[mask]\n",
      "        \n",
      "    sys.stdout.write('\\n')\n",
      "tid.toc()"
     ],
     "language": "python",
     "metadata": {},
     "outputs": [
      {
       "output_type": "stream",
       "stream": "stdout",
       "text": [
        "M2: 01"
       ]
      },
      {
       "output_type": "stream",
       "stream": "stdout",
       "text": [
        "23"
       ]
      },
      {
       "output_type": "stream",
       "stream": "stdout",
       "text": [
        "45"
       ]
      },
      {
       "output_type": "stream",
       "stream": "stdout",
       "text": [
        "6\n"
       ]
      }
     ],
     "prompt_number": 24
    },
    {
     "cell_type": "code",
     "collapsed": false,
     "input": [
      "#np.save('interactionMatrix_1arcmin_270',IntMat)"
     ],
     "language": "python",
     "metadata": {},
     "outputs": [],
     "prompt_number": 25
    },
    {
     "cell_type": "code",
     "collapsed": false,
     "input": [
      "fig, ax = subplots()\n",
      "h = ax.pcolor(IntMat)\n",
      "colorbar(h)\n",
      "grid()"
     ],
     "language": "python",
     "metadata": {},
     "outputs": [
      {
       "metadata": {},
       "output_type": "display_data",
       "png": "iVBORw0KGgoAAAANSUhEUgAAAXIAAAEACAYAAACuzv3DAAAABHNCSVQICAgIfAhkiAAAAAlwSFlz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\nAABJRU5ErkJggg==\n",
       "text": [
<<<<<<< HEAD
        "<matplotlib.figure.Figure at 0x7fec9c355c10>"
=======
        "<matplotlib.figure.Figure at 0x7f354130d150>"
>>>>>>> ray.tracing.srcs
       ]
      }
     ],
     "prompt_number": 26
    },
    {
     "cell_type": "code",
     "collapsed": false,
     "input": [
      "U,ev,V = np.linalg.svd(IntMat, full_matrices=False)\n",
      "semilogy(ev,'.')\n",
      "grid()"
     ],
     "language": "python",
     "metadata": {},
     "outputs": [
      {
       "metadata": {},
       "output_type": "display_data",
       "png": "iVBORw0KGgoAAAANSUhEUgAAAXsAAAEDCAYAAADUT6SnAAAABHNCSVQICAgIfAhkiAAAAAlwSFlz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\newBoAYY9ALQAwx4AWoBhDwAt8H9d9YZmKpiYCQAAAABJRU5ErkJggg==\n",
       "text": [
<<<<<<< HEAD
        "<matplotlib.figure.Figure at 0x7fec9f26be50>"
       ]
      }
     ],
     "prompt_number": 30
=======
        "<matplotlib.figure.Figure at 0x7f353aedbe50>"
       ]
      }
     ],
     "prompt_number": 21
>>>>>>> ray.tracing.srcs
    },
    {
     "cell_type": "raw",
     "metadata": {},
     "source": [
      "n_eg = -1\n",
      "print V[n_eg,0:14]/np.max(V[n_eg,:])\n",
      "print V[n_eg,14:]/np.max(V[n_eg,:])\n",
      "print V.shape"
     ]
    },
    {
     "cell_type": "code",
     "collapsed": false,
     "input": [
      "def ray_trace_eigen2(V):\n",
      "    \"\"\"\n",
      "    print \"IMAGER pixel scale  : %5.2fmas\"%(1e3*imgr.pixel_scale_arcsec)\n",
      "    print \"IMAGER field-of-view: %5.2fmas\"%(1e3*imgr.pixel_scale_arcsec*nPx*2)\n",
      "    print \"WFS pixel scale     : %5.2fmas\"%(1e3*wfs.pixel_scale_arcsec)\n",
      "    print \"WFS field-of-view   : %5.2fmas\"%(1e3*wfs.pixel_scale_arcsec*n*2)\n",
      "    \"\"\"\n",
      "\n",
      "    def propagate():\n",
      "        rays.reset()\n",
      "\n",
      "        tid.tic()\n",
      "        M2.blocking(rays)\n",
      "        M1.trace(rays)\n",
      "        M2.trace(rays)\n",
      "        #rays.to_z_plane(res.x)\n",
      "        #xyzf = rays.coordinates.host()\n",
      "        rays.go_sphere(res.x,sphere_radius)\n",
      "        tid.toc()\n",
      "\n",
      "        rays.wavefront = src    \n",
      "\n",
      "        P = rays.vignetting.host()\n",
      "        P1D = P.ravel(0)\n",
      "        P = np.reshape(P,(n_radius,n_radius))\n",
      "\n",
      "        ox = np.tan(src.zenith)*np.cos(src.azimuth)\n",
      "        oy = np.tan(src.zenith)*np.sin(src.azimuth)\n",
      "        u = linspace(-1,1,nPx)\n",
      "        xx,yy = meshgrid(u,u)\n",
      "        wfs_offset = P*(ox*xx + oy*yy)*D/2\n",
      "        cu_wfs_offset = ceo.cuFloatArray(host_data=wfs_offset)\n",
      "        src.phase = cu_wfs_offset\n",
      "\n",
      "        return P\n",
      "\n",
      "    def display_opd(ax2):\n",
      "        hi = ax2.imshow(opd,interpolation='none')\n",
      "        #h = colorbar(hi,ax=ax2)\n",
      "        #h.set_label('OPD [nm]')\n",
      "        grid()\n",
      "        #ax2.set_title( \"WFE [nm]: RMS %4.2f & PtV %4.2f\"%(np.std(opd[P>0]),(np.max(opd[P>0]) - np.min(opd[P>0]))))\n",
      "    \n",
      "    \n",
      "    \n",
      "    fig = figure()\n",
      "    fig.set_size_inches(25,20)\n",
      "\n",
      "    for ii in range(7):\n",
      "        \n",
      "        for jj in range(3):\n",
      "        \n",
      "            mode = V[ii+jj*7,:]\n",
      "\n",
      "            M1.reset()\n",
      "            M2.reset()\n",
      "\n",
      "            u = 0\n",
      "            v = 6\n",
      "            for k in range(7):\n",
      "                ot = mode[u:v]\n",
      "                o = mas2rad*ot[0:3]\n",
      "                o[0] *= stroke['M1 tilt']\n",
      "                o[1] *= stroke['M1 tilt']\n",
      "                o[1] *= stroke['M1 clock']\n",
      "                t = ot[3:]*10e-6\n",
      "                M1.update(origin=t,euler_angles=o,idx=k)\n",
      "                u += 6\n",
      "                v += 6\n",
      "\n",
      "        \n",
      "            for k in range(7):\n",
      "                ot = mode[u:v]\n",
      "                o = mas2rad*ot[0:3]\n",
      "                o[0] *= stroke['M2 tilt']\n",
      "                o[1] *= stroke['M2 tilt']\n",
      "                o[1] *= stroke['M2 clock']\n",
      "                t = ot[3:]*10e-6\n",
      "                M2.update(origin=t,euler_angles=o,idx=k)\n",
      "                u += 6\n",
      "                v += 6\n",
      "\n",
      "            P = propagate()\n",
      "            opd = src.phase.host(units='nm')\n",
      "\n",
      "            ax = subplot2grid( (6,7), (jj,ii))\n",
      "            display_opd(ax)\n",
      "\n",
      "    fig.tight_layout()"
     ],
     "language": "python",
     "metadata": {},
     "outputs": [],
<<<<<<< HEAD
     "prompt_number": 28
=======
     "prompt_number": 22
>>>>>>> ray.tracing.srcs
    },
    {
     "cell_type": "code",
     "collapsed": false,
     "input": [
      "ray_trace_eigen2(V)"
     ],
     "language": "python",
     "metadata": {},
     "outputs": [
      {
       "ename": "IndexError",
       "evalue": "index 2 is out of bounds for axis 0 with size 2",
       "output_type": "pyerr",
       "traceback": [
        "\u001b[1;31m---------------------------------------------------------------------------\u001b[0m\n\u001b[1;31mIndexError\u001b[0m                                Traceback (most recent call last)",
        "\u001b[1;32m<ipython-input-29-7cbaaf0908f4>\u001b[0m in \u001b[0;36m<module>\u001b[1;34m()\u001b[0m\n\u001b[1;32m----> 1\u001b[1;33m \u001b[0mray_trace_eigen2\u001b[0m\u001b[1;33m(\u001b[0m\u001b[0mV\u001b[0m\u001b[1;33m)\u001b[0m\u001b[1;33m\u001b[0m\u001b[0m\n\u001b[0m",
        "\u001b[1;32m<ipython-input-28-42091906918f>\u001b[0m in \u001b[0;36mray_trace_eigen2\u001b[1;34m(V)\u001b[0m\n\u001b[0;32m     65\u001b[0m                 \u001b[0mo\u001b[0m\u001b[1;33m[\u001b[0m\u001b[1;36m1\u001b[0m\u001b[1;33m]\u001b[0m \u001b[1;33m*=\u001b[0m \u001b[0mstroke\u001b[0m\u001b[1;33m[\u001b[0m\u001b[1;34m'M1 clock'\u001b[0m\u001b[1;33m]\u001b[0m\u001b[1;33m\u001b[0m\u001b[0m\n\u001b[0;32m     66\u001b[0m                 \u001b[0mt\u001b[0m \u001b[1;33m=\u001b[0m \u001b[0mot\u001b[0m\u001b[1;33m[\u001b[0m\u001b[1;36m3\u001b[0m\u001b[1;33m:\u001b[0m\u001b[1;33m]\u001b[0m\u001b[1;33m*\u001b[0m\u001b[1;36m10e-6\u001b[0m\u001b[1;33m\u001b[0m\u001b[0m\n\u001b[1;32m---> 67\u001b[1;33m                 \u001b[0mM1\u001b[0m\u001b[1;33m.\u001b[0m\u001b[0mupdate\u001b[0m\u001b[1;33m(\u001b[0m\u001b[0morigin\u001b[0m\u001b[1;33m=\u001b[0m\u001b[0mt\u001b[0m\u001b[1;33m,\u001b[0m\u001b[0meuler_angles\u001b[0m\u001b[1;33m=\u001b[0m\u001b[0mo\u001b[0m\u001b[1;33m,\u001b[0m\u001b[0midx\u001b[0m\u001b[1;33m=\u001b[0m\u001b[0mk\u001b[0m\u001b[1;33m)\u001b[0m\u001b[1;33m\u001b[0m\u001b[0m\n\u001b[0m\u001b[0;32m     68\u001b[0m                 \u001b[0mu\u001b[0m \u001b[1;33m+=\u001b[0m \u001b[1;36m6\u001b[0m\u001b[1;33m\u001b[0m\u001b[0m\n\u001b[0;32m     69\u001b[0m                 \u001b[0mv\u001b[0m \u001b[1;33m+=\u001b[0m \u001b[1;36m6\u001b[0m\u001b[1;33m\u001b[0m\u001b[0m\n",
        "\u001b[1;32m/home/ubuntu/Dropbox/CEO/python/ceo/ceo.so\u001b[0m in \u001b[0;36mceo.ceo.GMT_M1.update (/home/ubuntu/Dropbox/CEO//python/ceo/ceo.cu:20011)\u001b[1;34m()\u001b[0m\n",
        "\u001b[1;31mIndexError\u001b[0m: index 2 is out of bounds for axis 0 with size 2"
       ]
      },
      {
       "metadata": {},
       "output_type": "display_data",
       "text": [
<<<<<<< HEAD
        "<matplotlib.figure.Figure at 0x7fec9f205150>"
       ]
      }
     ],
     "prompt_number": 29
=======
        "<matplotlib.figure.Figure at 0x7f35400c1490>"
       ]
      }
     ],
     "prompt_number": 23
>>>>>>> ray.tracing.srcs
    },
    {
     "cell_type": "code",
     "collapsed": false,
     "input": [
      "V.shape"
     ],
     "language": "python",
     "metadata": {},
<<<<<<< HEAD
     "outputs": []
=======
     "outputs": [
      {
       "metadata": {},
       "output_type": "pyout",
       "prompt_number": 24,
       "text": [
        "(84, 84)"
       ]
      }
     ],
     "prompt_number": 24
>>>>>>> ray.tracing.srcs
    },
    {
     "cell_type": "code",
     "collapsed": false,
     "input": [
      "print o"
     ],
     "language": "python",
     "metadata": {},
<<<<<<< HEAD
     "outputs": []
=======
     "outputs": [
      {
       "output_type": "stream",
       "stream": "stdout",
       "text": [
        "[0, 0, 0]\n"
       ]
      }
     ],
     "prompt_number": 25
>>>>>>> ray.tracing.srcs
    }
   ],
   "metadata": {}
  }
 ]
}