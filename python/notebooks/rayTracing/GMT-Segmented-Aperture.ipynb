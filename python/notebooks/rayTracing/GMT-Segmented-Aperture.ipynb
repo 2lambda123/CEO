{
 "metadata": {
  "name": "",
  "signature": "sha256:ef22b2b4d6b2d284a99b549c2a1330d6fe4a2ac022588da1328c40a684e5069e"
 },
 "nbformat": 3,
 "nbformat_minor": 0,
 "worksheets": [
  {
   "cells": [
    {
     "cell_type": "code",
     "collapsed": false,
     "input": [
      "import numpy as np\n",
      "import math\n",
      "import ceo\n",
      "%pylab inline\n",
      "from mpl_toolkits.mplot3d import Axes3D\n",
      "from IPython.html import widgets\n",
      "from IPython.html.widgets import interact\n",
      "from IPython.display import display"
     ],
     "language": "python",
     "metadata": {},
     "outputs": [
      {
       "output_type": "stream",
       "stream": "stdout",
       "text": [
        "Populating the interactive namespace from numpy and matplotlib\n"
       ]
      }
     ],
     "prompt_number": 131
    },
    {
     "cell_type": "code",
     "collapsed": false,
     "input": [
      "#def disp(x): print np.array_str(x,precision=1,suppress_small=True)\n",
      "tid = ceo.StopWatch()"
     ],
     "language": "python",
     "metadata": {},
     "outputs": [],
     "prompt_number": 132
    },
    {
     "cell_type": "heading",
     "level": 3,
     "metadata": {},
     "source": [
      "Ray bundle:"
     ]
    },
    {
     "cell_type": "markdown",
     "metadata": {},
     "source": [
      "Polar coordinates ray bundle\n",
      "* radius 12.5m\n",
      "* 5 rays accros the radius\n",
      "* 8 rays on the azimuths"
     ]
    },
    {
     "cell_type": "code",
     "collapsed": false,
     "input": [
      "src = ceo.Source(\"R\",zenith=0*60*math.pi/180/3600,azimuth=0*math.pi/4)\n",
      "D = 25.5\n",
      "n_radius = 500"
     ],
     "language": "python",
     "metadata": {},
     "outputs": [],
     "prompt_number": 133
    },
    {
     "cell_type": "code",
     "collapsed": false,
     "input": [
      "rays = ceo.Bundle(src,D,n_radius,64,[0.0,0.0,-25],type='box')\n",
      "rays_coord = rays.coordinates.host()\n",
      "xr = rays_coord[:,0]\n",
      "yr = rays_coord[:,1]\n",
      "zr = rays_coord[:,2]\n",
      "#disp(xr)\n",
      "#print yr"
     ],
     "language": "python",
     "metadata": {},
     "outputs": [],
     "prompt_number": 134
    },
    {
     "cell_type": "code",
     "collapsed": false,
     "input": [
      "#M2 = ceo.Conic(1.0/4.163901,1-0.7169273,origin=[0.0,0.0,-20.262476],euler_angles=[0.0,0.0*math.pi/180/3600,0.0])\n",
      "M2 = ceo.GMT_M2(D,n_radius)\n",
      "tid.tic()\n",
      "#M2.blocking(rays)\n",
      "tid.toc()"
     ],
     "language": "python",
     "metadata": {},
     "outputs": [],
     "prompt_number": 135
    },
    {
     "cell_type": "heading",
     "level": 3,
     "metadata": {},
     "source": [
      "GMT M1 aperture"
     ]
    },
    {
     "cell_type": "code",
     "collapsed": false,
     "input": [
      "M1 = ceo.GMT_M1(D,n_radius)\n",
      "M1.update(origin=[0.00,0.0,0.0],euler_angles=[0.0,0*math.pi/180/3600,0.0],idx=0)\n",
      "tid.tic()\n",
      "M1.trace(rays)\n",
      "tid.toc()\n",
      "coords1 = rays.coordinates.host()\n",
      "xr = np.vstack((xr,coords1[:,0]))\n",
      "yr = np.vstack((yr,coords1[:,1]))\n",
      "zr = np.vstack((zr,coords1[:,2]))"
     ],
     "language": "python",
     "metadata": {},
     "outputs": [],
     "prompt_number": 136
    },
    {
     "cell_type": "code",
     "collapsed": false,
     "input": [
      "P = rays.vignetting.host().T\n",
      "P1D = P.ravel(0)\n",
      "print P1D.sum()\n",
      "#fig = plt.figure(figsize=(12,10))\n"
     ],
     "language": "python",
     "metadata": {},
     "outputs": [
      {
       "output_type": "stream",
       "stream": "stdout",
       "text": [
        "19268.0\n"
       ]
      }
     ],
     "prompt_number": 137
    },
    {
     "cell_type": "raw",
     "metadata": {},
     "source": [
      "xr = xr[:,P1D>0]\n",
      "yr = yr[:,P1D>0]\n",
      "zr = zr[:,P1D>0]"
     ]
    },
    {
     "cell_type": "raw",
     "metadata": {},
     "source": [
      "fig = plt.figure(figsize=(10,10))\n",
      "ax = fig.add_subplot(111, projection='3d')\n",
      "ax.plot_trisurf(coords1[P1D>0,0],coords1[P1D>0,1],coords1[P1D>0,2])\n",
      "#ax.view_init(elev=90,azim=90)\n",
      "#plot(coords[P1D>0,1],coords[P1D>0,2],'.')"
     ]
    },
    {
     "cell_type": "raw",
     "metadata": {},
     "source": [
      "fig = plt.figure(figsize=(10,10))\n",
      "ax = fig.add_subplot(111, projection='3d')\n",
      "vig = rays.vignetting.host()\n",
      "for k in range(xr.shape[1]):\n",
      "    if vig[k]>0:\n",
      "        ax.plot3D(xr[:,k],yr[:,k],zr[:,k])\n",
      "ax.set_xlabel('X') \n",
      "ax.set_ylabel('Y')\n",
      "ax.set_zlabel('Z')\n",
      "ax.view_init(elev=0,azim=0)"
     ]
    },
    {
     "cell_type": "heading",
     "level": 3,
     "metadata": {},
     "source": [
      "M1"
     ]
    },
    {
     "cell_type": "markdown",
     "metadata": {},
     "source": [
      "GMT M1 definition:\n",
      "* curvature radius: 36m\n",
      "* conic constant: 1-0.9982857"
     ]
    },
    {
     "cell_type": "raw",
     "metadata": {},
     "source": [
      "M1 = ceo.Conic(-1.0/36.0,1-0.9982857,origin=[7.54,4.36,0.99],euler_angles=[0.0,0.0,0.0],conic_origin=[-7.54,-4.36,-0.99])"
     ]
    },
    {
     "cell_type": "heading",
     "level": 3,
     "metadata": {},
     "source": [
      "Reflection from M1"
     ]
    },
    {
     "cell_type": "raw",
     "metadata": {},
     "source": [
      "tid.tic()\n",
      "#ceo.Transform_to_S(rays,M1)\n",
      "#ceo.Intersect(rays,M1)\n",
      "ceo.Reflect(rays)\n",
      "ceo.Transform_to_R(rays,M1)\n",
      "tid.toc()\n",
      "coords = rays.coordinates.host()\n",
      "xr = np.vstack((xr,coords[:,0]))\n",
      "yr = np.vstack((yr,coords[:,1]))\n",
      "zr = np.vstack((zr,coords[:,2]))\n",
      "imshow(np.reshape(rays.optical_path_length.host(),(n_radius,n_radius)),interpolation='none',extent=(-D/2,D/2,-D/2,D/2),vmin=15,vmax=30)\n",
      "colorbar()"
     ]
    },
    {
     "cell_type": "heading",
     "level": 3,
     "metadata": {},
     "source": [
      "M2"
     ]
    },
    {
     "cell_type": "markdown",
     "metadata": {},
     "source": [
      "GMT M1 definition:\n",
      "* curvature radius: 4.163900922m\n",
      "* conic constant: 1-0.71692784"
     ]
    },
    {
     "cell_type": "heading",
     "level": 3,
     "metadata": {},
     "source": [
      "Reflection from M2"
     ]
    },
    {
     "cell_type": "code",
     "collapsed": false,
     "input": [
      "tid.tic()\n",
      "#ceo.Transform_to_S(rays,M2)\n",
      "#ceo.Intersect(rays,M2)\n",
      "#ceo.Reflect(rays)\n",
      "#ceo.Transform_to_R(rays,M2)\n",
      "M2.trace(rays)\n",
      "tid.toc()"
     ],
     "language": "python",
     "metadata": {},
     "outputs": [],
     "prompt_number": 138
    },
    {
     "cell_type": "code",
     "collapsed": false,
     "input": [
      "P2 = rays.vignetting.host().T\n",
      "P1D = P2.ravel(0)\n",
      "print P1D.sum()\n",
      "fig, ax = plt.subplots()\n",
      "fig.set_size_inches(12,10)\n",
      "imshow(np.reshape(P2-P,(n_radius,n_radius)),interpolation='none')\n",
      "colorbar()"
     ],
     "language": "python",
     "metadata": {},
     "outputs": [
      {
       "output_type": "stream",
       "stream": "stdout",
       "text": [
        "18896.0\n"
       ]
      },
      {
       "metadata": {},
       "output_type": "pyout",
       "prompt_number": 139,
       "text": [
        "<matplotlib.colorbar.Colorbar instance at 0x7fe173d6eab8>"
       ]
      },
      {
       "metadata": {},
       "output_type": "display_data",
       "png": "[encoded data removed]",
       "text": [
        "<matplotlib.figure.Figure at 0x7fe17371f210>"
       ]
      }
     ],
     "prompt_number": 139
    },
    {
     "cell_type": "code",
     "collapsed": false,
     "input": [
      "fig, ax = plt.subplots()\n",
      "fig.set_size_inches(12,10)\n",
      "h = ax.imshow(np.reshape(P2,(n_radius,n_radius)),interpolation='none',extent=(-D/2,D/2,-D/2,D/2))\n",
      "colorbar(h)\n",
      "ax.grid()\n",
      "xt = ax.xaxis.set_ticks(linspace(-1,1,9)*10)\n",
      "yt = ax.yaxis.set_ticks(linspace(-1,1,9)*10)"
     ],
     "language": "python",
     "metadata": {},
     "outputs": [
      {
       "metadata": {},
       "output_type": "display_data",
       "png": "[encoded data removed]",
       "text": [
        "<matplotlib.figure.Figure at 0x7fe173d2a390>"
       ]
      }
     ],
     "prompt_number": 140
    },
    {
     "cell_type": "code",
     "collapsed": false,
     "input": [
      "coords2 = rays.coordinates.host()\n",
      "#xr = xr[:,P1D>0]\n",
      "#yr = yr[:,P1D>0]\n",
      "#zr = zr[:,P1D>0]\n",
      "xr = np.vstack((xr,coords2[:,0]))\n",
      "yr = np.vstack((yr,coords2[:,1]))\n",
      "zr = np.vstack((zr,coords2[:,2]))"
     ],
     "language": "python",
     "metadata": {},
     "outputs": [],
     "prompt_number": 141
    },
    {
     "cell_type": "raw",
     "metadata": {},
     "source": [
      "fig = plt.figure(figsize=(10,10))\n",
      "ax = fig.add_subplot(111, projection='3d')\n",
      "ax.plot_trisurf(coords1[P1D>0,0],coords1[P1D>0,1],coords1[P1D>0,2])\n",
      "ax.plot_trisurf(coords2[P1D>0,0],coords2[P1D>0,1],coords2[P1D>0,2])\n",
      "ax.view_init(elev=-90,azim=90)\n",
      "#plot(coords[P1D>0,1],coords[P1D>0,2],'.')"
     ]
    },
    {
     "cell_type": "code",
     "collapsed": false,
     "input": [
      "dirs = rays.directions.host()\n",
      "s = np.sqrt( (coords2[-1,0]**2 + coords2[-1,1]**2) / (dirs[-1,0]**2 + dirs[-1,1]**2) )\n",
      "print s\n",
      "z = coords2[-1,2] + s*dirs[-1,2]    \n",
      "print z\n",
      "z = 5.83001949259"
     ],
     "language": "python",
     "metadata": {},
     "outputs": [
      {
       "output_type": "stream",
       "stream": "stdout",
       "text": [
        "inf\n",
        "inf\n"
       ]
      }
     ],
     "prompt_number": 142
    },
    {
     "cell_type": "code",
     "collapsed": false,
     "input": [
      "#x,y,z,s = parametric_equation(rays.coordinates.host(),rays.directions.host(),5.9)\n",
      "#xr = np.vstack((xr,x))\n",
      "#yr = np.vstack((yr,y))\n",
      "#zr = np.vstack((zr,z))"
     ],
     "language": "python",
     "metadata": {},
     "outputs": [],
     "prompt_number": 143
    },
    {
     "cell_type": "code",
     "collapsed": false,
     "input": [
      "def parametric_equation(coordinates,directions,zp):\n",
      "    s = (zp - coordinates[:,2])/directions[:,2]\n",
      "    x = coordinates[:,0] + s*directions[:,0]    \n",
      "    y = coordinates[:,1] + s*directions[:,1]    \n",
      "    z = zp*np.ones(x.shape)\n",
      "    return x,y,z,s"
     ],
     "language": "python",
     "metadata": {},
     "outputs": [],
     "prompt_number": 144
    },
    {
     "cell_type": "code",
     "collapsed": false,
     "input": [
      "xf,yf,zf,sf = parametric_equation(rays.coordinates.host(),rays.directions.host(),z)\n",
      "fig, ax = subplots()\n",
      "ax.plot(xf[P1D>0]*1e6,yf[P1D>0]*1e6,'x')\n",
      "ax.grid()\n",
      "ax.set_aspect(aspect=1)\n",
      "ax.set_xlabel('X [micron]')\n",
      "ax.set_ylabel('Y [micron]')"
     ],
     "language": "python",
     "metadata": {},
     "outputs": [
      {
       "metadata": {},
       "output_type": "pyout",
       "prompt_number": 145,
       "text": [
        "<matplotlib.text.Text at 0x7fe173b66210>"
       ]
      },
      {
       "metadata": {},
       "output_type": "display_data",
       "png": "[encoded data removed]",
       "text": [
        "<matplotlib.figure.Figure at 0x7fe190aac450>"
       ]
      }
     ],
     "prompt_number": 145
    },
    {
     "cell_type": "code",
     "collapsed": false,
     "input": [
      "#x,y,z = parametric_equation_s(rays.coordinates.host(),rays.directions.host(),3)\n",
      "xr = np.vstack((xr,xf))\n",
      "yr = np.vstack((yr,yf))\n",
      "zr = np.vstack((zr,zf))"
     ],
     "language": "python",
     "metadata": {},
     "outputs": [],
     "prompt_number": 146
    },
    {
     "cell_type": "raw",
     "metadata": {},
     "source": [
      "fig = plt.figure(figsize=(10,10))\n",
      "ax = fig.add_subplot(111, projection='3d')\n",
      "vig = rays.vignetting.host()\n",
      "for k in range(xr.shape[1]):\n",
      "    if vig[k]>0:\n",
      "        ax.plot3D(xr[:,k],yr[:,k],zr[:,k])\n",
      "ax.set_xlabel('X') \n",
      "ax.set_ylabel('Y')\n",
      "ax.set_zlabel('Z')\n",
      "ax.view_init(elev=-90,azim=90)"
     ]
    },
    {
     "cell_type": "code",
     "collapsed": false,
     "input": [
      "opl = rays.optical_path_length.host().T + sf\n",
      "oa = (n_radius+1)*(n_radius/2)\n",
      "opl0 = 71.3549714274\n",
      "#opl0 = opl[0,oa]\n",
      "opd = P2*(opl - opl0)*1e9\n",
      "print opl0\n",
      "print opl\n",
      "print np.max(opl)"
     ],
     "language": "python",
     "metadata": {},
     "outputs": [
      {
       "output_type": "stream",
       "stream": "stdout",
       "text": [
        "71.3549714274\n",
        "[[ 30.83001949  30.83001949  30.83001949 ...,  30.83001949  30.83001949\n",
        "   30.83001949]]\n",
        "71.3549714271\n"
       ]
      }
     ],
     "prompt_number": 147
    },
    {
     "cell_type": "code",
     "collapsed": false,
     "input": [
      "from matplotlib import cm\n",
      "fig = plt.figure(figsize=(12,10))\n",
      "#ax = fig.add_subplot(111, projection='3d')\n",
      "#opd_surf = ax.plot_trisurf(xr[0,:],yr[0,:],opd[0,:],cmap=cm.jet,linewidth=0,antialiased=False,shade=True)\n",
      "ext = (-D,D,-D,D)\n",
      "ax = imshow(np.reshape(opd[0,:],(n_radius,n_radius)),interpolation='none',extent=ext)\n",
      "#ax.view_init(elev=90,azim=90)\n",
      "h = fig.colorbar(ax)\n",
      "h.set_label('OPD [nm]')"
     ],
     "language": "python",
     "metadata": {},
     "outputs": [
      {
       "metadata": {},
       "output_type": "display_data",
       "png": "[encoded data removed]",
       "text": [
        "<matplotlib.figure.Figure at 0x7fe173b62310>"
       ]
      }
     ],
     "prompt_number": 148
    },
    {
     "cell_type": "code",
     "collapsed": false,
     "input": [
      "np.std(opd[P2>0])"
     ],
     "language": "python",
     "metadata": {},
     "outputs": [
      {
       "metadata": {},
       "output_type": "pyout",
       "prompt_number": 149,
       "text": [
        "0.42599071714810033"
       ]
      }
     ],
     "prompt_number": 149
    },
    {
     "cell_type": "code",
     "collapsed": false,
     "input": [
      "2*(8.71+8.365/2)"
     ],
     "language": "python",
     "metadata": {},
     "outputs": [
      {
       "metadata": {},
       "output_type": "pyout",
       "prompt_number": 150,
       "text": [
        "25.785000000000004"
       ]
      }
     ],
     "prompt_number": 150
    },
    {
     "cell_type": "code",
     "collapsed": false,
     "input": [
      "print np.max(opd)"
     ],
     "language": "python",
     "metadata": {},
     "outputs": [
      {
       "output_type": "stream",
       "stream": "stdout",
       "text": [
        "-0.0\n"
       ]
      }
     ],
     "prompt_number": 151
    },
    {
     "cell_type": "code",
     "collapsed": false,
     "input": [
      "1600000*1e-6"
     ],
     "language": "python",
     "metadata": {},
     "outputs": [
      {
       "metadata": {},
       "output_type": "pyout",
       "prompt_number": 152,
       "text": [
        "1.5999999999999999"
       ]
      }
     ],
     "prompt_number": 152
    },
    {
     "cell_type": "code",
     "collapsed": false,
     "input": [
      "0.5*25.5*(30*math.pi/180/3600)*1e3"
     ],
     "language": "python",
     "metadata": {},
     "outputs": [
      {
       "metadata": {},
       "output_type": "pyout",
       "prompt_number": 153,
       "text": [
        "1.8544123302439752"
       ]
      }
     ],
     "prompt_number": 153
    },
    {
     "cell_type": "code",
     "collapsed": false,
     "input": [
      "np.max(opd)"
     ],
     "language": "python",
     "metadata": {},
     "outputs": [
      {
       "metadata": {},
       "output_type": "pyout",
       "prompt_number": 154,
       "text": [
        "-0.0"
       ]
      }
     ],
     "prompt_number": 154
    },
    {
     "cell_type": "code",
     "collapsed": false,
     "input": [
      "src.zenith*2"
     ],
     "language": "python",
     "metadata": {},
     "outputs": [
      {
       "metadata": {},
       "output_type": "pyout",
       "prompt_number": 155,
       "text": [
        "0.0"
       ]
      }
     ],
     "prompt_number": 155
    },
    {
     "cell_type": "code",
     "collapsed": false,
     "input": [
      "0.295"
     ],
     "language": "python",
     "metadata": {},
     "outputs": [
      {
       "metadata": {},
       "output_type": "pyout",
       "prompt_number": 156,
       "text": [
        "0.295"
       ]
      }
     ],
     "prompt_number": 156
    }
   ],
   "metadata": {}
  }
 ]
}