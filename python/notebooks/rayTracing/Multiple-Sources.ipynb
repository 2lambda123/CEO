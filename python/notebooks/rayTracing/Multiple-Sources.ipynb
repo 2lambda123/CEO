{
 "metadata": {
  "name": "",
  "signature": "sha256:c13f7d4d8028fdd89f1804120ad337ebd4c61575f8ef5b5bc859a305f0337da4"
 },
 "nbformat": 3,
 "nbformat_minor": 0,
 "worksheets": [
  {
   "cells": [
    {
     "cell_type": "code",
     "collapsed": false,
     "input": [
      "import sys\n",
      "import numpy as np\n",
      "import math\n",
      "import ceo\n",
      "%pylab inline"
     ],
     "language": "python",
     "metadata": {},
     "outputs": [
      {
       "output_type": "stream",
       "stream": "stdout",
       "text": [
        "Populating the interactive namespace from numpy and matplotlib\n"
       ]
      }
     ],
     "prompt_number": 1
    },
    {
     "cell_type": "code",
     "collapsed": false,
     "input": [
      "nPx  = 3\n",
      "src  = ceo.Source(\"R\",zenith=[20*60*math.pi/180/3600,60*math.pi/180/3600],azimuth=[math.pi,0],resolution=(nPx,nPx))\n",
      "rays = ceo.Bundle(src, 1, nPx, 64,[0.0,0.0,-1],type='box')"
     ],
     "language": "python",
     "metadata": {},
     "outputs": [],
     "prompt_number": 2
    },
    {
     "cell_type": "code",
     "collapsed": false,
     "input": [
      "rays.chief_coordinates.host()"
     ],
     "language": "python",
     "metadata": {},
     "outputs": [
      {
       "metadata": {},
       "output_type": "pyout",
       "prompt_number": 3,
       "text": [
        "array([[ -5.81773138e-03,  -5.08602216e-10,  -1.00000000e+00],\n",
        "       [  2.90888216e-04,   0.00000000e+00,  -1.00000000e+00]])"
       ]
      }
     ],
     "prompt_number": 3
    },
    {
     "cell_type": "code",
     "collapsed": false,
     "input": [
      "rays.coordinates.host()"
     ],
     "language": "python",
     "metadata": {},
     "outputs": [
      {
       "metadata": {},
       "output_type": "pyout",
       "prompt_number": 4,
       "text": [
        "array([[ -5.05817731e-01,  -5.00000001e-01,  -1.00000000e+00],\n",
        "       [ -5.81773138e-03,  -5.00000001e-01,  -1.00000000e+00],\n",
        "       [  4.94182269e-01,  -5.00000001e-01,  -1.00000000e+00],\n",
        "       [ -5.05817731e-01,  -5.08602216e-10,  -1.00000000e+00],\n",
        "       [ -5.81773138e-03,  -5.08602216e-10,  -1.00000000e+00],\n",
        "       [  4.94182269e-01,  -5.08602216e-10,  -1.00000000e+00],\n",
        "       [ -5.05817731e-01,   4.99999999e-01,  -1.00000000e+00],\n",
        "       [ -5.81773138e-03,   4.99999999e-01,  -1.00000000e+00],\n",
        "       [  4.94182269e-01,   4.99999999e-01,  -1.00000000e+00],\n",
        "       [ -4.99709112e-01,  -5.00000000e-01,  -1.00000000e+00],\n",
        "       [  2.90888216e-04,  -5.00000000e-01,  -1.00000000e+00],\n",
        "       [  5.00290888e-01,  -5.00000000e-01,  -1.00000000e+00],\n",
        "       [ -4.99709112e-01,   0.00000000e+00,  -1.00000000e+00],\n",
        "       [  2.90888216e-04,   0.00000000e+00,  -1.00000000e+00],\n",
        "       [  5.00290888e-01,   0.00000000e+00,  -1.00000000e+00],\n",
        "       [ -4.99709112e-01,   5.00000000e-01,  -1.00000000e+00],\n",
        "       [  2.90888216e-04,   5.00000000e-01,  -1.00000000e+00],\n",
        "       [  5.00290888e-01,   5.00000000e-01,  -1.00000000e+00]])"
       ]
      }
     ],
     "prompt_number": 4
    },
    {
     "cell_type": "code",
     "collapsed": false,
     "input": [
      "rays.vignetting.host()"
     ],
     "language": "python",
     "metadata": {},
     "outputs": [
      {
       "metadata": {},
       "output_type": "pyout",
       "prompt_number": 5,
       "text": [
        "array([[ 1.,  1.],\n",
        "       [ 1.,  1.],\n",
        "       [ 1.,  1.],\n",
        "       [ 1.,  1.],\n",
        "       [ 1.,  1.],\n",
        "       [ 1.,  1.],\n",
        "       [ 1.,  1.],\n",
        "       [ 1.,  1.],\n",
        "       [ 1.,  1.]])"
       ]
      }
     ],
     "prompt_number": 5
    },
    {
     "cell_type": "code",
     "collapsed": false,
     "input": [
      "900*1920/1080"
     ],
     "language": "python",
     "metadata": {},
     "outputs": [
      {
       "metadata": {},
       "output_type": "pyout",
       "prompt_number": 6,
       "text": [
        "1600"
       ]
      }
     ],
     "prompt_number": 6
    },
    {
     "cell_type": "code",
     "collapsed": false,
     "input": [
      "tid = ceo.StopWatch()\n",
      "nLenslet = 30\n",
      "n = 8\n",
      "nPx = n*nLenslet+1\n",
      "n_src = 4\n",
      "src    = ceo.Source(\"R\",zenith=np.linspace(0,60,n_src)*math.pi/180/3600,azimuth=np.zeros((1,n_src)),resolution=(nPx,nPx))\n",
      "D = 25.5\n",
      "n_radius = nPx\n",
      "rays       = ceo.Bundle(src,   D,nPx,64,[0.0,0.0,-25],type='box')\n",
      "imgr = ceo.ShackHartmann(1, nPx-1, D ,DFT_osf=4,N_PX_IMAGE=0.5*(nPx-1))\n",
      "wfs = ceo.ShackHartmann(nLenslet, n, D/nLenslet,N_PX_IMAGE=2*n)\n",
      "M1 = ceo.GMT_M1(D,nPx,N_SRC=n_src)\n",
      "M2 = ceo.GMT_M2(D,nPx,N_SRC=n_src)"
     ],
     "language": "python",
     "metadata": {},
     "outputs": [],
     "prompt_number": 61
    },
    {
     "cell_type": "code",
     "collapsed": false,
     "input": [
      "tid.tic()\n",
      "M2.blocking(rays)\n",
      "M1.trace(rays)\n",
      "M2.trace(rays)\n",
      "rays.go_sphere(26.0924924672,1)\n",
      "tid.toc()"
     ],
     "language": "python",
     "metadata": {},
     "outputs": [],
     "prompt_number": 62
    },
    {
     "cell_type": "code",
     "collapsed": false,
     "input": [
      "def optical_system(x,_rays_,radius):\n",
      "    M2.blocking(_rays_)\n",
      "    M1.trace(_rays_)\n",
      "    M2.trace(_rays_)\n",
      "    _rays_.go_sphere(x,radius)"
     ],
     "language": "python",
     "metadata": {},
     "outputs": [],
     "prompt_number": 63
    },
    {
     "cell_type": "code",
     "collapsed": false,
     "input": [
      "def src_pick_up():\n",
      "    ox = np.tan(src.zenith)*np.cos(src.azimuth)\n",
      "    oy = np.tan(src.zenith)*np.sin(src.azimuth)\n",
      "    u = linspace(-1,1,nPx)\n",
      "    xx,yy = meshgrid(u,u)\n",
      "    wfs_offset = (ox*xx.ravel(0) + oy*yy.ravel(0))*D/2\n",
      "    return wfs_offset"
     ],
     "language": "python",
     "metadata": {},
     "outputs": [],
     "prompt_number": 64
    },
    {
     "cell_type": "code",
     "collapsed": false,
     "input": [
      "def opd_res_fun(x,radius):\n",
      "    rays.reset()\n",
      "    optical_system(x,rays,radius)\n",
      "    opd = rays.optical_path_difference.host()\n",
      "    opd_res = ( opd[:,0] + src_pick_up() )*1e9\n",
      "    return opd_res\n",
      "    #P = rays.vignetting.host()\n",
      "    #return np.std(opd_res[P.ravel(0)>0])"
     ],
     "language": "python",
     "metadata": {},
     "outputs": [],
     "prompt_number": 65
    },
    {
     "cell_type": "code",
     "collapsed": false,
     "input": [
      "P = rays.vignetting.host()"
     ],
     "language": "python",
     "metadata": {},
     "outputs": [],
     "prompt_number": 66
    },
    {
     "cell_type": "code",
     "collapsed": false,
     "input": [
      "fig = figure()\n",
      "fig.set_size_inches(20,10)\n",
      "#imshow(np.reshape(opd_res_fun(26.0924924672,1),(nPx*n_src,nPx)).T,interpolation='none')\n",
      "imshow(np.reshape(rays.optical_path_difference.host()*1e9,(nPx*n_src,nPx)).T,interpolation='none')\n",
      "colorbar()"
     ],
     "language": "python",
     "metadata": {},
     "outputs": [
      {
       "metadata": {},
       "output_type": "pyout",
       "prompt_number": 67,
       "text": [
        "<matplotlib.colorbar.Colorbar instance at 0x7f20ee037dd0>"
       ]
      },
      {
       "metadata": {},
       "output_type": "display_data",
       "png": "[encoded data removed]",
       "text": [
        "<matplotlib.figure.Figure at 0x7f20ee14f050>"
       ]
      }
     ],
     "prompt_number": 67
    },
    {
     "cell_type": "code",
     "collapsed": false,
     "input": [
      "rays.chief_optical_path_length.host()"
     ],
     "language": "python",
     "metadata": {},
     "outputs": [
      {
       "metadata": {},
       "output_type": "pyout",
       "prompt_number": 68,
       "text": [
        "array([[ 27.09249247],\n",
        "       [ 27.09249591],\n",
        "       [ 27.09250625],\n",
        "       [ 27.09247979]])"
       ]
      }
     ],
     "prompt_number": 68
    },
    {
     "cell_type": "code",
     "collapsed": false,
     "input": [
      "rays.chief_coordinates.host()"
     ],
     "language": "python",
     "metadata": {},
     "outputs": [
      {
       "metadata": {},
       "output_type": "pyout",
       "prompt_number": 69,
       "text": [
        "array([[ 0.        ,  0.        ,  6.83001647],\n",
        "       [-0.02095175,  0.        ,  6.83001108],\n",
        "       [-0.04190351,  0.        ,  6.82999491],\n",
        "       [-0.06285518,  0.        ,  6.82992265]])"
       ]
      }
     ],
     "prompt_number": 69
    },
    {
     "cell_type": "code",
     "collapsed": false,
     "input": [
      "rays.chief_directions.host()"
     ],
     "language": "python",
     "metadata": {},
     "outputs": [
      {
       "metadata": {},
       "output_type": "pyout",
       "prompt_number": 70,
       "text": [
        "array([[  0.00000000e+00,   0.00000000e+00,   1.00000000e+00],\n",
        "       [ -8.23367541e-04,   0.00000000e+00,   9.99999666e-01],\n",
        "       [ -1.64673471e-03,   0.00000000e+00,   9.99998663e-01],\n",
        "       [ -2.47010120e-03,   0.00000000e+00,   9.99996932e-01]])"
       ]
      }
     ],
     "prompt_number": 70
    },
    {
     "cell_type": "code",
     "collapsed": false,
     "input": [
      "chief_xyz = rays.chief_coordinates.host() - 1*rays.chief_directions.host()\n",
      "for k in range(n_src):\n",
      "    print \"Focus @ [%6.4f,%6.4f,%6.4f]m\"%(chief_xyz[k,0],chief_xyz[k,1],chief_xyz[k,2])"
     ],
     "language": "python",
     "metadata": {},
     "outputs": [
      {
       "output_type": "stream",
       "stream": "stdout",
       "text": [
        "Focus @ [0.0000,0.0000,5.8300]m\n",
        "Focus @ [-0.0201,0.0000,5.8300]m\n",
        "Focus @ [-0.0403,0.0000,5.8300]m\n",
        "Focus @ [-0.0604,0.0000,5.8299]m\n"
       ]
      }
     ],
     "prompt_number": 71
    },
    {
     "cell_type": "code",
     "collapsed": false,
     "input": [
      "opd = rays.optical_path_difference.host()"
     ],
     "language": "python",
     "metadata": {},
     "outputs": [],
     "prompt_number": 72
    },
    {
     "cell_type": "code",
     "collapsed": false,
     "input": [
      "#np.std(opd[P>0].reshape((-1,2)),axis=0)*1e9"
     ],
     "language": "python",
     "metadata": {},
     "outputs": [],
     "prompt_number": 73
    },
    {
     "cell_type": "code",
     "collapsed": false,
     "input": [
      "opd.shape"
     ],
     "language": "python",
     "metadata": {},
     "outputs": [
      {
       "metadata": {},
       "output_type": "pyout",
       "prompt_number": 74,
       "text": [
        "(58081, 4)"
       ]
      }
     ],
     "prompt_number": 74
    },
    {
     "cell_type": "code",
     "collapsed": false,
     "input": [
      "P.shape"
     ],
     "language": "python",
     "metadata": {},
     "outputs": [
      {
       "metadata": {},
       "output_type": "pyout",
       "prompt_number": 75,
       "text": [
        "(58081, 4)"
       ]
      }
     ],
     "prompt_number": 75
    },
    {
     "cell_type": "code",
     "collapsed": false,
     "input": [
      "s = sum(P,axis=0)\n",
      "print cumsum(s)"
     ],
     "language": "python",
     "metadata": {},
     "outputs": [
      {
       "output_type": "stream",
       "stream": "stdout",
       "text": [
        "[  32259.   64525.   96800.  129083.]\n"
       ]
      }
     ],
     "prompt_number": 76
    },
    {
     "cell_type": "code",
     "collapsed": false,
     "input": [
      "q = opd[P>0]\n",
      "s = cumsum(s)\n",
      "u = 0\n",
      "v = s[0]\n",
      "for k in range(n_src):\n",
      "    print k\n",
      "    print np.std(q[u:s[k]])*1e9\n",
      "    u = s[k]"
     ],
     "language": "python",
     "metadata": {},
     "outputs": [
      {
       "output_type": "stream",
       "stream": "stdout",
       "text": [
        "0\n",
        "1.16500104916\n",
        "1\n",
        "587304.060533\n",
        "2\n",
        "1175202.44256\n",
        "3\n",
        "1760916.49572\n"
       ]
      }
     ],
     "prompt_number": 77
    },
    {
     "cell_type": "code",
     "collapsed": false,
     "input": [
      "rays.wavefront = src    \n",
      "fig = figure()\n",
      "fig.set_size_inches(20,10)\n",
      "imshow(src.phase.host().T,interpolation='none')\n",
      "colorbar()"
     ],
     "language": "python",
     "metadata": {},
     "outputs": [
      {
       "metadata": {},
       "output_type": "pyout",
       "prompt_number": 79,
       "text": [
        "<matplotlib.colorbar.Colorbar instance at 0x7f20edd89050>"
       ]
      },
      {
       "metadata": {},
       "output_type": "display_data",
       "png": "[encoded data removed]",
       "text": [
        "<matplotlib.figure.Figure at 0x7f20ede69b50>"
       ]
      }
     ],
     "prompt_number": 79
    },
    {
     "cell_type": "markdown",
     "metadata": {},
     "source": []
    }
   ],
   "metadata": {}
  }
 ]
}