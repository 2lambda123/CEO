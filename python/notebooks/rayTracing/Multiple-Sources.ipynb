{
 "metadata": {
  "name": "",
  "signature": "sha256:22756d5b0a1b12035da2ef7502176944da07c38ecc12fc8a143b0db3e21c95ac"
 },
 "nbformat": 3,
 "nbformat_minor": 0,
 "worksheets": [
  {
   "cells": [
    {
     "cell_type": "code",
     "collapsed": false,
     "input": [
      "import sys\n",
      "import numpy as np\n",
      "import math\n",
      "import ceo\n",
      "%pylab inline"
     ],
     "language": "python",
     "metadata": {},
     "outputs": [
      {
       "output_type": "stream",
       "stream": "stdout",
       "text": [
        "Populating the interactive namespace from numpy and matplotlib\n"
       ]
      }
     ],
     "prompt_number": 1
    },
    {
     "cell_type": "code",
     "collapsed": false,
     "input": [
      "nPx  = 3\n",
      "src  = ceo.Source(\"R\",zenith=[20*60*math.pi/180/3600,60*math.pi/180/3600],azimuth=[math.pi,0],\n",
      "                  rays_box_size=1,rays_box_sampling=nPx,rays_origin=[0.0,0.0,-1.0])"
     ],
     "language": "python",
     "metadata": {},
     "outputs": [],
     "prompt_number": 2
    },
    {
     "cell_type": "code",
     "collapsed": false,
     "input": [
      "src.rays.chief_coordinates.host()"
     ],
     "language": "python",
     "metadata": {},
     "outputs": [
      {
       "metadata": {},
       "output_type": "pyout",
       "prompt_number": 3,
       "text": [
        "array([[ -5.81773138e-03,  -5.08602216e-10,  -1.00000000e+00],\n",
        "       [  2.90888216e-04,   0.00000000e+00,  -1.00000000e+00]])"
       ]
      }
     ],
     "prompt_number": 3
    },
    {
     "cell_type": "code",
     "collapsed": false,
     "input": [
      "src.rays.coordinates.host()"
     ],
     "language": "python",
     "metadata": {},
     "outputs": [
      {
       "metadata": {},
       "output_type": "pyout",
       "prompt_number": 4,
       "text": [
        "array([[ -5.05817731e-01,  -5.00000001e-01,  -1.00000000e+00],\n",
        "       [ -5.81773138e-03,  -5.00000001e-01,  -1.00000000e+00],\n",
        "       [  4.94182269e-01,  -5.00000001e-01,  -1.00000000e+00],\n",
        "       [ -5.05817731e-01,  -5.08602216e-10,  -1.00000000e+00],\n",
        "       [ -5.81773138e-03,  -5.08602216e-10,  -1.00000000e+00],\n",
        "       [  4.94182269e-01,  -5.08602216e-10,  -1.00000000e+00],\n",
        "       [ -5.05817731e-01,   4.99999999e-01,  -1.00000000e+00],\n",
        "       [ -5.81773138e-03,   4.99999999e-01,  -1.00000000e+00],\n",
        "       [  4.94182269e-01,   4.99999999e-01,  -1.00000000e+00],\n",
        "       [ -4.99709112e-01,  -5.00000000e-01,  -1.00000000e+00],\n",
        "       [  2.90888216e-04,  -5.00000000e-01,  -1.00000000e+00],\n",
        "       [  5.00290888e-01,  -5.00000000e-01,  -1.00000000e+00],\n",
        "       [ -4.99709112e-01,   0.00000000e+00,  -1.00000000e+00],\n",
        "       [  2.90888216e-04,   0.00000000e+00,  -1.00000000e+00],\n",
        "       [  5.00290888e-01,   0.00000000e+00,  -1.00000000e+00],\n",
        "       [ -4.99709112e-01,   5.00000000e-01,  -1.00000000e+00],\n",
        "       [  2.90888216e-04,   5.00000000e-01,  -1.00000000e+00],\n",
        "       [  5.00290888e-01,   5.00000000e-01,  -1.00000000e+00]])"
       ]
      }
     ],
     "prompt_number": 4
    },
    {
     "cell_type": "code",
     "collapsed": false,
     "input": [
      "src.rays.vignetting.host()"
     ],
     "language": "python",
     "metadata": {},
     "outputs": [
      {
       "metadata": {},
       "output_type": "pyout",
       "prompt_number": 5,
       "text": [
        "array([[ 1.,  1.],\n",
        "       [ 1.,  1.],\n",
        "       [ 1.,  1.],\n",
        "       [ 1.,  1.],\n",
        "       [ 1.,  1.],\n",
        "       [ 1.,  1.],\n",
        "       [ 1.,  1.],\n",
        "       [ 1.,  1.],\n",
        "       [ 1.,  1.]])"
       ]
      }
     ],
     "prompt_number": 5
    },
    {
     "cell_type": "code",
     "collapsed": false,
     "input": [
      "tid = ceo.StopWatch()\n",
      "nLenslet = 30\n",
      "n = 8\n",
      "nPx = n*nLenslet+1\n",
      "n_src = 4\n",
      "D = 25.5\n",
      "n_radius = nPx\n",
      "src    = ceo.Source(\"R\",zenith=np.linspace(0,60,n_src)*math.pi/180/3600,azimuth=np.zeros((1,n_src)),resolution=(nPx,nPx),\n",
      "                  rays_box_size=D,rays_box_sampling=nPx,rays_origin=[0.0,0.0,-25.0])\n",
      "#rays       = ceo.Bundle(D,nPx,64,[0.0,0.0,-25],type='box',N_SRC=n_src)\n",
      "#rays.reset(src)\n",
      "imgr = ceo.ShackHartmann(1, nPx-1, D ,DFT_osf=4,N_PX_IMAGE=0.5*(nPx-1))\n",
      "wfs = ceo.ShackHartmann(nLenslet, n, D/nLenslet,N_PX_IMAGE=2*n)\n",
      "M1 = ceo.GMT_M1(D,nPx,N_SRC=n_src)\n",
      "M2 = ceo.GMT_M2(D,nPx,N_SRC=n_src)"
     ],
     "language": "python",
     "metadata": {},
     "outputs": [],
     "prompt_number": 6
    },
    {
     "cell_type": "code",
     "collapsed": false,
     "input": [
      "tid.tic()\n",
      "src.stop(M2)\n",
      "src.trace(M1)\n",
      "src.trace(M2)\n",
      "src.rays.go_sphere(26.0924924672,1)\n",
      "tid.toc()"
     ],
     "language": "python",
     "metadata": {},
     "outputs": [],
     "prompt_number": 7
    },
    {
     "cell_type": "code",
     "collapsed": false,
     "input": [
      "def optical_system(x,_rays_,radius):\n",
      "    M2.blocking(_rays_)\n",
      "    M1.trace(_rays_)\n",
      "    M2.trace(_rays_)\n",
      "    _rays_.go_sphere(x,radius)"
     ],
     "language": "python",
     "metadata": {},
     "outputs": [],
     "prompt_number": 8
    },
    {
     "cell_type": "code",
     "collapsed": false,
     "input": [
      "def src_pick_up():\n",
      "    ox = np.tan(src.zenith)*np.cos(src.azimuth)\n",
      "    oy = np.tan(src.zenith)*np.sin(src.azimuth)\n",
      "    u = linspace(-1,1,nPx)\n",
      "    xx,yy = meshgrid(u,u)\n",
      "    wfs_offset = (ox*xx.ravel(0) + oy*yy.ravel(0))*D/2\n",
      "    return wfs_offset"
     ],
     "language": "python",
     "metadata": {},
     "outputs": [],
     "prompt_number": 9
    },
    {
     "cell_type": "code",
     "collapsed": false,
     "input": [
      "def opd_res_fun(x,radius):\n",
      "    rays.reset()\n",
      "    optical_system(x,rays,radius)\n",
      "    opd = rays.optical_path_difference.host()\n",
      "    opd_res = ( opd[:,0] + src_pick_up() )*1e9\n",
      "    return opd_res\n",
      "    #P = rays.vignetting.host()\n",
      "    #return np.std(opd_res[P.ravel(0)>0])"
     ],
     "language": "python",
     "metadata": {},
     "outputs": [],
     "prompt_number": 10
    },
    {
     "cell_type": "code",
     "collapsed": false,
     "input": [
      "P = src.rays.vignetting.host()"
     ],
     "language": "python",
     "metadata": {},
     "outputs": [],
     "prompt_number": 11
    },
    {
     "cell_type": "code",
     "collapsed": false,
     "input": [
      "fig = figure()\n",
      "fig.set_size_inches(20,10)\n",
      "#imshow(np.reshape(opd_res_fun(26.0924924672,1),(nPx*n_src,nPx)).T,interpolation='none')\n",
      "imshow(np.reshape(src.rays.optical_path_difference.host()*1e9,(nPx*n_src,nPx)).T,interpolation='none')\n",
      "colorbar()"
     ],
     "language": "python",
     "metadata": {},
     "outputs": [
      {
       "metadata": {},
       "output_type": "pyout",
       "prompt_number": 12,
       "text": [
        "<matplotlib.colorbar.Colorbar instance at 0x7f1064e974d0>"
       ]
      },
      {
       "metadata": {},
       "output_type": "display_data",
       "png": "[encoded data removed]",
       "text": [
        "<matplotlib.figure.Figure at 0x7f108c412050>"
       ]
      }
     ],
     "prompt_number": 12
    },
    {
     "cell_type": "code",
     "collapsed": false,
     "input": [
      "src.rays.chief_optical_path_length.host()"
     ],
     "language": "python",
     "metadata": {},
     "outputs": [
      {
       "metadata": {},
       "output_type": "pyout",
       "prompt_number": 13,
       "text": [
        "array([[ 27.09249247],\n",
        "       [ 27.09249591],\n",
        "       [ 27.09250625],\n",
        "       [ 27.09247979]])"
       ]
      }
     ],
     "prompt_number": 13
    },
    {
     "cell_type": "code",
     "collapsed": false,
     "input": [
      "src.rays.chief_coordinates.host()"
     ],
     "language": "python",
     "metadata": {},
     "outputs": [
      {
       "metadata": {},
       "output_type": "pyout",
       "prompt_number": 14,
       "text": [
        "array([[  0.00000000e+00,  -2.06705001e-14,   6.83001647e+00],\n",
        "       [ -2.09517539e-02,   2.73237102e-15,   6.83001108e+00],\n",
        "       [ -4.19035143e-02,  -1.87518761e-14,   6.82999491e+00],\n",
        "       [ -6.28551808e-02,   5.06282567e-15,   6.82992265e+00]])"
       ]
      }
     ],
     "prompt_number": 14
    },
    {
     "cell_type": "code",
     "collapsed": false,
     "input": [
      "src.rays.chief_directions.host()"
     ],
     "language": "python",
     "metadata": {},
     "outputs": [
      {
       "metadata": {},
       "output_type": "pyout",
       "prompt_number": 15,
       "text": [
        "array([[  0.00000000e+00,  -8.28526832e-16,   1.00000000e+00],\n",
        "       [ -8.23367541e-04,   1.17245020e-16,   9.99999666e-01],\n",
        "       [ -1.64673471e-03,  -7.41317306e-16,   9.99998663e-01],\n",
        "       [ -2.47010120e-03,   2.11459399e-16,   9.99996932e-01]])"
       ]
      }
     ],
     "prompt_number": 15
    },
    {
     "cell_type": "code",
     "collapsed": false,
     "input": [
      "chief_xyz = src.rays.chief_coordinates.host() - 1*src.rays.chief_directions.host()\n",
      "for k in range(n_src):\n",
      "    print \"Focus @ [%6.4f,%6.4f,%6.4f]m\"%(chief_xyz[k,0],chief_xyz[k,1],chief_xyz[k,2])"
     ],
     "language": "python",
     "metadata": {},
     "outputs": [
      {
       "output_type": "stream",
       "stream": "stdout",
       "text": [
        "Focus @ [0.0000,-0.0000,5.8300]m\n",
        "Focus @ [-0.0201,0.0000,5.8300]m\n",
        "Focus @ [-0.0403,-0.0000,5.8300]m\n",
        "Focus @ [-0.0604,0.0000,5.8299]m\n"
       ]
      }
     ],
     "prompt_number": 16
    },
    {
     "cell_type": "code",
     "collapsed": false,
     "input": [
      "opd = src.rays.optical_path_difference.host()"
     ],
     "language": "python",
     "metadata": {},
     "outputs": [],
     "prompt_number": 17
    },
    {
     "cell_type": "code",
     "collapsed": false,
     "input": [
      "#np.std(opd[P>0].reshape((-1,2)),axis=0)*1e9"
     ],
     "language": "python",
     "metadata": {},
     "outputs": [],
     "prompt_number": 18
    },
    {
     "cell_type": "code",
     "collapsed": false,
     "input": [
      "opd.shape"
     ],
     "language": "python",
     "metadata": {},
     "outputs": [
      {
       "metadata": {},
       "output_type": "pyout",
       "prompt_number": 19,
       "text": [
        "(58081, 4)"
       ]
      }
     ],
     "prompt_number": 19
    },
    {
     "cell_type": "code",
     "collapsed": false,
     "input": [
      "P.shape"
     ],
     "language": "python",
     "metadata": {},
     "outputs": [
      {
       "metadata": {},
       "output_type": "pyout",
       "prompt_number": 20,
       "text": [
        "(58081, 4)"
       ]
      }
     ],
     "prompt_number": 20
    },
    {
     "cell_type": "code",
     "collapsed": false,
     "input": [
      "s = sum(P,axis=0)\n",
      "print s\n",
      "print cumsum(s)"
     ],
     "language": "python",
     "metadata": {},
     "outputs": [
      {
       "output_type": "stream",
       "stream": "stdout",
       "text": [
        "[ 32259.  32266.  32275.  32283.]\n",
        "[  32259.   64525.   96800.  129083.]\n"
       ]
      }
     ],
     "prompt_number": 21
    },
    {
     "cell_type": "code",
     "collapsed": false,
     "input": [
      "q = opd[P>0]\n",
      "s = cumsum(s)\n",
      "u = 0\n",
      "v = s[0]\n",
      "for k in range(n_src):\n",
      "    print k\n",
      "    print np.std(q[u:s[k]])*1e9\n",
      "    u = s[k]"
     ],
     "language": "python",
     "metadata": {},
     "outputs": [
      {
       "output_type": "stream",
       "stream": "stdout",
       "text": [
        "0\n",
        "1.16500120078\n",
        "1\n",
        "587304.060536\n",
        "2\n",
        "1175202.44257\n",
        "3\n",
        "1760916.49573\n"
       ]
      }
     ],
     "prompt_number": 22
    },
    {
     "cell_type": "code",
     "collapsed": false,
     "input": [
      "src.opd2phase() \n",
      "fig = figure()\n",
      "fig.set_size_inches(20,10)\n",
      "imshow(src.phase.host().T,interpolation='none')\n",
      "colorbar()"
     ],
     "language": "python",
     "metadata": {},
     "outputs": [
      {
       "metadata": {},
       "output_type": "pyout",
       "prompt_number": 23,
       "text": [
        "<matplotlib.colorbar.Colorbar instance at 0x7f1064c97d88>"
       ]
      },
      {
       "metadata": {},
       "output_type": "display_data",
       "png": "[encoded data removed]",
       "text": [
        "<matplotlib.figure.Figure at 0x7f1067918f90>"
       ]
      }
     ],
     "prompt_number": 23
    },
    {
     "cell_type": "markdown",
     "metadata": {},
     "source": []
    }
   ],
   "metadata": {}
  }
 ]
}