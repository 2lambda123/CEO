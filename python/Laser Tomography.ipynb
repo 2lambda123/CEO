{
 "metadata": {
  "name": "",
  "signature": "sha256:2b8ba84d4ed130f02ae271d540994154416298ffd8685cb925fea42a2a15ed65"
 },
 "nbformat": 3,
 "nbformat_minor": 0,
 "worksheets": [
  {
   "cells": [
    {
     "cell_type": "markdown",
     "metadata": {},
     "source": [
      "Phase screens are computed with an `Atmosphere` and a `Source` object.\n",
      "Lets import the `ceo` module first."
     ]
    },
    {
     "cell_type": "code",
     "collapsed": false,
     "input": [
      "import math\n",
      "import numpy as np\n",
      "import ceo\n",
      "%pylab inline"
     ],
     "language": "python",
     "metadata": {},
     "outputs": [
      {
       "output_type": "stream",
       "stream": "stdout",
       "text": [
        "Populating the interactive namespace from numpy and matplotlib\n"
       ]
      }
     ],
     "prompt_number": 1
    },
    {
     "cell_type": "markdown",
     "metadata": {},
     "source": [
      "The atmosphere is defined with"
     ]
    },
    {
     "cell_type": "code",
     "collapsed": false,
     "input": [
      "atm =  ceo.GmtAtmosphere(0.15,60)"
     ],
     "language": "python",
     "metadata": {},
     "outputs": [],
     "prompt_number": 2
    },
    {
     "cell_type": "markdown",
     "metadata": {},
     "source": [
      "A constellation of 6 Laser guide stars evenly located on a 1 arcmin diameter circle is defined first,"
     ]
    },
    {
     "cell_type": "code",
     "collapsed": false,
     "input": [
      "NL = 60\n",
      "NA = NL+1\n",
      "lgs = ceo.Source(\"V\",\n",
      "                 zenith=np.ones(6)*30*math.pi/180/3600,\n",
      "                 azimuth=np.linspace(0,5,6)*2*math.pi/6,\n",
      "                 height = 90e3,\n",
      "                 resolution=(NA,NA))"
     ],
     "language": "python",
     "metadata": {},
     "outputs": [],
     "prompt_number": 3
    },
    {
     "cell_type": "markdown",
     "metadata": {},
     "source": [
      "The telescope pupil is defined as the Giant Magellan Telescope and mask for the deformable mirror actuators is also set."
     ]
    },
    {
     "cell_type": "code",
     "collapsed": false,
     "input": [
      "D = 25.5\n",
      "#tel = ceo.Telescope(NL*16)\n",
      "#dm  = ceo.Telescope(NA)\n",
      "tel = ceo.GMT(NL*16,D)\n",
      "dm  = ceo.Mask(NA)"
     ],
     "language": "python",
     "metadata": {},
     "outputs": [],
     "prompt_number": 4
    },
    {
     "cell_type": "markdown",
     "metadata": {},
     "source": [
      "A `Centroiding` object is defined, it will contains the phase screen gradient corresponding to the LGS.\n",
      "The `fried_geometry` method computes the DM valid actuator mask according to the telescope pupil shape and the given intensity `threshlod`.\n",
      "The `lgs` `Source` object is masked with the dm mask."
     ]
    },
    {
     "cell_type": "code",
     "collapsed": false,
     "input": [
      "d = D/NL\n",
      "cog = ceo.Centroiding(NL,N_SOURCE=lgs.size)\n",
      "cog.fried_geometry(dm, tel, 16, 0.5)\n",
      "lgs.masked(dm)"
     ],
     "language": "python",
     "metadata": {},
     "outputs": [],
     "prompt_number": 5
    },
    {
     "cell_type": "code",
     "collapsed": false,
     "input": [
      "dm_mask = dm.f"
     ],
     "language": "python",
     "metadata": {},
     "outputs": [],
     "prompt_number": 6
    },
    {
     "cell_type": "markdown",
     "metadata": {},
     "source": [
      "The phase screen gradient is computed with the `Atmosphere` method `get_phase_screen_gradient`.\n",
      "The gradient is computed over a square lenslet array of size $N_L \\times N_L$ with $d$ the pitch in meter.\n",
      "The phase screen gradient is computed for a given `Source` object that contains one or more guide stars.\n",
      "The phase screen gradient can be computed for a given time delay.\n",
      "The $c_x$ and $c_y$ centroids are saved in a `Centroiding` object."
     ]
    },
    {
     "cell_type": "code",
     "collapsed": false,
     "input": [
      "atm.get_phase_screen_gradient(cog,NL,d,lgs,0.0)\n",
      "c = cog.c.host(units='arcsec')"
     ],
     "language": "python",
     "metadata": {},
     "outputs": [],
     "prompt_number": 7
    },
    {
     "cell_type": "code",
     "collapsed": false,
     "input": [
      "imshow(c.reshape(NL*lgs.size*2,NL).transpose(),interpolation='none')\n",
      "#ceog.heatmap(c.reshape(NL*6*2,NL).transpose(), filename=PLOTLY_PATH+\"wavefront gradient\")"
     ],
     "language": "python",
     "metadata": {},
     "outputs": [
      {
       "metadata": {},
       "output_type": "pyout",
       "prompt_number": 8,
       "text": [
        "<matplotlib.image.AxesImage at 0x7f1850247b90>"
       ]
      },
      {
       "metadata": {},
       "output_type": "display_data",
       "png": "[encoded data removed]",
       "text": [
        "<matplotlib.figure.Figure at 0x7f1852b67050>"
       ]
      }
     ],
     "prompt_number": 8
    },
    {
     "cell_type": "markdown",
     "metadata": {},
     "source": [
      "The on-axis source is defined and is propagated throught the atmosphere:"
     ]
    },
    {
     "cell_type": "code",
     "collapsed": false,
     "input": [
      "src = ceo.Source(\"K\",resolution=(NA,NA))\n",
      "src.masked(dm)\n",
      "atm.get_phase_screen(src,d,NA,d,NA,0.0)"
     ],
     "language": "python",
     "metadata": {},
     "outputs": [],
     "prompt_number": 10
    },
    {
     "cell_type": "markdown",
     "metadata": {},
     "source": [
      "From the phase gradient, the phase screen can be reconstructed with a linear minimim mean square error reconstructor (LMMSE).\n",
      "A `Lmmse` object is used to perform the phase estimation.\n",
      "The parameters are:\n",
      "- an `Atmosphere` object,\n",
      "- a `Source` object representing the guide star(s),\n",
      "- a `Source` object representing the star(s) in the estimation direction(s),\n",
      "- the wavefront sampling step in meter,\n",
      "- the number of sample across the wavefront,\n",
      "- a `Mask` object representing the pupil,\n",
      "- the iterative solver."
     ]
    },
    {
     "cell_type": "code",
     "collapsed": false,
     "input": [
      "src_lmmse = ceo.Lmmse(atm,lgs,src,d,NL,dm,\"MINRES\")\n",
      "src_lmmse.estimation(cog)\n",
      "src_phase = src.phase\n",
      "src_lmmse_phase = src_lmmse.phase\n",
      "ps_e = src_lmmse_phase.host(units='micron',\n",
      "                            zm=True,mask=dm_mask.host()) - src_phase.host(units='micron',zm=True,mask=dm_mask.host_data)\n",
      "print \"wavefront error: %6.2fnm\" % (np.std(ps_e[dm_mask.host_data!=0])*1e3)"
     ],
     "language": "python",
     "metadata": {},
     "outputs": [
      {
       "output_type": "stream",
       "stream": "stdout",
       "text": [
        "wavefront error: 124.60nm\n"
       ]
      }
     ],
     "prompt_number": 11
    },
    {
     "cell_type": "code",
     "collapsed": false,
     "input": [
      "imshow(np.concatenate((src_phase.host_data, src_lmmse_phase.host_data),axis=1),\n",
      "             interpolation='none')\n",
      "colorbar()"
     ],
     "language": "python",
     "metadata": {},
     "outputs": [
      {
       "metadata": {},
       "output_type": "pyout",
       "prompt_number": 12,
       "text": [
        "<matplotlib.colorbar.Colorbar instance at 0x7f1850116a70>"
       ]
      },
      {
       "metadata": {},
       "output_type": "display_data",
       "png": "[encoded data removed]",
       "text": [
        "<matplotlib.figure.Figure at 0x7f18500d5490>"
       ]
      }
     ],
     "prompt_number": 12
    },
    {
     "cell_type": "code",
     "collapsed": false,
     "input": [
      "imshow(ps_e*1e3,interpolation='none')\n",
      "colorbar()"
     ],
     "language": "python",
     "metadata": {},
     "outputs": [
      {
       "metadata": {},
       "output_type": "pyout",
       "prompt_number": 13,
       "text": [
        "<matplotlib.colorbar.Colorbar instance at 0x7f1847f05368>"
       ]
      },
      {
       "metadata": {},
       "output_type": "display_data",
       "png": "[encoded data removed]",
       "text": [
        "<matplotlib.figure.Figure at 0x7f18501a9190>"
       ]
      }
     ],
     "prompt_number": 13
    },
    {
     "cell_type": "heading",
     "level": 2,
     "metadata": {},
     "source": [
      "Wavefront error vs. LGS radius"
     ]
    },
    {
     "cell_type": "code",
     "collapsed": false,
     "input": [
      "azi = np.linspace(0,5,6)*2*math.pi/6\n",
      "zen_radius = np.linspace(5,60,12)\n",
      "zen_radius"
     ],
     "language": "python",
     "metadata": {},
     "outputs": [
      {
       "metadata": {},
       "output_type": "pyout",
       "prompt_number": 14,
       "text": [
        "array([  5.,  10.,  15.,  20.,  25.,  30.,  35.,  40.,  45.,  50.,  55.,\n",
        "        60.])"
       ]
      }
     ],
     "prompt_number": 14
    },
    {
     "cell_type": "code",
     "collapsed": false,
     "input": [
      "def eval_wfe(_zen_radius,n_sample):\n",
      "    print \"LGS asterism radius: %4.1farcsec\" % _zen_radius\n",
      "    lgs = ceo.Source(\"V\",\n",
      "                 zenith=np.ones(6)*_zen_radius*math.pi/180/3600,\n",
      "                 azimuth=azi,\n",
      "                 height = 90e3,\n",
      "                 resolution=(NA,NA))\n",
      "    src_lmmse = ceo.Lmmse(atm,lgs,src,d,NL,dm,\"MINRES\")\n",
      "    var_ps_e = 0\n",
      "    for k_sample in range(n_sample):\n",
      "        atm.reset()\n",
      "        atm.get_phase_screen_gradient(cog,NL,d,lgs,0.0)\n",
      "        src_lmmse.estimation(cog)\n",
      "        atm.get_phase_screen(src,d,NA,d,NA,0.0)\n",
      "        src.masked(dm)\n",
      "        src_phase = src.phase\n",
      "        src_lmmse_phase = src_lmmse.phase\n",
      "        ps_e = src_lmmse_phase.host(units='micron') - src_phase.host(units='micron')\n",
      "        var_ps_e += np.var(ps_e[dm_mask.host_data!=0])\n",
      "    std_ps_e =  math.sqrt(var_ps_e/n_sample)*1e3\n",
      "    print \" -> wavefront error: %6.2fnm\" % (std_ps_e)\n",
      "    return std_ps_e"
     ],
     "language": "python",
     "metadata": {},
     "outputs": [],
     "prompt_number": 17
    },
    {
     "cell_type": "code",
     "collapsed": false,
     "input": [
      "wfe = [eval_wfe(x,200) for x in zen_radius]"
     ],
     "language": "python",
     "metadata": {},
     "outputs": [
      {
       "output_type": "stream",
       "stream": "stdout",
       "text": [
        "LGS asterism radius:  5.0arcsec\n",
        " -> wavefront error: 207.93nm"
       ]
      },
      {
       "output_type": "stream",
       "stream": "stdout",
       "text": [
        "\n",
        "LGS asterism radius: 10.0arcsec\n",
        " -> wavefront error: 173.42nm"
       ]
      },
      {
       "output_type": "stream",
       "stream": "stdout",
       "text": [
        "\n",
        "LGS asterism radius: 15.0arcsec\n",
        " -> wavefront error: 151.42nm"
       ]
      },
      {
       "output_type": "stream",
       "stream": "stdout",
       "text": [
        "\n",
        "LGS asterism radius: 20.0arcsec\n",
        " -> wavefront error: 140.41nm"
       ]
      },
      {
       "output_type": "stream",
       "stream": "stdout",
       "text": [
        "\n",
        "LGS asterism radius: 25.0arcsec\n",
        " -> wavefront error: 133.78nm"
       ]
      },
      {
       "output_type": "stream",
       "stream": "stdout",
       "text": [
        "\n",
        "LGS asterism radius: 30.0arcsec\n",
        " -> wavefront error: 135.30nm"
       ]
      },
      {
       "output_type": "stream",
       "stream": "stdout",
       "text": [
        "\n",
        "LGS asterism radius: 35.0arcsec\n",
        " -> wavefront error: 138.99nm"
       ]
      },
      {
       "output_type": "stream",
       "stream": "stdout",
       "text": [
        "\n",
        "LGS asterism radius: 40.0arcsec\n",
        " -> wavefront error: 144.96nm"
       ]
      },
      {
       "output_type": "stream",
       "stream": "stdout",
       "text": [
        "\n",
        "LGS asterism radius: 45.0arcsec\n",
        " -> wavefront error: 148.69nm"
       ]
      },
      {
       "output_type": "stream",
       "stream": "stdout",
       "text": [
        "\n",
        "LGS asterism radius: 50.0arcsec\n",
        " -> wavefront error: 154.39nm"
       ]
      },
      {
       "output_type": "stream",
       "stream": "stdout",
       "text": [
        "\n",
        "LGS asterism radius: 55.0arcsec\n",
        " -> wavefront error: 160.21nm"
       ]
      },
      {
       "output_type": "stream",
       "stream": "stdout",
       "text": [
        "\n",
        "LGS asterism radius: 60.0arcsec\n",
        " -> wavefront error: 164.41nm"
       ]
      },
      {
       "output_type": "stream",
       "stream": "stdout",
       "text": [
        "\n"
       ]
      }
     ],
     "prompt_number": 18
    },
    {
     "cell_type": "code",
     "collapsed": false,
     "input": [
      "plot(zen_radius,wfe)\n",
      "grid()"
     ],
     "language": "python",
     "metadata": {},
     "outputs": [
      {
       "metadata": {},
       "output_type": "display_data",
       "png": "[encoded data removed]",
       "text": [
        "<matplotlib.figure.Figure at 0x7f1850247f90>"
       ]
      }
     ],
     "prompt_number": 19
    },
    {
     "cell_type": "code",
     "collapsed": false,
     "input": [],
     "language": "python",
     "metadata": {},
     "outputs": []
    }
   ],
   "metadata": {}
  }
 ]
}