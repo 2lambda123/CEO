{
 "metadata": {
  "name": "",
  "signature": "sha256:01223610af230fb626fbef45f11c35418975c8eac9574276323485c94ebc2749"
 },
 "nbformat": 3,
 "nbformat_minor": 0,
 "worksheets": [
  {
   "cells": [
    {
     "cell_type": "heading",
     "level": 1,
     "metadata": {},
     "source": [
      "Shack-Hartmann Wavefront Sensor Laser Tomography"
     ]
    },
    {
     "cell_type": "code",
     "collapsed": false,
     "input": [
      "import numpy as np\n",
      "from ceo import ceo\n",
      "%pylab inline"
     ],
     "language": "python",
     "metadata": {},
     "outputs": [
      {
       "output_type": "stream",
       "stream": "stdout",
       "text": [
        "Populating the interactive namespace from numpy and matplotlib\n"
       ]
      }
     ],
     "prompt_number": 1
    },
    {
     "cell_type": "markdown",
     "metadata": {},
     "source": [
      "A $N_L\\times N_L$ Shack-Hartmann wavefront sensor (WFS) on a $D$ diameter telescope is going to be modeled with $n_P\\times n_P$ pixels per lenslet on the detector."
     ]
    },
    {
     "cell_type": "code",
     "collapsed": false,
     "input": [
      "nLenslet = 60\n",
      "NA = nLenslet + 1;\n",
      "D = 25.5\n",
      "n = 6\n",
      "nPx = n*nLenslet + 1"
     ],
     "language": "python",
     "metadata": {},
     "outputs": [],
     "prompt_number": 2
    },
    {
     "cell_type": "markdown",
     "metadata": {},
     "source": [
      "A arbitrary number of guide stars (GS) can be used by one WFS model, the assumption beeing that all the GS uses exactly the same WFS.\n",
      "Here the GS are randomly distributed in a 2arcmin diameter field of regard."
     ]
    },
    {
     "cell_type": "code",
     "collapsed": false,
     "input": [
      "nGS = 6\n",
      "gs = ceo.Source(\"K\",\n",
      "                 zenith=np.ones(nGS)*30*math.pi/180/3600,\n",
      "                 azimuth=np.linspace(0,nGS-1,nGS)*2*math.pi/nGS,\n",
      "                 height = 90e3,\n",
      "                 resolution=(nPx,nPx))\n",
      "calib_src = ceo.Source(\"K\", resolution=(nPx,nPx))"
     ],
     "language": "python",
     "metadata": {},
     "outputs": [],
     "prompt_number": 3
    },
    {
     "cell_type": "markdown",
     "metadata": {},
     "source": [
      "Next the telescope pupil mask is defined and applied to the GSs."
     ]
    },
    {
     "cell_type": "code",
     "collapsed": false,
     "input": [
      "tel = ceo.GMT(nPx,D)\n",
      "gs.masked(tel)\n",
      "calib_src.masked(tel)"
     ],
     "language": "python",
     "metadata": {},
     "outputs": [],
     "prompt_number": 4
    },
    {
     "cell_type": "markdown",
     "metadata": {},
     "source": [
      "The shack-Hartmann WFS is defined with the `shackHartmann` class.\n",
      "The mandatory parameters of the class constructor are:\n",
      " - the lenslet array size $N_L$,\n",
      " - the number of pixel per lenslet in the pupil plane $n_P$, meaning that the wavefront of the corresponding GSs must be sampled with $N_L n_P \\times N_L n_P$ pixels,\n",
      " - the lenslet pitch $d$.\n",
      " \n",
      " By default, the WFS imagelets are Nyquist sampled meaning that the default value of the discrete Fourier transform over-sampling factor is set to 2, i.e. $\\alpha\\equiv$ `DFT_osf=2`.\n",
      " The size of each imagelet is then  $\\alpha n_P \\times \\alpha n_P$.\n",
      " \n",
      " The detector framelet sizes are `N_PX_IMAGE`$\\times $ `N_PX_IMAGE` pixels each with the default value `N_PX_IMAGE` $=n_P$.\n",
      " If the imagelets are larger, they are cropped to the specified size, if they are smaller, the framelets are padded with zeros.\n",
      " \n",
      " Finally the framelets can be binned down by a factor $\\beta\\equiv$ `BIN_IMAGE` leading to a final framelet size of $${N_I\\over\\beta}\\times{N_I\\over\\beta}$$ with $N_I\\equiv$ `N_PX_IMAGE`.\n",
      " The default value of `BIN_IMAGE` is 1.\n",
      " \n",
      " The pixel scale is given by: \n",
      " $${\\beta\\lambda \\over \\alpha d}$$ \n",
      " and the lenslet field-of-view is \n",
      " $$N_I{\\lambda\\over \\alpha d}$$ \n",
      " with $\\lambda$ the wavelength.\n",
      " \n",
      " If more than on GS is assigned to the WFS, the parameter `N_GS` needs to be set."
     ]
    },
    {
     "cell_type": "code",
     "collapsed": false,
     "input": [
      "d = D/nLenslet\n",
      "wfs = ceo.ShackHartmann(nLenslet, n, d, N_PX_IMAGE=2*(n+1))\n",
      "wfs.calibrate(calib_src,0.5)"
     ],
     "language": "python",
     "metadata": {},
     "outputs": [],
     "prompt_number": 5
    },
    {
     "cell_type": "code",
     "collapsed": false,
     "input": [
      "px_scale = 2.179e-6/d/2\n",
      "coef_med = []\n",
      "px = arange(0,1,0.05)\n",
      "for k in px:\n",
      "    wfs.pointing(-px_scale*k,0.0)\n",
      "    wfs.reset()\n",
      "    wfs.analyze(calib_src)\n",
      "    c = wfs.c.host()\n",
      "    cx = c[0,0:c.size/2]\n",
      "    m = wfs.valid_lenslet.f.host()\n",
      "    cx = cx[m.flatten()>0]\n",
      "    #print k, np.mean(cx/px_scale/k) , np.median(cx/px_scale/k)\n",
      "    coef_med.append(np.median(cx/px_scale))\n",
      "cp = np.polyfit(px, coef_med, 1)\n",
      "print cp\n",
      "plot(px,coef_med,px,coef_med/cp[0])\n",
      "grid()"
     ],
     "language": "python",
     "metadata": {},
     "outputs": [
      {
       "output_type": "stream",
       "stream": "stdout",
       "text": [
        "[ 0.92040973 -0.01899534]\n"
       ]
      },
      {
       "metadata": {},
       "output_type": "display_data",
       "png": "[encoded data removed]",
       "text": [
        "<matplotlib.figure.Figure at 0x7fb8c40f4710>"
       ]
      }
     ],
     "prompt_number": 6
    },
    {
     "cell_type": "code",
     "collapsed": false,
     "input": [
      "wfs = ceo.ShackHartmann(nLenslet, n, d, N_GS = nGS, N_PX_IMAGE=2*(n+1))\n",
      "#wfs.slopes_gain = 1.0/cp[0]"
     ],
     "language": "python",
     "metadata": {},
     "outputs": [],
     "prompt_number": 7
    },
    {
     "cell_type": "markdown",
     "metadata": {},
     "source": [
      "The WFS reference slopes and valid lenslets are set with the `calibrate` method passing a `Source` object which wavefront sets the reference slopes and the lenslet intensity threshold used to discard the lenset with too litle illumination."
     ]
    },
    {
     "cell_type": "code",
     "collapsed": false,
     "input": [
      "wfs.calibrate(gs,0.5)"
     ],
     "language": "python",
     "metadata": {},
     "outputs": [],
     "prompt_number": 8
    },
    {
     "cell_type": "code",
     "collapsed": false,
     "input": [
      "validActuator = wfs.valid_actuator\n",
      "validActuator_f = validActuator.f\n",
      "imshow(validActuator_f.host(),interpolation='None')\n",
      "validActuator_f.host_data.sum()"
     ],
     "language": "python",
     "metadata": {},
     "outputs": [
      {
       "metadata": {},
       "output_type": "pyout",
       "prompt_number": 9,
       "text": [
        "2290.0"
       ]
      },
      {
       "metadata": {},
       "output_type": "display_data",
       "png": "[encoded data removed]",
       "text": [
        "<matplotlib.figure.Figure at 0x7fb8b4a87690>"
       ]
      }
     ],
     "prompt_number": 9
    },
    {
     "cell_type": "markdown",
     "metadata": {},
     "source": [
      "The source wavefront can now be analyzed with respect to the former calibration."
     ]
    },
    {
     "cell_type": "code",
     "collapsed": false,
     "input": [
      "wfs.analyze(gs)"
     ],
     "language": "python",
     "metadata": {},
     "outputs": [],
     "prompt_number": 10
    },
    {
     "cell_type": "markdown",
     "metadata": {},
     "source": [
      "The detector frame is saved in the `cuFloatArray` object `frame`."
     ]
    },
    {
     "cell_type": "code",
     "collapsed": false,
     "input": [
      "#figure(figsize=(12,12))\n",
      "#imshow(wfs.frame.host().transpose(),interpolation='none')"
     ],
     "language": "python",
     "metadata": {},
     "outputs": [],
     "prompt_number": 11
    },
    {
     "cell_type": "markdown",
     "metadata": {},
     "source": [
      "A `Atmosphere` object is defined next and the GSs are propagated through:"
     ]
    },
    {
     "cell_type": "code",
     "collapsed": false,
     "input": [
      "atm =ceo.GmtAtmosphere(20e-2,30)\n",
      "p = D/(nPx-1)\n",
      "atm.get_phase_screen(gs,  p, nPx, p, nPx, 0.0)"
     ],
     "language": "python",
     "metadata": {},
     "outputs": [],
     "prompt_number": 12
    },
    {
     "cell_type": "code",
     "collapsed": false,
     "input": [
      "#figure(figsize=(12,12))\n",
      "#imshow(gs.phase.host().transpose(),interpolation='none')"
     ],
     "language": "python",
     "metadata": {},
     "outputs": [],
     "prompt_number": 13
    },
    {
     "cell_type": "markdown",
     "metadata": {},
     "source": [
      "The WFS detector need to be reset before proceeding with a new wavefront analysis."
     ]
    },
    {
     "cell_type": "code",
     "collapsed": false,
     "input": [
      "wfs.reset()\n",
      "wfs.analyze(gs)"
     ],
     "language": "python",
     "metadata": {},
     "outputs": [],
     "prompt_number": 14
    },
    {
     "cell_type": "code",
     "collapsed": false,
     "input": [
      "#figure(figsize=(12,12))\n",
      "#imshow(wfs.frame.host().transpose(),interpolation='none')"
     ],
     "language": "python",
     "metadata": {},
     "outputs": [],
     "prompt_number": 15
    },
    {
     "cell_type": "markdown",
     "metadata": {},
     "source": [
      "The WFS centroids are accessible through the `cuFloatArray` object `c`."
     ]
    },
    {
     "cell_type": "code",
     "collapsed": false,
     "input": [
      "#figure(figsize=(12,12))\n",
      "#imshow(wfs.c.host().reshape(2*nLenslet*nGS\n",
      "#                            ,nLenslet).transpose(),interpolation='none')\n",
      "#colorbar()"
     ],
     "language": "python",
     "metadata": {},
     "outputs": [],
     "prompt_number": 16
    },
    {
     "cell_type": "code",
     "collapsed": false,
     "input": [
      "src = ceo.Source(\"K\",resolution=(NA,NA))\n",
      "src.masked(validActuator)"
     ],
     "language": "python",
     "metadata": {},
     "outputs": [],
     "prompt_number": 17
    },
    {
     "cell_type": "code",
     "collapsed": false,
     "input": [
      "lmmse = ceo.LmmseSH(atm,gs,src,wfs,\"MINRES\")"
     ],
     "language": "python",
     "metadata": {},
     "outputs": [],
     "prompt_number": 18
    },
    {
     "cell_type": "code",
     "collapsed": false,
     "input": [
      "lmmse.estimation(wfs)"
     ],
     "language": "python",
     "metadata": {},
     "outputs": [],
     "prompt_number": 19
    },
    {
     "cell_type": "code",
     "collapsed": false,
     "input": [
      "lmmse_phase = lmmse.phase\n",
      "imshow(lmmse_phase.host(units='micron',zm=True,mask=validActuator_f.host_data),interpolation='none')\n",
      "colorbar()"
     ],
     "language": "python",
     "metadata": {},
     "outputs": [
      {
       "metadata": {},
       "output_type": "pyout",
       "prompt_number": 20,
       "text": [
        "<matplotlib.colorbar.Colorbar instance at 0x7fb89e80f488>"
       ]
      },
      {
       "metadata": {},
       "output_type": "display_data",
       "png": "[encoded data removed]",
       "text": [
        "<matplotlib.figure.Figure at 0x7fb8b4ae3250>"
       ]
      }
     ],
     "prompt_number": 20
    },
    {
     "cell_type": "code",
     "collapsed": false,
     "input": [
      "atm.get_phase_screen(src,d,NA,d,NA,0.0)"
     ],
     "language": "python",
     "metadata": {},
     "outputs": [],
     "prompt_number": 21
    },
    {
     "cell_type": "code",
     "collapsed": false,
     "input": [
      "src_phase = src.phase\n",
      "ps_e = src_phase.host(units='micron',zm=True,mask=validActuator_f.host_data) - \\\n",
      "    lmmse_phase.host(units='micron',zm=True,mask=validActuator_f.host_data)\n",
      "print \"wavefront error: %6.2fnm\" % (np.std(ps_e[validActuator_f.host_data!=0])*1e3)\n",
      "imshow(np.concatenate((src_phase.host_data,lmmse_phase.host_data),axis=1),interpolation='none')\n",
      "colorbar()"
     ],
     "language": "python",
     "metadata": {},
     "outputs": [
      {
       "output_type": "stream",
       "stream": "stdout",
       "text": [
        "wavefront error: 132.15nm\n"
       ]
      },
      {
       "metadata": {},
       "output_type": "pyout",
       "prompt_number": 22,
       "text": [
        "<matplotlib.colorbar.Colorbar instance at 0x7fb89e676290>"
       ]
      },
      {
       "metadata": {},
       "output_type": "display_data",
       "png": "[encoded data removed]",
       "text": [
        "<matplotlib.figure.Figure at 0x7fb89e79f6d0>"
       ]
      }
     ],
     "prompt_number": 22
    },
    {
     "cell_type": "code",
     "collapsed": false,
     "input": [
      "imshow(ps_e*1e3,interpolation='None')\n",
      "colorbar()"
     ],
     "language": "python",
     "metadata": {},
     "outputs": [
      {
       "metadata": {},
       "output_type": "pyout",
       "prompt_number": 23,
       "text": [
        "<matplotlib.colorbar.Colorbar instance at 0x7fb89e550c68>"
       ]
      },
      {
       "metadata": {},
       "output_type": "display_data",
       "png": "[encoded data removed]",
       "text": [
        "<matplotlib.figure.Figure at 0x7fb8b4acc7d0>"
       ]
      }
     ],
     "prompt_number": 23
    },
    {
     "cell_type": "code",
     "collapsed": false,
     "input": [
      "np.exp(-(2*math.pi*132/2.2e3)**2)"
     ],
     "language": "python",
     "metadata": {},
     "outputs": [
      {
       "metadata": {},
       "output_type": "pyout",
       "prompt_number": 24,
       "text": [
        "0.8675151499661532"
       ]
      }
     ],
     "prompt_number": 24
    },
    {
     "cell_type": "code",
     "collapsed": false,
     "input": [],
     "language": "python",
     "metadata": {},
     "outputs": [],
     "prompt_number": 24
    }
   ],
   "metadata": {}
  }
 ]
}