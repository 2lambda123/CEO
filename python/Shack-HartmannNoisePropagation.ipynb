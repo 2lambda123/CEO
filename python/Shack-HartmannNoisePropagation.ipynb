{
 "metadata": {
  "name": "",
  "signature": "sha256:d6e3b55cef9ea342b918ed28fa16a15c6aa1b840a860eec9dcbd669436a6afbd"
 },
 "nbformat": 3,
 "nbformat_minor": 0,
 "worksheets": [
  {
   "cells": [
    {
     "cell_type": "code",
     "collapsed": false,
     "input": [
      "from ceo import ceo\n",
      "%pylab inline"
     ],
     "language": "python",
     "metadata": {},
     "outputs": [
      {
       "output_type": "stream",
       "stream": "stdout",
       "text": [
        "Populating the interactive namespace from numpy and matplotlib\n"
       ]
      }
     ],
     "prompt_number": 12
    },
    {
     "cell_type": "markdown",
     "metadata": {},
     "source": [
      "A 10th magnitude V band source:"
     ]
    },
    {
     "cell_type": "code",
     "collapsed": false,
     "input": [
      "n = 4\n",
      "src = ceo.Source(\"V\",resolution=(n,n))\n",
      "src.magnitude = 10"
     ],
     "language": "python",
     "metadata": {},
     "outputs": [],
     "prompt_number": 13
    },
    {
     "cell_type": "markdown",
     "metadata": {},
     "source": [
      "A single lenslet Shack-Hartmann WFS with $4\\times 4$ pixel in the pupil plane and a Nyquist sampled focal plane with $8\\times 8$ pixels:"
     ]
    },
    {
     "cell_type": "code",
     "collapsed": false,
     "input": [
      "wfs = ceo.ShackHartmann(1,n,1,N_PX_IMAGE=2*n)"
     ],
     "language": "python",
     "metadata": {},
     "outputs": [],
     "prompt_number": 14
    },
    {
     "cell_type": "markdown",
     "metadata": {},
     "source": [
      "A 1m$^2$ square pupil:"
     ]
    },
    {
     "cell_type": "code",
     "collapsed": false,
     "input": [
      "tel = ceo.Mask(n)"
     ],
     "language": "python",
     "metadata": {},
     "outputs": [],
     "prompt_number": 15
    },
    {
     "cell_type": "markdown",
     "metadata": {},
     "source": [
      "for the source to go through"
     ]
    },
    {
     "cell_type": "code",
     "collapsed": false,
     "input": [
      "src.masked(tel)"
     ],
     "language": "python",
     "metadata": {},
     "outputs": [],
     "prompt_number": 16
    },
    {
     "cell_type": "markdown",
     "metadata": {},
     "source": [
      "Lets calibrate the WFS:"
     ]
    },
    {
     "cell_type": "code",
     "collapsed": false,
     "input": [
      "wfs.calibrate(src,1)"
     ],
     "language": "python",
     "metadata": {},
     "outputs": [],
     "prompt_number": 17
    },
    {
     "cell_type": "markdown",
     "metadata": {},
     "source": [
      "The WFS detector is reset, the source is propagated through the WFS and the WFS detector is read (the exposure time is 1ms):"
     ]
    },
    {
     "cell_type": "code",
     "collapsed": false,
     "input": [
      "src.magnitude = 10\n",
      "wfs.reset()\n",
      "wfs.propagate(src)\n",
      "wfs.readOut(1e-3,0)\n",
      "frame = wfs.frame\n",
      "imshow(frame.host(),interpolation='none')\n",
      "colorbar()"
     ],
     "language": "python",
     "metadata": {},
     "outputs": [
      {
       "metadata": {},
       "output_type": "pyout",
       "prompt_number": 18,
       "text": [
        "<matplotlib.colorbar.Colorbar instance at 0x7fabc6dcca70>"
       ]
      },
      {
       "metadata": {},
       "output_type": "display_data",
       "png": "[encoded data removed]",
       "text": [
        "<matplotlib.figure.Figure at 0x7fabc6e99950>"
       ]
      }
     ],
     "prompt_number": 18
    },
    {
     "cell_type": "code",
     "collapsed": false,
     "input": [
      "np.sum(frame.host_data)"
     ],
     "language": "python",
     "metadata": {},
     "outputs": [
      {
       "metadata": {},
       "output_type": "pyout",
       "prompt_number": 19,
       "text": [
        "934.0"
       ]
      }
     ],
     "prompt_number": 19
    },
    {
     "cell_type": "code",
     "collapsed": false,
     "input": [
      "src.nPhoton*1e-3"
     ],
     "language": "python",
     "metadata": {},
     "outputs": [
      {
       "metadata": {},
       "output_type": "pyout",
       "prompt_number": 20,
       "text": [
        "897.0"
       ]
      }
     ],
     "prompt_number": 20
    },
    {
     "cell_type": "markdown",
     "metadata": {},
     "source": [
      "The WFS detector frame is process to get the centroids:"
     ]
    },
    {
     "cell_type": "code",
     "collapsed": false,
     "input": [
      "wfs.process()\n",
      "print wfs.c.host(units='arcsec')*1e3"
     ],
     "language": "python",
     "metadata": {},
     "outputs": [
      {
       "output_type": "stream",
       "stream": "stdout",
       "text": [
        "[[-1.39681685 -0.36437109]]\n"
       ]
      }
     ],
     "prompt_number": 21
    },
    {
     "cell_type": "code",
     "collapsed": false,
     "input": [
      "def wfeVsNoise(magnitude,ron=0,exposure=1e-3):\n",
      "    src.magnitude = magnitude\n",
      "    nSample = 2500\n",
      "    cx = np.zeros(nSample)\n",
      "    cy = np.zeros(nSample)\n",
      "    for k in range(nSample):\n",
      "        wfs.reset()\n",
      "        wfs.propagate(src)\n",
      "        wfs.readOut(exposure,ron)\n",
      "        wfs.process()\n",
      "        c = wfs.c.host()\n",
      "        cx[k] = c[0,0]\n",
      "        cy[k] = c[0,1]    \n",
      "    return src.nPhoton*exposure, cx.var(), cy.var()"
     ],
     "language": "python",
     "metadata": {},
     "outputs": [],
     "prompt_number": 22
    },
    {
     "cell_type": "heading",
     "level": 2,
     "metadata": {},
     "source": [
      "Centroiding error versus photon noise"
     ]
    },
    {
     "cell_type": "heading",
     "level": 3,
     "metadata": {},
     "source": [
      "Analytical expression"
     ]
    },
    {
     "cell_type": "code",
     "collapsed": false,
     "input": [
      "def photonNoise(nPh,fwhm):\n",
      "    return ((fwhm**2/(4*math.log(2)))/nPh)"
     ],
     "language": "python",
     "metadata": {},
     "outputs": [],
     "prompt_number": 23
    },
    {
     "cell_type": "heading",
     "level": 3,
     "metadata": {},
     "source": [
      "Numerical estimation"
     ]
    },
    {
     "cell_type": "code",
     "collapsed": false,
     "input": [
      "magnitude = np.linspace(0,14,15)\n",
      "print magnitude"
     ],
     "language": "python",
     "metadata": {},
     "outputs": [
      {
       "output_type": "stream",
       "stream": "stdout",
       "text": [
        "[  0.   1.   2.   3.   4.   5.   6.   7.   8.   9.  10.  11.  12.  13.  14.]\n"
       ]
      }
     ],
     "prompt_number": 24
    },
    {
     "cell_type": "code",
     "collapsed": false,
     "input": [
      "cex = np.zeros(magnitude.size)\n",
      "cey = np.zeros(magnitude.size)\n",
      "nPh = np.zeros(magnitude.size)\n",
      "for x in range(magnitude.size):\n",
      "    nPh[x], cex[x],cey[x] = wfeVsNoise(x)\n",
      "print nPh"
     ],
     "language": "python",
     "metadata": {},
     "outputs": [
      {
       "output_type": "stream",
       "stream": "stdout",
       "text": [
        "[  8.97000038e+06   3.57102157e+06   1.42164928e+06   5.65968704e+05\n",
        "   2.25316208e+05   8.97000000e+04   3.57102040e+04   1.42164940e+04\n",
        "   5.65968750e+03   2.25316275e+03   8.97000000e+02   3.57102062e+02\n",
        "   1.42164875e+02   5.65969023e+01   2.25316270e+01]\n"
       ]
      }
     ],
     "prompt_number": 25
    },
    {
     "cell_type": "code",
     "collapsed": false,
     "input": [
      "px_scale = 0.55e-6/2\n",
      "fwhm = 2*px_scale\n",
      "i_nPh = 1.0/nPh\n",
      "u = cex/fwhm**2\n",
      "v = cey/fwhm**2\n",
      "px = polyfit(i_nPh , u,1)\n",
      "py = polyfit(i_nPh , v,1)\n",
      "print px, py"
     ],
     "language": "python",
     "metadata": {},
     "outputs": [
      {
       "output_type": "stream",
       "stream": "stdout",
       "text": [
        "[  2.90241749e-01  -1.28425003e-05] [  2.87009912e-01  -1.86914587e-06]\n"
       ]
      }
     ],
     "prompt_number": 26
    },
    {
     "cell_type": "code",
     "collapsed": false,
     "input": [
      "fig, ax = plt.subplots()\n",
      "ax.plot(i_nPh,u,'.',label='x data')\n",
      "ax.plot(i_nPh,v,'.',label='y data')\n",
      "ax.plot(i_nPh,px[0]/nPh + px[1],label='x fit')\n",
      "ax.plot(i_nPh,py[0]/nPh + py[1],label='y fit')\n",
      "ax.plot(i_nPh,photonNoise(nPh,fwhm)/fwhm**2,label='analytic')\n",
      "ax,grid()\n",
      "ax.set_xlabel('1/Nph')\n",
      "ax.legend(loc=0)"
     ],
     "language": "python",
     "metadata": {},
     "outputs": [
      {
       "metadata": {},
       "output_type": "pyout",
       "prompt_number": 27,
       "text": [
        "<matplotlib.legend.Legend at 0x7fabc6cc8050>"
       ]
      },
      {
       "metadata": {},
       "output_type": "display_data",
       "png": "[encoded data removed]",
       "text": [
        "<matplotlib.figure.Figure at 0x7fabc6e733d0>"
       ]
      }
     ],
     "prompt_number": 27
    },
    {
     "cell_type": "heading",
     "level": 1,
     "metadata": {},
     "source": [
      "Centroiding error versus read-out noise"
     ]
    },
    {
     "cell_type": "heading",
     "level": 3,
     "metadata": {},
     "source": [
      "Analytical expression"
     ]
    },
    {
     "cell_type": "code",
     "collapsed": false,
     "input": [
      "def readOutNoise(ron,pxScale,nPh,Ns):\n",
      "    return (pxScale*ron/nPh)**2*Ns**4/12"
     ],
     "language": "python",
     "metadata": {},
     "outputs": [],
     "prompt_number": 28
    },
    {
     "cell_type": "heading",
     "level": 3,
     "metadata": {},
     "source": [
      "Numerical estimation"
     ]
    },
    {
     "cell_type": "code",
     "collapsed": false,
     "input": [
      "ron = np.linspace(0,10,11)\n",
      "print ron"
     ],
     "language": "python",
     "metadata": {},
     "outputs": [
      {
       "output_type": "stream",
       "stream": "stdout",
       "text": [
        "[  0.   1.   2.   3.   4.   5.   6.   7.   8.   9.  10.]\n"
       ]
      }
     ],
     "prompt_number": 29
    },
    {
     "cell_type": "code",
     "collapsed": false,
     "input": [
      "cex = np.zeros(ron.size)\n",
      "cey = np.zeros(ron.size)\n",
      "nPh = np.zeros(ron.size)\n",
      "for x in range(ron.size):\n",
      "    nPh[x], cex[x],cey[x] = wfeVsNoise(8,ron=x)"
     ],
     "language": "python",
     "metadata": {},
     "outputs": [],
     "prompt_number": 30
    },
    {
     "cell_type": "code",
     "collapsed": false,
     "input": [
      "u = nPh[0]**2*cex/px_scale**2\n",
      "v = nPh[0]**2*cey/px_scale**2\n",
      "ron2 = ron**2\n",
      "px = polyfit(ron2 , u,1)\n",
      "py = polyfit(ron2 , v,1)\n",
      "print px, py"
     ],
     "language": "python",
     "metadata": {},
     "outputs": [
      {
       "output_type": "stream",
       "stream": "stdout",
       "text": [
        "[  351.70916492  6127.12459799] [  337.07687427  6336.11703604]\n"
       ]
      }
     ],
     "prompt_number": 31
    },
    {
     "cell_type": "code",
     "collapsed": false,
     "input": [
      "fig, ax = plt.subplots()\n",
      "ax.plot(ron2,u,'.',label='x data')\n",
      "ax.plot(ron2,v,'.',label='y data')\n",
      "ax.plot(ron2,px[0]*ron2 + px[1],label='x fit')\n",
      "ax.plot(ron2,py[0]*ron2 + py[1],label='y fit')\n",
      "ax.plot(ron2,nPh[0]**2*readOutNoise(ron,px_scale,nPh[0],n*2)/px_scale**2+0.5*(px[1]+py[1]),'--',label='analytic')\n",
      "ax.grid()\n",
      "ax.set_xlabel('ron$^2$')\n",
      "ax.legend(loc=0)"
     ],
     "language": "python",
     "metadata": {},
     "outputs": [
      {
       "metadata": {},
       "output_type": "pyout",
       "prompt_number": 32,
       "text": [
        "<matplotlib.legend.Legend at 0x7fabc6bc78d0>"
       ]
      },
      {
       "metadata": {},
       "output_type": "display_data",
       "png": "[encoded data removed]",
       "text": [
        "<matplotlib.figure.Figure at 0x7fabc6c83f50>"
       ]
      }
     ],
     "prompt_number": 32
    },
    {
     "cell_type": "code",
     "collapsed": false,
     "input": [
      "0.25/math.log(2)"
     ],
     "language": "python",
     "metadata": {},
     "outputs": [
      {
       "metadata": {},
       "output_type": "pyout",
       "prompt_number": 33,
       "text": [
        "0.36067376022224085"
       ]
      }
     ],
     "prompt_number": 33
    },
    {
     "cell_type": "code",
     "collapsed": false,
     "input": [
      "(2*n)**4/12"
     ],
     "language": "python",
     "metadata": {},
     "outputs": [
      {
       "metadata": {},
       "output_type": "pyout",
       "prompt_number": 34,
       "text": [
        "341"
       ]
      }
     ],
     "prompt_number": 34
    }
   ],
   "metadata": {}
  }
 ]
}