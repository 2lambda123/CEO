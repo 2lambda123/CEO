{
 "cells": [
  {
   "cell_type": "code",
   "execution_count": 1,
   "metadata": {
    "collapsed": false
   },
   "outputs": [
    {
     "name": "stdout",
     "output_type": "stream",
     "text": [
      "Populating the interactive namespace from numpy and matplotlib\n"
     ]
    }
   ],
   "source": [
    "import math\n",
    "import numpy as np\n",
    "import ceo\n",
    "%pylab inline"
   ]
  },
  {
   "cell_type": "code",
   "execution_count": 2,
   "metadata": {
    "collapsed": true
   },
   "outputs": [],
   "source": [
    "nLenslet = 1\n",
    "n = 401\n",
    "nPx = n*nLenslet+1\n",
    "D = 25.5\n",
    "n_radius = nPx\n",
    "#onAxis = ceo.Source(\"R\",zenith=0.*math.pi/180/3600,azimuth=0*math.pi/4,\n",
    "#                    rays_box_size=D,rays_box_sampling=nPx,rays_origin=[0.0,0.0,-25])\n",
    "src    = ceo.Source(\"R\",zenith=9*ceo.constants.ARCMIN2RAD,azimuth=0*math.pi/4,\n",
    "                    rays_box_size=D,rays_box_sampling=nPx,rays_origin=[0.0,0.0,25])\n",
    "GMT = ceo.GMT_MX(D,nPx)\n",
    "wfs = ceo.ShackHartmann(1,nPx-1,D,N_PX_IMAGE=nPx)"
   ]
  },
  {
   "cell_type": "code",
   "execution_count": 3,
   "metadata": {
    "collapsed": true
   },
   "outputs": [],
   "source": [
    "GMT.propagate(src)"
   ]
  },
  {
   "cell_type": "code",
   "execution_count": null,
   "metadata": {
    "collapsed": false
   },
   "outputs": [
    {
     "data": {
      "text/plain": [
       "array([ 0.00261799], dtype=float32)"
      ]
     },
     "execution_count": 4,
     "metadata": {},
     "output_type": "execute_result"
    }
   ],
   "source": [
    "src.zenith"
   ]
  },
  {
   "cell_type": "code",
   "execution_count": null,
   "metadata": {
    "collapsed": false
   },
   "outputs": [],
   "source": [
    "sps = ceo.SegmentPistonSensor(GMT.M1,src)"
   ]
  },
  {
   "cell_type": "code",
   "execution_count": null,
   "metadata": {
    "collapsed": false
   },
   "outputs": [],
   "source": [
    "rc = 4.387\n",
    "rp = 7.543\n",
    "R = D/2\n",
    "fig, ax1 = subplots()\n",
    "fig.set_size_inches((10,10))\n",
    "#ax1.imshow(src.amplitude.host(),extent=[-R,R,-R,R],interpolation='None',origin='lower')\n",
    "ax1.imshow(src.amplitude.host()+sps.M.f.host(shape=(nPx,nPx)),extent=[-R,R,-R,R],interpolation='None',cmap='Blues',origin='lower')\n",
    "ax1.grid()\n",
    "ax1.set_xticks([-rp,-rc,rc,rp])\n",
    "ax1.set_yticks([-rp,-rc,rc,rp])\n",
    "c1 = Circle((0,0),radius=rc, color='r', fill=False)\n",
    "ax1.add_patch(c1)\n",
    "c2 = Circle((0,0),radius=rp, color='r', fill=False)\n",
    "ax1.add_patch(c2)"
   ]
  },
  {
   "cell_type": "code",
   "execution_count": null,
   "metadata": {
    "collapsed": false
   },
   "outputs": [],
   "source": [
    "sps.M"
   ]
  },
  {
   "cell_type": "code",
   "execution_count": null,
   "metadata": {
    "collapsed": true
   },
   "outputs": [],
   "source": []
  }
 ],
 "metadata": {
  "kernelspec": {
   "display_name": "Python 2",
   "language": "python",
   "name": "python2"
  },
  "language_info": {
   "codemirror_mode": {
    "name": "ipython",
    "version": 2
   },
   "file_extension": ".py",
   "mimetype": "text/x-python",
   "name": "python",
   "nbconvert_exporter": "python",
   "pygments_lexer": "ipython2",
   "version": "2.7.10"
  }
 },
 "nbformat": 4,
 "nbformat_minor": 0
}
